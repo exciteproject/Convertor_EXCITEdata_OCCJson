{
 "cells": [
  {
   "cell_type": "code",
   "execution_count": 1,
   "metadata": {
    "collapsed": true
   },
   "outputs": [],
   "source": [
    "import urllib\n",
    "from urllib.request import urlopen\n",
    "import json\n",
    "import re\n",
    "from sowiportharvestor import *\n",
    "from ssoarharvestor import *\n",
    "from aux_funs import *\n",
    "from convert_ssoar_dict import *\n",
    "import numpy as np\n",
    "import operator"
   ]
  },
  {
   "cell_type": "code",
   "execution_count": 2,
   "metadata": {
    "collapsed": true
   },
   "outputs": [],
   "source": [
    "filter_list=[\"id\",\"issn\",\"journal_full_txt_mv\",\"language\",\"norm_pagerange_str\",\"norm_publishDate_str\",\n",
    "             \"title_full\",\"isbn\",\"person_author_txtP_mv\",\"recordfulltext_str_mv\",\"recordurl_str_mv\",\n",
    "             \"recordurn_str_mv\",\"recorddoi_str_mv\",\"doctype_lit_str\"]"
   ]
  },
  {
   "cell_type": "code",
   "execution_count": 3,
   "metadata": {
    "collapsed": false
   },
   "outputs": [],
   "source": [
    "#sowidict=showrecods_sowiport_id(\"csa-ps-200522134\",create_filter(filter_list))"
   ]
  },
  {
   "cell_type": "code",
   "execution_count": 4,
   "metadata": {
    "collapsed": true
   },
   "outputs": [],
   "source": [
    "sowi_dublicate = json.load(open('sowiport_duplicates_17_03_14.json'))"
   ]
  },
  {
   "cell_type": "code",
   "execution_count": 5,
   "metadata": {
    "collapsed": false
   },
   "outputs": [],
   "source": [
    "#ssoarharvest()"
   ]
  },
  {
   "cell_type": "code",
   "execution_count": 6,
   "metadata": {
    "collapsed": false
   },
   "outputs": [],
   "source": [
    "total_ssoar_handler,dictofrecords_h=json_to_new_dict()"
   ]
  },
  {
   "cell_type": "code",
   "execution_count": 7,
   "metadata": {
    "collapsed": false
   },
   "outputs": [],
   "source": [
    "from ssoar_sowi import *"
   ]
  },
  {
   "cell_type": "code",
   "execution_count": 8,
   "metadata": {
    "collapsed": false
   },
   "outputs": [
    {
     "name": "stderr",
     "output_type": "stream",
     "text": [
      "C:\\Users\\ghavimbm\\Documents\\test\\modulize\\ssoar_sowi.py:34: SettingWithCopyWarning: \n",
      "A value is trying to be set on a copy of a slice from a DataFrame.\n",
      "Try using .loc[row_indexer,col_indexer] = value instead\n",
      "\n",
      "See the caveats in the documentation: http://pandas.pydata.org/pandas-docs/stable/indexing.html#indexing-view-versus-copy\n",
      "  sowiport_ssoar_info[\"recordurl_str_mv\"]=sowiport_ssoar_info[\"recordurl_str_mv\"].apply(rfi)\n"
     ]
    }
   ],
   "source": [
    "match_info_s=sowi_ssoar_match()"
   ]
  },
  {
   "cell_type": "code",
   "execution_count": 9,
   "metadata": {
    "collapsed": false
   },
   "outputs": [],
   "source": [
    "match_info_s[\"source_ssoar_id\"]=match_info_s[\"source_ssoar_id\"].apply(float).apply(int).apply(str)"
   ]
  },
  {
   "cell_type": "code",
   "execution_count": 10,
   "metadata": {
    "collapsed": false
   },
   "outputs": [],
   "source": [
    "match_info_s=match_info_s.drop_duplicates([\"source_ssoar_id\",\"ref_text\"]).sort_values(\"source_ssoar_id\")"
   ]
  },
  {
   "cell_type": "code",
   "execution_count": 11,
   "metadata": {
    "collapsed": false
   },
   "outputs": [],
   "source": [
    "match_info_s=match_info_s[match_info_s[\"source_ssoar_id\"]!=match_info_s[\"ssoar_match\"]]"
   ]
  },
  {
   "cell_type": "code",
   "execution_count": 13,
   "metadata": {
    "collapsed": false
   },
   "outputs": [],
   "source": [
    "def ret_int(x):\n",
    "    try:\n",
    "        y=float(x)\n",
    "        x=int(x)\n",
    "        return str(x)\n",
    "    except:\n",
    "        return np.nan"
   ]
  },
  {
   "cell_type": "code",
   "execution_count": 14,
   "metadata": {
    "collapsed": false
   },
   "outputs": [],
   "source": [
    "match_info_s[\"ssoar_match\"]=match_info_s[\"ssoar_match\"].apply(ret_int)"
   ]
  },
  {
   "cell_type": "code",
   "execution_count": 15,
   "metadata": {
    "collapsed": false
   },
   "outputs": [],
   "source": [
    "#metadatavalue=metavalgen(match_info_s)"
   ]
  },
  {
   "cell_type": "code",
   "execution_count": 16,
   "metadata": {
    "collapsed": false
   },
   "outputs": [],
   "source": [
    "#internal id\n",
    "#example_dict=retunrn_value_for_an_id(34979,metadatavalue)"
   ]
  },
  {
   "cell_type": "code",
   "execution_count": 17,
   "metadata": {
    "collapsed": true
   },
   "outputs": [],
   "source": [
    "ssoar_excit_sc=match_info_s"
   ]
  },
  {
   "cell_type": "code",
   "execution_count": 19,
   "metadata": {
    "collapsed": false
   },
   "outputs": [],
   "source": [
    "listof_ssoar_id=list(set(ssoar_excit_sc[\"source_ssoar_id\"]))"
   ]
  },
  {
   "cell_type": "code",
   "execution_count": 20,
   "metadata": {
    "collapsed": true
   },
   "outputs": [],
   "source": [
    "ssoar_excit_sc[\"ssoar_match\"]=ssoar_excit_sc[\"ssoar_match\"].apply(str)"
   ]
  },
  {
   "cell_type": "code",
   "execution_count": 21,
   "metadata": {
    "collapsed": true
   },
   "outputs": [],
   "source": [
    "ssoar_excit_sc.reset_index(drop=True,inplace=True)"
   ]
  },
  {
   "cell_type": "code",
   "execution_count": 22,
   "metadata": {
    "collapsed": true
   },
   "outputs": [],
   "source": [
    "total_ssoar_handler_int=[]\n",
    "count_err=0\n",
    "for i in total_ssoar_handler:\n",
    "    try:\n",
    "        total_ssoar_handler_int.append(int(i))\n",
    "    except:\n",
    "        count_err+=1"
   ]
  },
  {
   "cell_type": "markdown",
   "metadata": {},
   "source": [
    "# Generate Opencitation (br, be, id , ar, ra, re)\n",
    "#"
   ]
  },
  {
   "cell_type": "code",
   "execution_count": 23,
   "metadata": {
    "collapsed": true
   },
   "outputs": [],
   "source": [
    "def creat_iden_part1(set_source_dict_keys,sowi_id,source_dict):\n",
    "    id_counter=0\n",
    "    temp_id_list=[]\n",
    "    ids_only_list=[]\n",
    "    if 21 in list(set_source_dict_keys):\n",
    "        temp_id_set={}\n",
    "        temp_id_set[\"a\"]=\"unique_identifier\"\n",
    "        temp_id_set[\"type\"]=\"issn\"\n",
    "        temp_id_set[\"id\"]=source_dict[21][0]\n",
    "        ids_only_list.append(\"gid:01100105\"+str(sowi_id)+str(id_counter))\n",
    "        temp_id_set[\"iri\"]=\"gid:01100105\"+str(sowi_id)+str(id_counter)\n",
    "        temp_id_set[\"label\"]=\"identifier 01100105\"+str(sowi_id)+str(id_counter)+\" [id/01100105\"+str(sowi_id)+str(id_counter)+\"]\"\n",
    "        id_counter+=1\n",
    "        temp_id_list.append(temp_id_set)\n",
    "    if 20 in list(set_source_dict_keys):\n",
    "        temp_id_set={}\n",
    "        temp_id_set[\"a\"]=\"unique_identifier\"\n",
    "        temp_id_set[\"type\"]=\"isbn\"\n",
    "        #temp_id_set[\"id\"]=source_dict[20][-1]\n",
    "        temp_id_set[\"id\"]=source_dict[20][0]\n",
    "        ids_only_list.append(\"gid:01100105\"+str(sowi_id)+str(id_counter))\n",
    "        temp_id_set[\"iri\"]=\"gid:01100005\"+str(sowi_id)+str(id_counter)\n",
    "        temp_id_set[\"label\"]=\"identifier 01100105\"+str(sowi_id)+str(id_counter)+\" [id/01100105\"+str(sowi_id)+str(id_counter)+\"]\"\n",
    "        id_counter+=1\n",
    "        temp_id_list.append(temp_id_set)\n",
    "    if 137 in list(set_source_dict_keys):\n",
    "        temp_id_set={}\n",
    "        temp_id_set[\"a\"]=\"unique_identifier\"\n",
    "        temp_id_set[\"type\"]=\"doi\"\n",
    "        #temp_id_set[\"id\"]=source_dict[137][-1]\n",
    "        temp_id_set[\"id\"]=source_dict[137][0]\n",
    "        ids_only_list.append(\"gid:01100105\"+str(sowi_id)+str(id_counter))\n",
    "        temp_id_set[\"iri\"]=\"gid:01100105\"+str(sowi_id)+str(id_counter)\n",
    "        temp_id_set[\"label\"]=\"identifier 01100105\"+str(sowi_id)+str(id_counter)+\" [id/01100105\"+str(sowi_id)+str(id_counter)+\"]\"\n",
    "        id_counter+=1\n",
    "        temp_id_list.append(temp_id_set)\n",
    "    if 85 in list(set_source_dict_keys):\n",
    "        temp_id_set={}\n",
    "        temp_id_set[\"a\"]=\"unique_identifier\"\n",
    "        temp_id_set[\"type\"]=\"urn\"\n",
    "        #temp_id_set[\"id\"]=source_dict[85][-1]\n",
    "        temp_id_set[\"id\"]=source_dict[85][0]\n",
    "        ids_only_list.append(\"gid:01100105\"+str(sowi_id)+str(id_counter))\n",
    "        temp_id_set[\"iri\"]=\"gid:01100105\"+str(sowi_id)+str(id_counter)\n",
    "        temp_id_set[\"label\"]=\"identifier 01100105\"+str(sowi_id)+str(id_counter)+\" [id/01100105\"+str(sowi_id)+str(id_counter)+\"]\"\n",
    "        id_counter+=1\n",
    "        temp_id_list.append(temp_id_set)\n",
    "    return ids_only_list,temp_id_list"
   ]
  },
  {
   "cell_type": "code",
   "execution_count": 24,
   "metadata": {
    "collapsed": false
   },
   "outputs": [],
   "source": [
    "def sowiport_br(ref_id,sowi_id):\n",
    "    br_temp1={\"a\":[\"document\"], \n",
    "              \"label\":\"bibliographic resource 0110050001\"+\n",
    "               str(ref_id)+\" [br/0110050001\"+str(ref_id)+\"]\"}\n",
    "    br_temp1[\"iri\"]=\"gbr:0110050001\"+str(ref_id)  \n",
    "    sowi_dict=showrecods_sowiport_id(sowi_id,create_filter(filter_list))\n",
    "    if 64 in list(sowi_dict.keys()):\n",
    "        br_temp1[\"title\"]=sowi_dict[64]\n",
    "    if 15 in list(sowi_dict.keys()):    \n",
    "        br_temp1[\"date\"]={\"value\":str(sowi_dict[15]),\"a\":\"year\"}\n",
    "        \n",
    "    cont_list=[]    \n",
    "    if 3 in list(sowi_dict.keys()):\n",
    "        for index_aut,author_item in enumerate(sowi_dict[3]):\n",
    "            ar_dict={\"iri\": \"gar:0110030001\"+str(index_aut)+str(sowi_id), \"a\":\"role\",\n",
    "                         \"label\": \"agent role 0110030001\"+str(index_aut)+str(sowi_id)+\" [ar/0110030001\"+str(index_aut)+str(sowi_id)+\"]\",       \n",
    "                         \"role_type\": \"author\", \n",
    "                         \"role_of\": {\"iri\": \"gra:0110040001\"+str(index_aut)+str(sowi_id), \"a\":\"agent\",\n",
    "                         \"label\": \"responsible agent 0110040001\"+str(index_aut)+str(sowi_id)+\" [ra/0110040001\"+str(index_aut)+str(sowi_id)+\"]\",\n",
    "                                }\n",
    "                         }\n",
    "            ais_ls=author_item.split(\",\")\n",
    "            if len(ais_ls)>1:\n",
    "                ar_dict[\"role_of\"][\"fname\"]= ais_ls[0]            \n",
    "                ar_dict[\"role_of\"][\"gname\"]= ais_ls[1]\n",
    "            else:\n",
    "                ar_dict[\"role_of\"][\"name\"]=ais_ls[0]\n",
    "                \n",
    "            cont_list.append(ar_dict)\n",
    "    if len(cont_list)>0:        \n",
    "        br_temp1[\"contributor\"]=cont_list\n",
    "    set_source_dict_keys=set(list(sowi_dict.keys()))\n",
    "    only_id_list,temp_id_list=creat_iden_part1(set_source_dict_keys,sowi_id,sowi_dict)\n",
    "    if len(temp_id_list)>0:\n",
    "        br_temp1[\"identifier\"]=temp_id_list\n",
    "    return br_temp1"
   ]
  },
  {
   "cell_type": "code",
   "execution_count": 25,
   "metadata": {
    "collapsed": true
   },
   "outputs": [],
   "source": [
    "def Gen_replacement_id(id_rep,dict_name_id):\n",
    "    if id_rep in list(dict_name_id.keys()):\n",
    "        id_rep=dict_name_id[id_rep]\n",
    "    else:\n",
    "        if not bool(dict_name_id):\n",
    "            dict_name_id[id_rep]=0\n",
    "            id_rep=0\n",
    "        else:\n",
    "            max_int=max(dict_name_id.iteritems(), key=operator.itemgetter(1))[0]+1\n",
    "            dict_name_id[id_rep]=max_int\n",
    "            id_rep=max_int\n",
    "    return be_dict_name_id,be_id_rep"
   ]
  },
  {
   "cell_type": "code",
   "execution_count": 26,
   "metadata": {
    "collapsed": true
   },
   "outputs": [],
   "source": [
    "def json_generator(listof_ssoar_id):\n",
    "    list_of_br=[]\n",
    "    ls_seen_sowiport=[]\n",
    "    dict_seen_sowiport={}\n",
    "    for ssoar_id in listof_ssoar_id:\n",
    "        tem_df=ssoar_excit_sc[ssoar_excit_sc[\"source_ssoar_id\"]==ssoar_id]\n",
    "        index_temp_df=list(tem_df.index)\n",
    "        ref_list_be=[]\n",
    "        ref_list_cit_br=[]\n",
    "        br_temp={}\n",
    "        for index_references_in_a_pdf in index_temp_df:\n",
    "            be_dict={\"iri\":\"gbe:011001\"+str(tem_df.ix[index_references_in_a_pdf][\"ref_id\"]),\n",
    "                        \"a\":\"entry\",\n",
    "                        \"label\": \"bibliographic entry 011001\"+str(tem_df.ix[index_references_in_a_pdf][\"ref_id\"])+\" [be/011001\"+str(tem_df.ix[index_references_in_a_pdf][\"ref_id\"])+\"]\",\n",
    "                        \"content\":tem_df.ix[index_references_in_a_pdf][\"ref_text\"]}\n",
    "        \n",
    "            if tem_df.ix[index_references_in_a_pdf][\"ssoar_match\"]!='nan' and tem_df.ix[index_references_in_a_pdf][\"ssoar_match\"] in total_ssoar_handler:\n",
    "                    be_dict[\"crossref\"]=\"gbr:0110050000\"+str(tem_df.ix[index_references_in_a_pdf][\"ssoar_match\"])\n",
    "                    \n",
    "            elif tem_df.ix[index_references_in_a_pdf][\"sowi_id\"]!='error' and tem_df.ix[index_references_in_a_pdf][\"sowi_id\"]!='not_match':\n",
    "                sowid_item=tem_df.ix[index_references_in_a_pdf][\"sowi_id\"]\n",
    "                try:\n",
    "                    setofdubsowi=set(sowi_dublicate[sowid_item])\n",
    "                except: \n",
    "                    setofdubsowi=set([sowid_item])\n",
    "                listinter_sowid=list(set(ls_seen_sowiport).intersection(setofdubsowi))\n",
    "                if len(listinter_sowid)>0:\n",
    "                    be_dict[\"crossref\"]=\"gbr:0110050001\"+dict_seen_sowiport[listinter_sowid[0]]\n",
    "                else:\n",
    "                    try:\n",
    "                        be_dict[\"crossref\"]=\"gbr:0110050001\"+str(tem_df.ix[index_references_in_a_pdf][\"ref_id\"])\n",
    "                        br_temp1=sowiport_br(tem_df.ix[index_references_in_a_pdf][\"ref_id\"],tem_df.ix[index_references_in_a_pdf][\"sowi_id\"])\n",
    "                        list_of_br.append(br_temp1)\n",
    "                        ls_seen_sowiport.append(sowid_item)\n",
    "                        dict_seen_sowiport[sowid_item]=str(tem_df.ix[index_references_in_a_pdf][\"ref_id\"])\n",
    "                    except:\n",
    "                        be_dict[\"crossref\"]=\"gbr:0110050002\"+str(tem_df.ix[index_references_in_a_pdf][\"ref_id\"])\n",
    "                        br_temp1={\"a\":[\"document\"], \n",
    "                          \"label\":\"bibliographic resource 0110050002\"+\n",
    "                          str(tem_df.ix[index_references_in_a_pdf][\"ref_id\"])+\n",
    "                          \" [br/0110050002\"+str(tem_df.ix[index_references_in_a_pdf][\"ref_id\"])+\"]\"}\n",
    "                        br_temp1[\"iri\"]=\"gbr:0110050002\"+str(tem_df.ix[index_references_in_a_pdf][\"ref_id\"])\n",
    "                        list_of_br.append(br_temp1)                                   \n",
    "            else:\n",
    "                be_dict[\"crossref\"]=\"gbr:0110050002\"+str(tem_df.ix[index_references_in_a_pdf][\"ref_id\"])\n",
    "                br_temp1={\"a\":[\"document\"], \n",
    "                          \"label\":\"bibliographic resource 0110050002\"+\n",
    "                          str(tem_df.ix[index_references_in_a_pdf][\"ref_id\"])+\n",
    "                          \" [br/0110050002\"+str(tem_df.ix[index_references_in_a_pdf][\"ref_id\"])+\"]\"}\n",
    "                br_temp1[\"iri\"]=\"gbr:0110050002\"+str(tem_df.ix[index_references_in_a_pdf][\"ref_id\"])\n",
    "                list_of_br.append(br_temp1)\n",
    "            if tem_df.ix[index_references_in_a_pdf][\"ssoar_match\"]!=str(ssoar_id):    \n",
    "                ref_list_be.append(be_dict)\n",
    "                ref_list_cit_br.append(be_dict[\"crossref\"])\n",
    "                \n",
    "        if len(ref_list_be) >0:   \n",
    "            br_temp[\"reference\"]=ref_list_be\n",
    "            br_temp[\"citation\"]=ref_list_cit_br\n",
    "        br_temp[\"iri\"]=\"gbr:0110050000\"+str(ssoar_id)\n",
    "        #source_dict=eval(tem_df.ix[index_references_in_a_pdf][\"ssoar_source_dict\"])\n",
    "        #indexforssoardict=str(tem_df.ix[index_references_in_a_pdf][\"source_ssoar_id\"])\n",
    "        source_dict=dictofrecords_h[str(ssoar_id)]\n",
    "\n",
    "        br_temp[\"a\"]=[\"document\",source_dict[101].replace(\"incollection\",\"inbook\").replace(\"recension\",\"review\").replace(\"monograph\",\"book\")]\n",
    "\n",
    "        list_source_dict_keys=list(source_dict.keys())\n",
    "        setofindex_pd={111,104,116,118,119}\n",
    "        set_source_dict_keys=set(list_source_dict_keys)\n",
    "        checkmylenght=list(setofindex_pd.intersection(set_source_dict_keys))\n",
    "        if  len(checkmylenght)>0:\n",
    "            gre_dict={\"iri\":\"gre:0110020000\"+str(ssoar_id), \"a\": [ \"generic_format\", \"digital_format\"], \"label\": \"resource embodiment 0110020000\"+str(ssoar_id)+ \" [re/0110020000\"+str(ssoar_id)+ \"]\",\"mime_type\": \"pdf\"}\n",
    "            if 104 in checkmylenght:\n",
    "                if '-' in source_dict[104]:\n",
    "                    gre_dict[\"fpage\"]=str(source_dict[104]).split('-')[0]\n",
    "                    gre_dict[\"lpage\"]=str(source_dict[104]).split('-')[1]\n",
    "        \n",
    "        \n",
    "        cont_list=[]\n",
    "        if 3 in list(source_dict.keys()):\n",
    "            for index_aut,author_item in enumerate(source_dict[3]):\n",
    "                ar_dict={\"iri\": \"gar:0110030000\"+str(index_aut)+str(ssoar_id), \"a\":\"role\",\n",
    "                         \"label\": \"agent role 0110030000\"+str(index_aut)+str(ssoar_id)+\" [ar/0110030000\"+str(index_aut)+str(ssoar_id)+\"]\",       \n",
    "                         \"role_type\": \"author\", \n",
    "                         \"role_of\": {\"iri\": \"gra:0110040000\"+str(index_aut)+str(ssoar_id), \"a\":\"agent\",\n",
    "                         \"label\": \"responsible agent 0110040000\"+str(index_aut)+str(ssoar_id)+\" [ra/0110040000\"+str(index_aut)+str(ssoar_id)+\"]\",\n",
    "                                }\n",
    "                         }\n",
    "                ais_ls=author_item.split(\",\")\n",
    "                if len(ais_ls)>1:\n",
    "                    ar_dict[\"role_of\"][\"fname\"]= ais_ls[0]            \n",
    "                    ar_dict[\"role_of\"][\"gname\"]= ais_ls[1]\n",
    "                else:\n",
    "                    ar_dict[\"role_of\"][\"name\"]=ais_ls[0]\n",
    "                \n",
    "                cont_list.append(ar_dict) \n",
    "\n",
    "        #br_temp[\"format\"]= [gre_dict]\n",
    "        br_temp[\"label\"]= \"bibliographic resource 0110050000\"+str(ssoar_id)+\" [br/0110050000\"+str(ssoar_id)+\"]\"\n",
    "        #br_temp[\"title\"]=source_dict[64][-1]\n",
    "        br_temp[\"title\"]=source_dict[64]\n",
    "        if len(cont_list):\n",
    "            br_temp[\"contributor\"]=cont_list\n",
    "        #br_temp[\"year\"]=source_dict[15][-1]\n",
    "        year_entity = re.findall('(\\d{4})',source_dict[15])\n",
    "        br_temp[\"date\"]={\"value\":str(year_entity[0]),\"a\":\"year\"}\n",
    "        only_id_list,temp_id_list=creat_iden_part(set_source_dict_keys,ssoar_id,source_dict)\n",
    "        if len(temp_id_list)>0:\n",
    "            br_temp[\"identifier\"]=temp_id_list\n",
    "        \n",
    "        if \"reference\" in list(br_temp.keys()):\n",
    "            list_of_br.append(br_temp)\n",
    "    return list_of_br"
   ]
  },
  {
   "cell_type": "code",
   "execution_count": 27,
   "metadata": {
    "collapsed": true
   },
   "outputs": [],
   "source": [
    "def Generat_br_for_remained_match(cross_ref_list):\n",
    "    br_list=[]\n",
    "    for br_rec_new_id in cross_ref_list:\n",
    "        try:\n",
    "            source_dict=dictofrecords_h[br_rec_new_id]\n",
    "            br_temp={\"iri\": \"gbr:0110050000\"+br_rec_new_id,\n",
    "                      \"a\":[\"document\",source_dict[101].replace(\"incollection\",\"inbook\").replace(\"recension\",\"review\").replace(\"monograph\",\"book\")], \n",
    "                      \"label\":\"bibliographic resource 0110050000\"+br_rec_new_id+\" [br/0110050000\"+br_rec_new_id+\"]\",\n",
    "                      \"title\":source_dict[64]\n",
    "                     }\n",
    "            cont_list=[]\n",
    "            if 3 in list(source_dict.keys()):\n",
    "                for index_aut,author_item in enumerate(source_dict[3]):\n",
    "                    ar_dict={\"iri\": \"gar:0110030000\"+str(index_aut)+br_rec_new_id, \"a\":\"role\",\n",
    "                             \"label\": \"agent role 0110030000\"+str(index_aut)+br_rec_new_id+\" [ar/0110030000\"+str(index_aut)+br_rec_new_id+\"]\",       \n",
    "                             \"role_type\": \"author\", \n",
    "                             \"role_of\": {\"iri\": \"gra:0110040000\"+str(index_aut)+br_rec_new_id, \"a\":\"agent\",\n",
    "                             \"label\": \"responsible agent 0110040000\"+str(index_aut)+br_rec_new_id+\" [ra/0110040000\"+str(index_aut)+br_rec_new_id+\"]\",\n",
    "                            }\n",
    "                         }\n",
    "                    ais_ls=author_item.split(\",\")\n",
    "                    if len(ais_ls)>1:\n",
    "                        ar_dict[\"role_of\"][\"fname\"]= ais_ls[0]            \n",
    "                        ar_dict[\"role_of\"][\"gname\"]= ais_ls[1]\n",
    "                    else:\n",
    "                        ar_dict[\"role_of\"][\"name\"]=ais_ls[0]\n",
    "                    cont_list.append(ar_dict)\n",
    "            if len(cont_list)>0:        \n",
    "                br_temp[\"contributor\"]=cont_list\n",
    "            year_entity = re.findall('(\\d{4})',source_dict[15])\n",
    "            br_temp[\"date\"]={\"value\":str(year_entity[0]),\"a\":\"year\"}\n",
    "            list_source_dict_keys=list(source_dict.keys())\n",
    "            set_source_dict_keys=set(list_source_dict_keys)\n",
    "            only_id_list,temp_id_list=creat_iden_part(set_source_dict_keys,int(br_rec_new_id),source_dict)\n",
    "            if len(temp_id_list)>0:\n",
    "                br_temp[\"identifier\"]=temp_id_list\n",
    "            br_list.append(br_temp)\n",
    "            #print(source_dict)\n",
    "        except:\n",
    "            pass\n",
    "        #tem_br_rec[\"iri\"]=\"gbr:0110050000\"+str(br_rec_new_id)\n",
    "        #br_temp[\"a\"]=[\"document\",source_dict[101].replace(\"incollection\",\"inbook\").replace(\"recension\",\"ReviewArticle\")]\n",
    "    return br_list\n",
    "        \n",
    "        \n",
    "    "
   ]
  },
  {
   "cell_type": "code",
   "execution_count": 28,
   "metadata": {
    "collapsed": false
   },
   "outputs": [],
   "source": [
    "deltaset=set(listof_ssoar_id)-set(total_ssoar_handler)"
   ]
  },
  {
   "cell_type": "code",
   "execution_count": 29,
   "metadata": {
    "collapsed": false
   },
   "outputs": [],
   "source": [
    "listof_ssoar_id1=list(set(listof_ssoar_id)-deltaset)  # one item is removed (2667)"
   ]
  },
  {
   "cell_type": "code",
   "execution_count": 30,
   "metadata": {
    "collapsed": false
   },
   "outputs": [
    {
     "name": "stdout",
     "output_type": "stream",
     "text": [
      "Wall time: 2h 34s\n"
     ]
    }
   ],
   "source": [
    "%%time\n",
    "list_of_br=json_generator(listof_ssoar_id1)"
   ]
  },
  {
   "cell_type": "code",
   "execution_count": 31,
   "metadata": {
    "collapsed": true
   },
   "outputs": [],
   "source": [
    "df_br_list=pd.DataFrame(list_of_br)"
   ]
  },
  {
   "cell_type": "code",
   "execution_count": 32,
   "metadata": {
    "collapsed": true
   },
   "outputs": [],
   "source": [
    "cross_ref_list=[]\n",
    "for item in list(df_br_list[~df_br_list[\"reference\"].isnull()][\"reference\"]):\n",
    "    for item1 in item:\n",
    "        cross_ref_list.append(item1[\"crossref\"])"
   ]
  },
  {
   "cell_type": "code",
   "execution_count": 34,
   "metadata": {
    "collapsed": false
   },
   "outputs": [],
   "source": [
    "list_iri=list(set(list(df_br_list[\"iri\"])))"
   ]
  },
  {
   "cell_type": "code",
   "execution_count": 35,
   "metadata": {
    "collapsed": false
   },
   "outputs": [],
   "source": [
    "cross_ref_list2=[]\n",
    "for item in list(set(cross_ref_list)-set(list_iri)):  # referenced but not exist in br\n",
    "    cross_ref_list2.append(item.replace(\"gbr:0110050000\",\"\"))"
   ]
  },
  {
   "cell_type": "code",
   "execution_count": 37,
   "metadata": {
    "collapsed": true
   },
   "outputs": [],
   "source": [
    "list_of_br_extra=Generat_br_for_remained_match(cross_ref_list2)"
   ]
  },
  {
   "cell_type": "code",
   "execution_count": 38,
   "metadata": {
    "collapsed": true
   },
   "outputs": [],
   "source": [
    "list_of_br=list_of_br_extra+list_of_br"
   ]
  },
  {
   "cell_type": "code",
   "execution_count": 39,
   "metadata": {
    "collapsed": true
   },
   "outputs": [],
   "source": [
    "br_json={}\n",
    "br_json[\"iri\"]=\"gbr:\"\n",
    "br_json[\"@context\"]=\"context.json\"\n",
    "br_json[\"@graph\"]=[]\n",
    "br_json[\"@graph\"]=list_of_br\n",
    "#br_json[\"excite_project_match\"]={ \"@id\": \"biro:references\", \"@type\": \"@vocab\"}"
   ]
  },
  {
   "cell_type": "code",
   "execution_count": 40,
   "metadata": {
    "collapsed": true
   },
   "outputs": [],
   "source": [
    "tmls=[]\n",
    "for item in br_json['@graph']:\n",
    "    tmls+=item[\"a\"]\n",
    "tmls=list(set(tmls))"
   ]
  },
  {
   "cell_type": "code",
   "execution_count": 41,
   "metadata": {
    "collapsed": false
   },
   "outputs": [
    {
     "data": {
      "text/plain": [
       "['inbook', 'book', 'article', 'document', 'review', 'collection']"
      ]
     },
     "execution_count": 41,
     "metadata": {},
     "output_type": "execute_result"
    }
   ],
   "source": [
    "tmls"
   ]
  },
  {
   "cell_type": "code",
   "execution_count": 42,
   "metadata": {
    "collapsed": true
   },
   "outputs": [],
   "source": [
    "import json\n",
    "\n",
    "with open('data4.json', 'w', encoding=\"utf8\") as fp:\n",
    "    json.dump(br_json, fp, indent=4,ensure_ascii=False)"
   ]
  },
  {
   "cell_type": "markdown",
   "metadata": {},
   "source": [
    "# Change ids"
   ]
  },
  {
   "cell_type": "code",
   "execution_count": 1,
   "metadata": {
    "collapsed": true
   },
   "outputs": [],
   "source": [
    "import json\n",
    "from pprint import pprint\n",
    "import pandas as pd\n",
    "\n",
    "br_json1 = json.load(open('data4.json', encoding=\"utf8\"))"
   ]
  },
  {
   "cell_type": "code",
   "execution_count": 2,
   "metadata": {
    "collapsed": false
   },
   "outputs": [
    {
     "name": "stdout",
     "output_type": "stream",
     "text": [
      "Wall time: 3.06 s\n"
     ]
    }
   ],
   "source": [
    "br_dict_rep={}\n",
    "br_ls_rep=[]\n",
    "count=1\n",
    "for index,item in enumerate(br_json1[\"@graph\"]):\n",
    "    gbr=item[\"iri\"]\n",
    "    gbr=gbr.replace(\"gbr:\",\"\").strip()\n",
    "    br_dict_rep[gbr]=\"0110\"+str(count)\n",
    "    br_ls_rep.append(gbr)\n",
    "    br_json1[\"@graph\"][index][\"iri\"]=\"gbr:\"+\"0110\"+str(count)\n",
    "    br_json1[\"@graph\"][index][\"label\"]=br_json1[\"@graph\"][index][\"label\"].replace(gbr,str(\"0110\"+str(count)))\n",
    "    count+=1"
   ]
  },
  {
   "cell_type": "code",
   "execution_count": 3,
   "metadata": {
    "collapsed": true
   },
   "outputs": [],
   "source": [
    "with open('br_id.json', 'w', encoding=\"utf8\") as fp:\n",
    "    json.dump(br_dict_rep, fp, indent=4,ensure_ascii=False)"
   ]
  },
  {
   "cell_type": "code",
   "execution_count": 9,
   "metadata": {
    "collapsed": false
   },
   "outputs": [],
   "source": [
    "brsdf=pd.DataFrame(br_json1[\"@graph\"])"
   ]
  },
  {
   "cell_type": "code",
   "execution_count": 36,
   "metadata": {
    "collapsed": false
   },
   "outputs": [
    {
     "name": "stdout",
     "output_type": "stream",
     "text": [
      "100000\n",
      "Wall time: 1.23 s\n"
     ]
    }
   ],
   "source": [
    "iden_dict_rep={}\n",
    "iden_ls_rep=[]\n",
    "count=1\n",
    "for index,item in enumerate(br_json1[\"@graph\"]):\n",
    "    if \"identifier\" in list(item.keys()):\n",
    "        for index1,iden_item in enumerate(item[\"identifier\"]):\n",
    "            gid=iden_item[\"iri\"]\n",
    "            gid=gid.replace(\"gid:\",\"\").strip()\n",
    "            iden_dict_rep[gid]=\"0110\"+str(count)\n",
    "            iden_ls_rep.append(gid)\n",
    "            br_json1[\"@graph\"][index][\"identifier\"][index1][\"iri\"]=\"gid:\"+\"0110\"+str(count)\n",
    "            br_json1[\"@graph\"][index][\"identifier\"][index1][\"label\"]=iden_item[\"label\"].replace(gid,str(\"0110\"+str(count)))\n",
    "            count+=1"
   ]
  },
  {
   "cell_type": "code",
   "execution_count": 53,
   "metadata": {
    "collapsed": true
   },
   "outputs": [],
   "source": [
    "with open('id_id.json', 'w', encoding=\"utf8\") as fp:\n",
    "    json.dump(iden_dict_rep, fp, indent=4,ensure_ascii=False)"
   ]
  },
  {
   "cell_type": "code",
   "execution_count": 81,
   "metadata": {
    "collapsed": false
   },
   "outputs": [
    {
     "name": "stdout",
     "output_type": "stream",
     "text": [
      "100000\n",
      "200000\n",
      "Wall time: 1.8 s\n"
     ]
    }
   ],
   "source": [
    "ar_dict_rep={}\n",
    "ar_ls_rep=[]\n",
    "count=1\n",
    "for index,item in enumerate(br_json1[\"@graph\"]):\n",
    "    if \"contributor\" in list(item.keys()):\n",
    "        for index1,ar_item in enumerate(item[\"contributor\"]):\n",
    "            gar=ar_item[\"iri\"]\n",
    "            gar=gar.replace(\"gar:\",\"\").strip()\n",
    "            ar_dict_rep[gar]=\"0110\"+str(count)\n",
    "            ar_ls_rep.append(gar)\n",
    "            br_json1[\"@graph\"][index][\"contributor\"][index1][\"iri\"]=\"gar:\"+\"0110\"+str(count)\n",
    "            br_json1[\"@graph\"][index][\"contributor\"][index1]['role_of'][\"iri\"]=\"gar:\"+\"0110\"+str(count)\n",
    "            br_json1[\"@graph\"][index][\"contributor\"][index1][\"label\"]=ar_item[\"label\"].replace(gar,str(\"0110\"+str(count)))\n",
    "            br_json1[\"@graph\"][index][\"contributor\"][index1]['role_of'][\"label\"]=ar_item[\"label\"].replace(gar,str(\"0110\"+str(count)))\n",
    "            count+=1"
   ]
  },
  {
   "cell_type": "code",
   "execution_count": 114,
   "metadata": {
    "collapsed": true
   },
   "outputs": [],
   "source": [
    "with open('ra_ar_id.json', 'w', encoding=\"utf8\") as fp:\n",
    "    json.dump(ar_dict_rep, fp, indent=4,ensure_ascii=False)"
   ]
  },
  {
   "cell_type": "code",
   "execution_count": 111,
   "metadata": {
    "collapsed": false
   },
   "outputs": [
    {
     "name": "stdout",
     "output_type": "stream",
     "text": [
      "100000\n",
      "200000\n",
      "300000\n",
      "400000\n",
      "500000\n",
      "600000\n",
      "700000\n",
      "800000\n",
      "900000\n",
      "1000000\n",
      "1100000\n",
      "Wall time: 5.27 s\n"
     ]
    }
   ],
   "source": [
    "be_dict_rep={}\n",
    "be_ls_rep=[]\n",
    "count=1\n",
    "for index,item in enumerate(br_json1[\"@graph\"]):\n",
    "    if \"reference\" in list(item.keys()):\n",
    "        for index1,be_item in enumerate(item[\"reference\"]):\n",
    "            gbe=be_item[\"iri\"]\n",
    "            gbe=gbe.replace(\"gbe:\",\"\").strip()\n",
    "            be_dict_rep[gbe]=\"0110\"+str(count)\n",
    "            be_ls_rep.append(gbe)\n",
    "            br_json1[\"@graph\"][index][\"reference\"][index1][\"iri\"]=\"gbe:\"+\"0110\"+str(count)\n",
    "            br_json1[\"@graph\"][index][\"reference\"][index1][\"label\"]=be_item[\"label\"].replace(gbe,str(\"0110\"+str(count)))\n",
    "            crossref=br_json1[\"@graph\"][index][\"reference\"][index1][\"crossref\"].replace(\"gbr:\",\"\").strip()\n",
    "            br_json1[\"@graph\"][index][\"reference\"][index1][\"crossref\"]=br_dict_rep[crossref]\n",
    "            count+=1"
   ]
  },
  {
   "cell_type": "code",
   "execution_count": 115,
   "metadata": {
    "collapsed": false
   },
   "outputs": [],
   "source": [
    "with open('data1.json', 'w', encoding=\"utf8\") as fp:\n",
    "    json.dump(br_json1, fp, indent=4,ensure_ascii=False)"
   ]
  },
  {
   "cell_type": "code",
   "execution_count": 116,
   "metadata": {
    "collapsed": false
   },
   "outputs": [],
   "source": [
    "with open('be_id.json', 'w', encoding=\"utf8\") as fp:\n",
    "    json.dump(be_dict_rep, fp, indent=4,ensure_ascii=False)"
   ]
  },
  {
   "cell_type": "markdown",
   "metadata": {},
   "source": [
    "# Test section\n",
    "#"
   ]
  },
  {
   "cell_type": "code",
   "execution_count": null,
   "metadata": {
    "collapsed": true
   },
   "outputs": [],
   "source": []
  }
 ],
 "metadata": {
  "anaconda-cloud": {},
  "kernelspec": {
   "display_name": "Python 3",
   "language": "python",
   "name": "python3"
  },
  "language_info": {
   "codemirror_mode": {
    "name": "ipython",
    "version": 3
   },
   "file_extension": ".py",
   "mimetype": "text/x-python",
   "name": "python",
   "nbconvert_exporter": "python",
   "pygments_lexer": "ipython3",
   "version": "3.5.2"
  }
 },
 "nbformat": 4,
 "nbformat_minor": 1
}
