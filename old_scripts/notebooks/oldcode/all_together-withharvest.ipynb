{
 "cells": [
  {
   "cell_type": "markdown",
   "metadata": {},
   "source": [
    "# Harvestor"
   ]
  },
  {
   "cell_type": "markdown",
   "metadata": {},
   "source": [
    "# "
   ]
  },
  {
   "cell_type": "code",
   "execution_count": 1,
   "metadata": {
    "collapsed": true
   },
   "outputs": [],
   "source": [
    "from sickle import Sickle"
   ]
  },
  {
   "cell_type": "code",
   "execution_count": 2,
   "metadata": {
    "collapsed": true
   },
   "outputs": [],
   "source": [
    "import sickle"
   ]
  },
  {
   "cell_type": "code",
   "execution_count": 3,
   "metadata": {
    "collapsed": true
   },
   "outputs": [],
   "source": [
    "sickle = Sickle('https://www.ssoar.info/OAIHandler/request')"
   ]
  },
  {
   "cell_type": "code",
   "execution_count": 4,
   "metadata": {
    "collapsed": false
   },
   "outputs": [],
   "source": [
    "#records = sickle.ListRecords(metadataPrefix='oai_dc')\n",
    "records = sickle.ListRecords(metadataPrefix='oai_genios')"
   ]
  },
  {
   "cell_type": "code",
   "execution_count": 5,
   "metadata": {
    "collapsed": true
   },
   "outputs": [],
   "source": [
    "import xmltodict\n",
    " \n",
    "# It doesn't work with Python 3! Read on for the solution!\n",
    "def convert(xml_file, xml_attribs=True):\n",
    "    with open(xml_file) as f:\n",
    "        d = xmltodict.parse(f, xml_attribs=xml_attribs)\n",
    "        return d"
   ]
  },
  {
   "cell_type": "code",
   "execution_count": 6,
   "metadata": {
    "collapsed": false
   },
   "outputs": [
    {
     "name": "stdout",
     "output_type": "stream",
     "text": [
      "10000\n",
      "20000\n",
      "30000\n",
      "40000\n"
     ]
    }
   ],
   "source": [
    "counter=0\n",
    "listofcounter=[]\n",
    "for r in records:\n",
    "    counter+=1\n",
    "    listofcounter.append(r)\n",
    "    if counter%10000==0:\n",
    "        print(counter)"
   ]
  },
  {
   "cell_type": "code",
   "execution_count": 7,
   "metadata": {
    "collapsed": true
   },
   "outputs": [],
   "source": [
    "from lxml import etree\n",
    "import json"
   ]
  },
  {
   "cell_type": "code",
   "execution_count": 8,
   "metadata": {
    "collapsed": true
   },
   "outputs": [],
   "source": [
    "llt=[]\n",
    "errorls=[]\n",
    "for index,item in enumerate(listofcounter):\n",
    "    try:\n",
    "        llt.append(eval(json.dumps(xmltodict.parse(etree.tostring(item.xml)))))\n",
    "    except:\n",
    "        errorls.append(index)"
   ]
  },
  {
   "cell_type": "code",
   "execution_count": 9,
   "metadata": {
    "collapsed": true
   },
   "outputs": [],
   "source": [
    "a={}\n",
    "a[\"result\"]=llt"
   ]
  },
  {
   "cell_type": "code",
   "execution_count": 10,
   "metadata": {
    "collapsed": false
   },
   "outputs": [],
   "source": [
    "import json\n",
    "\n",
    "with open('data_harvest1.json', 'w') as fp:\n",
    "    json.dump(a, fp, indent=4)"
   ]
  },
  {
   "cell_type": "markdown",
   "metadata": {},
   "source": [
    "# convert harvest data to a small dict\n",
    "#"
   ]
  },
  {
   "cell_type": "code",
   "execution_count": 11,
   "metadata": {
    "collapsed": false
   },
   "outputs": [],
   "source": [
    "a = json.load(open('data_harvest1.json'))"
   ]
  },
  {
   "cell_type": "code",
   "execution_count": 12,
   "metadata": {
    "collapsed": false
   },
   "outputs": [],
   "source": [
    "qualifierdict={3: 'author',15: 'issued',20: 'isbn',21: 'issn',25: 'uri',72: 'url',\n",
    " 85: 'urn',104: 'pageinfo',111: 'corporateeditor',116: 'recensioneditor',118: 'recensiontitle',\n",
    " 119: 'recensionseries',124: 'pid',137: 'doi'}"
   ]
  },
  {
   "cell_type": "code",
   "execution_count": 13,
   "metadata": {
    "collapsed": true
   },
   "outputs": [],
   "source": [
    "elementdict={64:\"title\",10:\"date\"}"
   ]
  },
  {
   "cell_type": "code",
   "execution_count": 14,
   "metadata": {
    "collapsed": false
   },
   "outputs": [],
   "source": [
    "counternot=0\n",
    "listofrecords_h=[]\n",
    "for item in range(0,len(a[\"result\"])):\n",
    "    records=a[\"result\"][item]['record']\n",
    "    if \"metadata\" in records.keys():\n",
    "        values=records['metadata']['dublin_core']['dcvalue']\n",
    "        temp={}\n",
    "        list_authors_r=[]\n",
    "        list_editor_r=[]\n",
    "        for item_values in values:\n",
    "            if '#text' in item_values.keys() and '@element' in item_values.keys():\n",
    "                if 'title'==item_values['@element']:\n",
    "                    if \"@qualifier\" in item_values.keys() and 'alternative'==item_values['@qualifier']:\n",
    "                        pass\n",
    "                    else:\n",
    "                        temp[64]= item_values['#text']\n",
    "                elif \"date\"==item_values['@element']:\n",
    "                    temp[10]= item_values['#text']\n",
    "            if '@qualifier' in item_values.keys() and '#text' in item_values.keys():\n",
    "                if 'author'==item_values['@qualifier']:\n",
    "                    list_authors_r.append(item_values['#text'])\n",
    "                elif 'issued'==item_values['@qualifier'] :\n",
    "                    temp[15]=item_values['#text']\n",
    "                elif 'isbn'==item_values['@qualifier']:\n",
    "                    temp[20]=item_values['#text']\n",
    "                elif 'issn'==item_values['@qualifier']:\n",
    "                    temp[21]=item_values['#text']\n",
    "                elif 'uri'==item_values['@qualifier']:\n",
    "                    temp[25]=item_values['#text']\n",
    "                elif 'url'==item_values['@qualifier']:\n",
    "                    temp[72]=item_values['#text']\n",
    "                elif 'urn'==item_values['@qualifier']:\n",
    "                    temp[85]=item_values['#text']\n",
    "                elif 'pageinfo'==item_values['@qualifier']:\n",
    "                    temp[104]=item_values['#text']\n",
    "                elif 'corporateeditor'==item_values['@qualifier']:\n",
    "                    temp[111]=item_values['#text']\n",
    "                elif 'recensioneditor'==item_values['@qualifier']:\n",
    "                    list_editor_r.append(item_values['#text'])\n",
    "                elif 'recensiontitle'==item_values['@qualifier']:\n",
    "                    temp[118]=item_values['#text']\n",
    "                elif 'recensionseries'==item_values['@qualifier']:\n",
    "                    temp[119]=item_values['#text']\n",
    "                elif 'pid'==item_values['@qualifier']:\n",
    "                    temp[124]=item_values['#text']\n",
    "                elif 'doi'==item_values['@qualifier']:\n",
    "                    temp[137]=item_values['#text']\n",
    "                elif 'stock'==item_values['@qualifier']:\n",
    "                    temp[101]=item_values['#text']\n",
    "        if 25 in temp.keys():\n",
    "                temp[\"handler\"]=temp[25].split('/')[-1]\n",
    "        else:\n",
    "                counternot+=1\n",
    "        temp[3]= list_authors_r\n",
    "        temp[116]=list_editor_r\n",
    "        listofrecords_h.append(temp)\n"
   ]
  },
  {
   "cell_type": "code",
   "execution_count": 15,
   "metadata": {
    "collapsed": false
   },
   "outputs": [],
   "source": [
    "#pd.DataFrame(listofrecords_h)"
   ]
  },
  {
   "cell_type": "code",
   "execution_count": 16,
   "metadata": {
    "collapsed": false
   },
   "outputs": [
    {
     "name": "stdout",
     "output_type": "stream",
     "text": [
      "{64: 'História oral entre reflexões e memórias: Revisitando o percurso de Antônio Torres Montenegro e suas trilhas metodológicas do fazer historiográfico; Entrevista', 3: ['Cavalcanti, Erinaldo Vicente', 'Silva Soares, Fagno da'], 116: [], 21: '2447-4266', 104: '426-446', 10: '2016', 111: 'Universidade Federal do Tocantins', 101: 'article', 85: 'http://dx.doi.org/10.20873/uft.2447-4266.2016v2especial1p426', 15: '2016'}\n"
     ]
    }
   ],
   "source": [
    "dictofrecords_h={}\n",
    "lk=[]\n",
    "for item_records_h in listofrecords_h:\n",
    "    try:\n",
    "        dictofrecords_h[item_records_h['handler']]=item_records_h\n",
    "        lk.append(item_records_h[101])\n",
    "    except:\n",
    "        print(item_records_h)"
   ]
  },
  {
   "cell_type": "code",
   "execution_count": 17,
   "metadata": {
    "collapsed": false
   },
   "outputs": [],
   "source": [
    "total_ssoar_handler=list(dictofrecords_h.keys())"
   ]
  },
  {
   "cell_type": "code",
   "execution_count": 18,
   "metadata": {
    "collapsed": false
   },
   "outputs": [
    {
     "data": {
      "text/plain": [
       "['incollection', 'collection', 'recension', 'monograph', 'article']"
      ]
     },
     "execution_count": 18,
     "metadata": {},
     "output_type": "execute_result"
    }
   ],
   "source": [
    "list(set(lk))"
   ]
  },
  {
   "cell_type": "code",
   "execution_count": 19,
   "metadata": {
    "collapsed": false
   },
   "outputs": [
    {
     "data": {
      "text/plain": [
       "{64: 'Sicherheitspolitische Herausforderungen der Regierung Obama in Asien',\n",
       " 'handler': '27498',\n",
       " 3: ['Godehardt, Nadine', 'Hanif, Melanie', 'Sakaeda, Ryoma'],\n",
       " 116: [],\n",
       " 85: 'urn:nbn:de:0168-ssoar-274987',\n",
       " 104: '8',\n",
       " 25: 'http://www.ssoar.info/ssoar/handle/document/27498',\n",
       " 10: '2011-12-15T11:14:00Z',\n",
       " 111: 'GIGA German Institute of Global and Area Studies - Leibniz-Institut für Globale und Regionale Studien, Institut für Asien-Studien',\n",
       " 101: 'monograph',\n",
       " 15: '2009'}"
      ]
     },
     "execution_count": 19,
     "metadata": {},
     "output_type": "execute_result"
    }
   ],
   "source": [
    "dictofrecords_h[\"27498\"]"
   ]
  },
  {
   "cell_type": "markdown",
   "metadata": {},
   "source": [
    "# Generate Data for process (find ssoar match out of sowiport match)"
   ]
  },
  {
   "cell_type": "markdown",
   "metadata": {},
   "source": [
    "# "
   ]
  },
  {
   "cell_type": "code",
   "execution_count": 20,
   "metadata": {
    "collapsed": true
   },
   "outputs": [],
   "source": [
    "import pandas as pd"
   ]
  },
  {
   "cell_type": "code",
   "execution_count": 21,
   "metadata": {
    "collapsed": false
   },
   "outputs": [],
   "source": [
    "match_info=pd.read_csv(\"source_ssoar.csv\",sep=\";\")"
   ]
  },
  {
   "cell_type": "code",
   "execution_count": 22,
   "metadata": {
    "collapsed": true
   },
   "outputs": [],
   "source": [
    "#match_target_info=pd.read_csv(\"target_ssoar.csv\",sep=\";\")"
   ]
  },
  {
   "cell_type": "code",
   "execution_count": 23,
   "metadata": {
    "collapsed": true
   },
   "outputs": [],
   "source": [
    "sowiport_info=pd.read_json(\"select.json\")"
   ]
  },
  {
   "cell_type": "code",
   "execution_count": 24,
   "metadata": {
    "collapsed": false
   },
   "outputs": [],
   "source": [
    "sowiport_info=pd.DataFrame(sowiport_info[\"response\"][\"docs\"])"
   ]
  },
  {
   "cell_type": "code",
   "execution_count": 25,
   "metadata": {
    "collapsed": false
   },
   "outputs": [],
   "source": [
    "sowiport_ssoar_info=sowiport_info[~sowiport_info[\"recordurl_str_mv\"].isnull()]"
   ]
  },
  {
   "cell_type": "code",
   "execution_count": 26,
   "metadata": {
    "collapsed": true
   },
   "outputs": [],
   "source": [
    "def rfi(lst):\n",
    "        return lst[0]"
   ]
  },
  {
   "cell_type": "code",
   "execution_count": 27,
   "metadata": {
    "collapsed": false
   },
   "outputs": [
    {
     "name": "stderr",
     "output_type": "stream",
     "text": [
      "C:\\Program Files\\Anaconda2\\envs\\python3\\lib\\site-packages\\ipykernel\\__main__.py:1: SettingWithCopyWarning: \n",
      "A value is trying to be set on a copy of a slice from a DataFrame.\n",
      "Try using .loc[row_indexer,col_indexer] = value instead\n",
      "\n",
      "See the caveats in the documentation: http://pandas.pydata.org/pandas-docs/stable/indexing.html#indexing-view-versus-copy\n",
      "  if __name__ == '__main__':\n"
     ]
    }
   ],
   "source": [
    "sowiport_ssoar_info[\"recordurl_str_mv\"]=sowiport_ssoar_info[\"recordurl_str_mv\"].apply(rfi)"
   ]
  },
  {
   "cell_type": "code",
   "execution_count": 28,
   "metadata": {
    "collapsed": false
   },
   "outputs": [],
   "source": [
    "match_info.columns=['ref_id','newmodel_ssoar_id', 'ref_text', 'sowi_id']"
   ]
  },
  {
   "cell_type": "code",
   "execution_count": 29,
   "metadata": {
    "collapsed": true
   },
   "outputs": [],
   "source": [
    "#match_target_info.columns=['ref_id','newmodel_ssoar_id', 'ref_text', 'sowi_id']"
   ]
  },
  {
   "cell_type": "code",
   "execution_count": 30,
   "metadata": {
    "collapsed": false
   },
   "outputs": [],
   "source": [
    "sowiport_ssoar_info.columns=['sowi_id', 'recordurl_str_mv']"
   ]
  },
  {
   "cell_type": "code",
   "execution_count": 31,
   "metadata": {
    "collapsed": false
   },
   "outputs": [],
   "source": [
    "match_sowi_ssoar_info=pd.merge(match_info,sowiport_ssoar_info, on='sowi_id', how=\"left\")"
   ]
  },
  {
   "cell_type": "code",
   "execution_count": 32,
   "metadata": {
    "collapsed": true
   },
   "outputs": [],
   "source": [
    "#match_sowi_ssoar_target_info=pd.merge(match_target_info,sowiport_ssoar_info, on='sowi_id', how=\"left\")"
   ]
  },
  {
   "cell_type": "code",
   "execution_count": 33,
   "metadata": {
    "collapsed": true
   },
   "outputs": [],
   "source": [
    "def ret_ssoar_handler(txt):\n",
    "    return txt.split(\"/\")[-1]"
   ]
  },
  {
   "cell_type": "code",
   "execution_count": 34,
   "metadata": {
    "collapsed": false
   },
   "outputs": [],
   "source": [
    "match_sowi_ssoar_info[\"ssoar_match\"]=match_sowi_ssoar_info[~match_sowi_ssoar_info[\"recordurl_str_mv\"].isnull()][\"recordurl_str_mv\"].apply(ret_ssoar_handler)"
   ]
  },
  {
   "cell_type": "code",
   "execution_count": 35,
   "metadata": {
    "collapsed": true
   },
   "outputs": [],
   "source": [
    "#match_sowi_ssoar_target_info[\"ssoar_match\"]=match_sowi_ssoar_target_info[~match_sowi_ssoar_target_info[\"recordurl_str_mv\"].isnull()][\"recordurl_str_mv\"].apply(ret_ssoar_handler)"
   ]
  },
  {
   "cell_type": "code",
   "execution_count": 36,
   "metadata": {
    "collapsed": false
   },
   "outputs": [],
   "source": [
    "match_sowi_ssoar_info.columns=['ref_id','source_ssoar_id', 'ref_text', 'sowi_id', 'recordurl_str_mv',\n",
    "       'ssoar_match']"
   ]
  },
  {
   "cell_type": "code",
   "execution_count": 37,
   "metadata": {
    "collapsed": false
   },
   "outputs": [],
   "source": [
    "#match_sowi_ssoar_target_info.columns=['ref_id','source_ssoar_id', 'ref_text', 'sowi_id', 'recordurl_str_mv','ssoar_match']"
   ]
  },
  {
   "cell_type": "code",
   "execution_count": 38,
   "metadata": {
    "collapsed": false
   },
   "outputs": [
    {
     "data": {
      "text/html": [
       "<div>\n",
       "<table border=\"1\" class=\"dataframe\">\n",
       "  <thead>\n",
       "    <tr style=\"text-align: right;\">\n",
       "      <th></th>\n",
       "      <th>ref_id</th>\n",
       "      <th>source_ssoar_id</th>\n",
       "      <th>ref_text</th>\n",
       "      <th>sowi_id</th>\n",
       "      <th>recordurl_str_mv</th>\n",
       "      <th>ssoar_match</th>\n",
       "    </tr>\n",
       "  </thead>\n",
       "  <tbody>\n",
       "    <tr>\n",
       "      <th>0</th>\n",
       "      <td>854794</td>\n",
       "      <td>10001</td>\n",
       "      <td>Böhle (1999): Stellungnahme des Beirats zu den...</td>\n",
       "      <td>gesis-ssoar-10001</td>\n",
       "      <td>http://www.ssoar.info/ssoar/handle/document/10001</td>\n",
       "      <td>10001</td>\n",
       "    </tr>\n",
       "    <tr>\n",
       "      <th>1</th>\n",
       "      <td>854795</td>\n",
       "      <td>10001</td>\n",
       "      <td>Böhle (1999): Stellungnahme des Beirats zu den...</td>\n",
       "      <td>gesis-ssoar-10001</td>\n",
       "      <td>http://www.ssoar.info/ssoar/handle/document/10001</td>\n",
       "      <td>10001</td>\n",
       "    </tr>\n",
       "    <tr>\n",
       "      <th>2</th>\n",
       "      <td>912285</td>\n",
       "      <td>10004</td>\n",
       "      <td>Altmann, N.; Deiß, M.; Döhl, V.; Sauer, D. (19...</td>\n",
       "      <td>csa-sa-87R1756</td>\n",
       "      <td>NaN</td>\n",
       "      <td>NaN</td>\n",
       "    </tr>\n",
       "    <tr>\n",
       "      <th>3</th>\n",
       "      <td>912286</td>\n",
       "      <td>10004</td>\n",
       "      <td>Baethge, M:; Oberbeck, H. (1986): Zukunft der ...</td>\n",
       "      <td>fes-bib-134774</td>\n",
       "      <td>NaN</td>\n",
       "      <td>NaN</td>\n",
       "    </tr>\n",
       "  </tbody>\n",
       "</table>\n",
       "</div>"
      ],
      "text/plain": [
       "   ref_id  source_ssoar_id                                           ref_text  \\\n",
       "0  854794            10001  Böhle (1999): Stellungnahme des Beirats zu den...   \n",
       "1  854795            10001  Böhle (1999): Stellungnahme des Beirats zu den...   \n",
       "2  912285            10004  Altmann, N.; Deiß, M.; Döhl, V.; Sauer, D. (19...   \n",
       "3  912286            10004  Baethge, M:; Oberbeck, H. (1986): Zukunft der ...   \n",
       "\n",
       "             sowi_id                                   recordurl_str_mv  \\\n",
       "0  gesis-ssoar-10001  http://www.ssoar.info/ssoar/handle/document/10001   \n",
       "1  gesis-ssoar-10001  http://www.ssoar.info/ssoar/handle/document/10001   \n",
       "2     csa-sa-87R1756                                                NaN   \n",
       "3     fes-bib-134774                                                NaN   \n",
       "\n",
       "  ssoar_match  \n",
       "0       10001  \n",
       "1       10001  \n",
       "2         NaN  \n",
       "3         NaN  "
      ]
     },
     "execution_count": 38,
     "metadata": {},
     "output_type": "execute_result"
    }
   ],
   "source": [
    "match_sowi_ssoar_info.head(4)"
   ]
  },
  {
   "cell_type": "code",
   "execution_count": 39,
   "metadata": {
    "collapsed": true
   },
   "outputs": [],
   "source": [
    "import numpy"
   ]
  },
  {
   "cell_type": "code",
   "execution_count": 40,
   "metadata": {
    "collapsed": false
   },
   "outputs": [],
   "source": [
    "embargo=list(pd.read_csv(\"embargoHandles19feb2018.txt\")[\"header\"].apply(numpy.int64))"
   ]
  },
  {
   "cell_type": "code",
   "execution_count": 41,
   "metadata": {
    "collapsed": false
   },
   "outputs": [],
   "source": [
    "match_sowi_ssoar_info_ne=match_sowi_ssoar_info[~match_sowi_ssoar_info['source_ssoar_id'].isin(embargo)]"
   ]
  },
  {
   "cell_type": "code",
   "execution_count": 42,
   "metadata": {
    "collapsed": false
   },
   "outputs": [],
   "source": [
    "#listproblimetic=list(set(list(match_sowi_ssoar_target_info[~match_sowi_ssoar_target_info[\"ssoar_match\"].isnull()][\"source_ssoar_id\"])))"
   ]
  },
  {
   "cell_type": "code",
   "execution_count": 43,
   "metadata": {
    "collapsed": true
   },
   "outputs": [],
   "source": [
    "#listproblimetic=pd.DataFrame(listproblimetic)\n",
    "#listproblimetic.to_csv(\"listproblimetic.csv\", index=False)"
   ]
  },
  {
   "cell_type": "code",
   "execution_count": 44,
   "metadata": {
    "collapsed": false
   },
   "outputs": [],
   "source": [
    "match_info_s=match_sowi_ssoar_info_ne[['ref_id','source_ssoar_id', 'ref_text', 'sowi_id','ssoar_match']]"
   ]
  },
  {
   "cell_type": "code",
   "execution_count": 45,
   "metadata": {
    "collapsed": false
   },
   "outputs": [
    {
     "data": {
      "text/html": [
       "<div>\n",
       "<table border=\"1\" class=\"dataframe\">\n",
       "  <thead>\n",
       "    <tr style=\"text-align: right;\">\n",
       "      <th></th>\n",
       "      <th>ref_id</th>\n",
       "      <th>source_ssoar_id</th>\n",
       "      <th>ref_text</th>\n",
       "      <th>sowi_id</th>\n",
       "      <th>ssoar_match</th>\n",
       "    </tr>\n",
       "  </thead>\n",
       "  <tbody>\n",
       "    <tr>\n",
       "      <th>0</th>\n",
       "      <td>854794</td>\n",
       "      <td>10001</td>\n",
       "      <td>Böhle (1999): Stellungnahme des Beirats zu den...</td>\n",
       "      <td>gesis-ssoar-10001</td>\n",
       "      <td>10001</td>\n",
       "    </tr>\n",
       "    <tr>\n",
       "      <th>1</th>\n",
       "      <td>854795</td>\n",
       "      <td>10001</td>\n",
       "      <td>Böhle (1999): Stellungnahme des Beirats zu den...</td>\n",
       "      <td>gesis-ssoar-10001</td>\n",
       "      <td>10001</td>\n",
       "    </tr>\n",
       "    <tr>\n",
       "      <th>2</th>\n",
       "      <td>912285</td>\n",
       "      <td>10004</td>\n",
       "      <td>Altmann, N.; Deiß, M.; Döhl, V.; Sauer, D. (19...</td>\n",
       "      <td>csa-sa-87R1756</td>\n",
       "      <td>NaN</td>\n",
       "    </tr>\n",
       "    <tr>\n",
       "      <th>3</th>\n",
       "      <td>912286</td>\n",
       "      <td>10004</td>\n",
       "      <td>Baethge, M:; Oberbeck, H. (1986): Zukunft der ...</td>\n",
       "      <td>fes-bib-134774</td>\n",
       "      <td>NaN</td>\n",
       "    </tr>\n",
       "  </tbody>\n",
       "</table>\n",
       "</div>"
      ],
      "text/plain": [
       "   ref_id  source_ssoar_id                                           ref_text  \\\n",
       "0  854794            10001  Böhle (1999): Stellungnahme des Beirats zu den...   \n",
       "1  854795            10001  Böhle (1999): Stellungnahme des Beirats zu den...   \n",
       "2  912285            10004  Altmann, N.; Deiß, M.; Döhl, V.; Sauer, D. (19...   \n",
       "3  912286            10004  Baethge, M:; Oberbeck, H. (1986): Zukunft der ...   \n",
       "\n",
       "             sowi_id ssoar_match  \n",
       "0  gesis-ssoar-10001       10001  \n",
       "1  gesis-ssoar-10001       10001  \n",
       "2     csa-sa-87R1756         NaN  \n",
       "3     fes-bib-134774         NaN  "
      ]
     },
     "execution_count": 45,
     "metadata": {},
     "output_type": "execute_result"
    }
   ],
   "source": [
    "match_info_s.head(4)"
   ]
  },
  {
   "cell_type": "markdown",
   "metadata": {},
   "source": [
    "# Create dictionary for ssoar ids\n"
   ]
  },
  {
   "cell_type": "markdown",
   "metadata": {},
   "source": [
    "# "
   ]
  },
  {
   "cell_type": "code",
   "execution_count": 40,
   "metadata": {
    "collapsed": false
   },
   "outputs": [
    {
     "name": "stderr",
     "output_type": "stream",
     "text": [
      "C:\\Program Files\\Anaconda2\\envs\\python3\\lib\\site-packages\\IPython\\core\\interactiveshell.py:2717: DtypeWarning: Columns (4) have mixed types. Specify dtype option on import or set low_memory=False.\n",
      "  interactivity=interactivity, compiler=compiler, result=result)\n"
     ]
    }
   ],
   "source": [
    "metadatavalue=pd.read_csv(\"metadatavalue19feb2018.csv\",sep=\";\")"
   ]
  },
  {
   "cell_type": "code",
   "execution_count": 41,
   "metadata": {
    "collapsed": true
   },
   "outputs": [],
   "source": [
    "handeler_mapper=metadatavalue[metadatavalue[\"metadata_field_id\"]==25][[\"resource_id\",\"text_value\"]]"
   ]
  },
  {
   "cell_type": "code",
   "execution_count": 42,
   "metadata": {
    "collapsed": false
   },
   "outputs": [],
   "source": [
    "handeler_mapper.columns=[\"inter_id\",\"handeler\"]"
   ]
  },
  {
   "cell_type": "code",
   "execution_count": 43,
   "metadata": {
    "collapsed": false
   },
   "outputs": [],
   "source": [
    "handeler_mapper[\"handeler\"]=handeler_mapper[\"handeler\"].apply(ret_ssoar_handler)"
   ]
  },
  {
   "cell_type": "code",
   "execution_count": 44,
   "metadata": {
    "collapsed": false
   },
   "outputs": [
    {
     "data": {
      "text/html": [
       "<div>\n",
       "<table border=\"1\" class=\"dataframe\">\n",
       "  <thead>\n",
       "    <tr style=\"text-align: right;\">\n",
       "      <th></th>\n",
       "      <th>inter_id</th>\n",
       "      <th>handeler</th>\n",
       "    </tr>\n",
       "  </thead>\n",
       "  <tbody>\n",
       "    <tr>\n",
       "      <th>4128</th>\n",
       "      <td>22591</td>\n",
       "      <td>32827</td>\n",
       "    </tr>\n",
       "  </tbody>\n",
       "</table>\n",
       "</div>"
      ],
      "text/plain": [
       "      inter_id handeler\n",
       "4128     22591    32827"
      ]
     },
     "execution_count": 44,
     "metadata": {},
     "output_type": "execute_result"
    }
   ],
   "source": [
    "handeler_mapper.head(1)"
   ]
  },
  {
   "cell_type": "code",
   "execution_count": 45,
   "metadata": {
    "collapsed": true
   },
   "outputs": [],
   "source": [
    "handeler_mapper.set_index('inter_id', inplace=True)"
   ]
  },
  {
   "cell_type": "code",
   "execution_count": 46,
   "metadata": {
    "collapsed": true
   },
   "outputs": [],
   "source": [
    "hand_map_dict=handeler_mapper.to_dict()"
   ]
  },
  {
   "cell_type": "code",
   "execution_count": 47,
   "metadata": {
    "collapsed": false
   },
   "outputs": [],
   "source": [
    "hand_map_dict=hand_map_dict['handeler']"
   ]
  },
  {
   "cell_type": "code",
   "execution_count": 48,
   "metadata": {
    "collapsed": false
   },
   "outputs": [],
   "source": [
    "hand_map_dict2={}\n",
    "for key, val in hand_map_dict.items():\n",
    "    hand_map_dict2[val]=key"
   ]
  },
  {
   "cell_type": "code",
   "execution_count": 49,
   "metadata": {
    "collapsed": true
   },
   "outputs": [],
   "source": [
    "import numpy as np"
   ]
  },
  {
   "cell_type": "code",
   "execution_count": 50,
   "metadata": {
    "collapsed": true
   },
   "outputs": [],
   "source": [
    "def ret_map(text):\n",
    "    try:\n",
    "        return str(int(hand_map_dict2[str(text)]))\n",
    "    except:\n",
    "        return (np.nan)"
   ]
  },
  {
   "cell_type": "code",
   "execution_count": 51,
   "metadata": {
    "collapsed": true
   },
   "outputs": [],
   "source": [
    "match_info_s[\"source_ssoar_int_id\"]=match_info_s[\"source_ssoar_id\"].apply(ret_map)"
   ]
  },
  {
   "cell_type": "code",
   "execution_count": 52,
   "metadata": {
    "collapsed": false
   },
   "outputs": [],
   "source": [
    "match_info_s[\"ssoar_match_int_id\"]=match_info_s[\"ssoar_match\"].apply(ret_map)"
   ]
  },
  {
   "cell_type": "code",
   "execution_count": 53,
   "metadata": {
    "collapsed": false
   },
   "outputs": [
    {
     "data": {
      "text/html": [
       "<div>\n",
       "<table border=\"1\" class=\"dataframe\">\n",
       "  <thead>\n",
       "    <tr style=\"text-align: right;\">\n",
       "      <th></th>\n",
       "      <th>ref_id</th>\n",
       "      <th>source_ssoar_id</th>\n",
       "      <th>ref_text</th>\n",
       "      <th>sowi_id</th>\n",
       "      <th>ssoar_match</th>\n",
       "      <th>source_ssoar_int_id</th>\n",
       "      <th>ssoar_match_int_id</th>\n",
       "    </tr>\n",
       "  </thead>\n",
       "  <tbody>\n",
       "    <tr>\n",
       "      <th>0</th>\n",
       "      <td>854794</td>\n",
       "      <td>10001</td>\n",
       "      <td>Böhle (1999): Stellungnahme des Beirats zu den...</td>\n",
       "      <td>gesis-ssoar-10001</td>\n",
       "      <td>10001</td>\n",
       "      <td>3189</td>\n",
       "      <td>3189</td>\n",
       "    </tr>\n",
       "  </tbody>\n",
       "</table>\n",
       "</div>"
      ],
      "text/plain": [
       "   ref_id  source_ssoar_id                                           ref_text  \\\n",
       "0  854794            10001  Böhle (1999): Stellungnahme des Beirats zu den...   \n",
       "\n",
       "             sowi_id ssoar_match source_ssoar_int_id ssoar_match_int_id  \n",
       "0  gesis-ssoar-10001       10001                3189               3189  "
      ]
     },
     "execution_count": 53,
     "metadata": {},
     "output_type": "execute_result"
    }
   ],
   "source": [
    "match_info_s.head(1)"
   ]
  },
  {
   "cell_type": "code",
   "execution_count": 54,
   "metadata": {
    "collapsed": true
   },
   "outputs": [],
   "source": [
    "metadatavalue.sort_values(by=[\"resource_id\",\"metadata_field_id\",\"resource_type_id\"], inplace=True)\n",
    "metadatavalue.fillna(\"nan\", inplace=True)"
   ]
  },
  {
   "cell_type": "code",
   "execution_count": 55,
   "metadata": {
    "collapsed": true
   },
   "outputs": [],
   "source": [
    "def retunrn_value_for_an_id(id_str):\n",
    "    tempdf=metadatavalue[metadatavalue[\"resource_id\"]==int(id_str)][[\"metadata_field_id\",\"text_value\"]]\n",
    "    tempdf=tempdf.groupby('metadata_field_id').apply(lambda tempdf: tempdf.to_dict(orient='list')).to_dict()\n",
    "    temp_dict={}\n",
    "    for key, item in tempdf.items():\n",
    "        temp_dict[key]=item['text_value']\n",
    "    return temp_dict"
   ]
  },
  {
   "cell_type": "code",
   "execution_count": 56,
   "metadata": {
    "collapsed": false
   },
   "outputs": [],
   "source": [
    "#internal id\n",
    "example_dict=retunrn_value_for_an_id(34979)"
   ]
  },
  {
   "cell_type": "markdown",
   "metadata": {},
   "source": [
    "# Create json File\n",
    "#"
   ]
  },
  {
   "cell_type": "code",
   "execution_count": 46,
   "metadata": {
    "collapsed": true
   },
   "outputs": [],
   "source": [
    "ssoar_excit_sc=match_info_s"
   ]
  },
  {
   "cell_type": "code",
   "execution_count": 47,
   "metadata": {
    "collapsed": false
   },
   "outputs": [
    {
     "name": "stderr",
     "output_type": "stream",
     "text": [
      "C:\\Program Files\\Anaconda2\\envs\\python3\\lib\\site-packages\\ipykernel\\__main__.py:1: SettingWithCopyWarning: \n",
      "A value is trying to be set on a copy of a slice from a DataFrame\n",
      "\n",
      "See the caveats in the documentation: http://pandas.pydata.org/pandas-docs/stable/indexing.html#indexing-view-versus-copy\n",
      "  if __name__ == '__main__':\n"
     ]
    }
   ],
   "source": [
    "ssoar_excit_sc.sort_values(by=\"source_ssoar_id\", inplace=True)"
   ]
  },
  {
   "cell_type": "code",
   "execution_count": 48,
   "metadata": {
    "collapsed": true
   },
   "outputs": [],
   "source": [
    "listofonlytarget=list(set(ssoar_excit_sc[~ssoar_excit_sc[\"ssoar_match\"].isnull()][\"ssoar_match\"])-set(ssoar_excit_sc[~ssoar_excit_sc[\"source_ssoar_id\"].isnull()][\"source_ssoar_id\"]))"
   ]
  },
  {
   "cell_type": "code",
   "execution_count": 49,
   "metadata": {
    "collapsed": false
   },
   "outputs": [
    {
     "data": {
      "text/plain": [
       "614"
      ]
     },
     "execution_count": 49,
     "metadata": {},
     "output_type": "execute_result"
    }
   ],
   "source": [
    "tsi_ls=list(set(ssoar_excit_sc[~ssoar_excit_sc[\"ssoar_match\"].isnull()][\"ssoar_match\"]))\n",
    "tsi_set=set(tsi_ls)\n",
    "ssi_ls=list(set(ssoar_excit_sc[~ssoar_excit_sc[\"source_ssoar_id\"].isnull()][\"source_ssoar_id\"]))\n",
    "ssi_ls=[str(i) for i in ssi_ls]\n",
    "ssi_set=set(ssi_ls)\n",
    "worikinglist=list(tsi_set.intersection(ssi_set))\n",
    "len(worikinglist)"
   ]
  },
  {
   "cell_type": "code",
   "execution_count": 50,
   "metadata": {
    "collapsed": false
   },
   "outputs": [],
   "source": [
    "listof_ssoar_id=list(set(ssoar_excit_sc[~ssoar_excit_sc[\"source_ssoar_id\"].isnull()][\"source_ssoar_id\"]))"
   ]
  },
  {
   "cell_type": "code",
   "execution_count": 51,
   "metadata": {
    "collapsed": true
   },
   "outputs": [],
   "source": [
    "worikinglist=[int(i) for i in worikinglist]\n",
    "listof_ssoar_id=worikinglist"
   ]
  },
  {
   "cell_type": "code",
   "execution_count": 52,
   "metadata": {
    "collapsed": true
   },
   "outputs": [],
   "source": [
    "def creat_iden_part(set_source_dict_keys,ssoar_id,source_dict):\n",
    "    id_counter=0\n",
    "    temp_id_list=[]\n",
    "    ids_only_list=[]\n",
    "    if 124 in list(set_source_dict_keys):\n",
    "        temp_id_set={}\n",
    "        temp_id_set[\"a\"]=\"unique_identifier\"\n",
    "        temp_id_set[\"type\"]=\"pmid\"\n",
    "        #temp_id_set[\"id\"]=source_dict[124]\n",
    "        temp_id_set[\"id\"]=source_dict[124]\n",
    "        ids_only_list.append(\"gid:01100005\"+str(ssoar_id))\n",
    "        temp_id_set[\"iri\"]=\"gid:01100005\"+str(ssoar_id)\n",
    "        temp_id_set[\"label\"]=\"identifier 01100005\"+str(ssoar_id)+\" [id/01100005\"+str(ssoar_id)+\"]\"\n",
    "        id_counter+=1\n",
    "        temp_id_list.append(temp_id_set)\n",
    "    if 72 in list(set_source_dict_keys):\n",
    "        temp_id_set={}\n",
    "        temp_id_set[\"a\"]=\"unique_identifier\"\n",
    "        temp_id_set[\"type\"]=\"url\"\n",
    "        #temp_id_set[\"id\"]=source_dict[72][-1]\n",
    "        temp_id_set[\"id\"]=source_dict[72]\n",
    "        ids_only_list.append(\"gid:01100005\"+str(ssoar_id))\n",
    "        temp_id_set[\"iri\"]=\"gid:01100005\"+str(ssoar_id)\n",
    "        temp_id_set[\"label\"]=\"identifier 01100005\"+str(ssoar_id)+\" [id/01100005\"+str(ssoar_id)+\"]\"\n",
    "        id_counter+=1\n",
    "        temp_id_list.append(temp_id_set)\n",
    "    if 25 in list(set_source_dict_keys):\n",
    "        temp_id_set={}\n",
    "        temp_id_set[\"a\"]=\"unique_identifier\"\n",
    "        temp_id_set[\"type\"]=\"uri\"\n",
    "        #temp_id_set[\"id\"]=source_dict[25][-1]\n",
    "        temp_id_set[\"id\"]=source_dict[25]\n",
    "        ids_only_list.append(\"gid:01100005\"+str(ssoar_id))\n",
    "        temp_id_set[\"iri\"]=\"gid:01100005\"+str(ssoar_id)\n",
    "        temp_id_set[\"label\"]=\"identifier 01100005\"+str(ssoar_id)+\" [id/01100005\"+str(ssoar_id)+\"]\"\n",
    "        id_counter+=1\n",
    "        temp_id_list.append(temp_id_set)\n",
    "    if 21 in list(set_source_dict_keys):\n",
    "        temp_id_set={}\n",
    "        temp_id_set[\"a\"]=\"unique_identifier\"\n",
    "        temp_id_set[\"type\"]=\"issn\"\n",
    "        #temp_id_set[\"id\"]=source_dict[21][-1]\n",
    "        temp_id_set[\"id\"]=source_dict[21]\n",
    "        ids_only_list.append(\"gid:01100005\"+str(ssoar_id))\n",
    "        temp_id_set[\"iri\"]=\"gid:01100005\"+str(ssoar_id)\n",
    "        temp_id_set[\"label\"]=\"identifier 01100005\"+str(ssoar_id)+\" [id/01100005\"+str(ssoar_id)+\"]\"\n",
    "        id_counter+=1\n",
    "        temp_id_list.append(temp_id_set)\n",
    "    if 20 in list(set_source_dict_keys):\n",
    "        temp_id_set={}\n",
    "        temp_id_set[\"a\"]=\"unique_identifier\"\n",
    "        temp_id_set[\"type\"]=\"isbn\"\n",
    "        #temp_id_set[\"id\"]=source_dict[20][-1]\n",
    "        temp_id_set[\"id\"]=source_dict[20]\n",
    "        ids_only_list.append(\"gid:01100005\"+str(ssoar_id))\n",
    "        temp_id_set[\"iri\"]=\"gid:01100005\"+str(ssoar_id)\n",
    "        temp_id_set[\"label\"]=\"identifier 01100005\"+str(ssoar_id)+\" [id/01100005\"+str(ssoar_id)+\"]\"\n",
    "        id_counter+=1\n",
    "        temp_id_list.append(temp_id_set)\n",
    "    if 137 in list(set_source_dict_keys):\n",
    "        temp_id_set={}\n",
    "        temp_id_set[\"a\"]=\"unique_identifier\"\n",
    "        temp_id_set[\"type\"]=\"doi\"\n",
    "        #temp_id_set[\"id\"]=source_dict[137][-1]\n",
    "        temp_id_set[\"id\"]=source_dict[137]\n",
    "        ids_only_list.append(\"gid:01100005\"+str(ssoar_id))\n",
    "        temp_id_set[\"iri\"]=\"gid:01100005\"+str(ssoar_id)\n",
    "        temp_id_set[\"label\"]=\"identifier 01100005\"+str(ssoar_id)+\" [id/01100005\"+str(ssoar_id)+\"]\"\n",
    "        id_counter+=1\n",
    "        temp_id_list.append(temp_id_set)\n",
    "    if 85 in list(set_source_dict_keys):\n",
    "        temp_id_set={}\n",
    "        temp_id_set[\"a\"]=\"unique_identifier\"\n",
    "        temp_id_set[\"type\"]=\"urn\"\n",
    "        #temp_id_set[\"id\"]=source_dict[85][-1]\n",
    "        temp_id_set[\"id\"]=source_dict[85]\n",
    "        ids_only_list.append(\"gid:01100005\"+str(ssoar_id))\n",
    "        temp_id_set[\"iri\"]=\"gid:01100005\"+str(ssoar_id)\n",
    "        temp_id_set[\"label\"]=\"identifier 01100005\"+str(ssoar_id)+\" [id/01100005\"+str(ssoar_id)+\"]\"\n",
    "        id_counter+=1\n",
    "        temp_id_list.append(temp_id_set)\n",
    "    return ids_only_list,temp_id_list"
   ]
  },
  {
   "cell_type": "code",
   "execution_count": 53,
   "metadata": {
    "collapsed": false
   },
   "outputs": [
    {
     "data": {
      "text/plain": [
       "Index(['ref_id', 'source_ssoar_id', 'ref_text', 'sowi_id', 'ssoar_match'], dtype='object')"
      ]
     },
     "execution_count": 53,
     "metadata": {},
     "output_type": "execute_result"
    }
   ],
   "source": [
    "ssoar_excit_sc.columns"
   ]
  },
  {
   "cell_type": "code",
   "execution_count": 54,
   "metadata": {
    "collapsed": false
   },
   "outputs": [
    {
     "data": {
      "text/html": [
       "<div>\n",
       "<table border=\"1\" class=\"dataframe\">\n",
       "  <thead>\n",
       "    <tr style=\"text-align: right;\">\n",
       "      <th></th>\n",
       "      <th>ref_id</th>\n",
       "      <th>source_ssoar_id</th>\n",
       "      <th>ref_text</th>\n",
       "      <th>sowi_id</th>\n",
       "      <th>ssoar_match</th>\n",
       "    </tr>\n",
       "  </thead>\n",
       "  <tbody>\n",
       "    <tr>\n",
       "      <th>14042</th>\n",
       "      <td>380805</td>\n",
       "      <td>120</td>\n",
       "      <td>Strauss, A.L. (1994). Grundlagen qualitativer ...</td>\n",
       "      <td>not_match</td>\n",
       "      <td>NaN</td>\n",
       "    </tr>\n",
       "  </tbody>\n",
       "</table>\n",
       "</div>"
      ],
      "text/plain": [
       "       ref_id  source_ssoar_id  \\\n",
       "14042  380805              120   \n",
       "\n",
       "                                                ref_text    sowi_id  \\\n",
       "14042  Strauss, A.L. (1994). Grundlagen qualitativer ...  not_match   \n",
       "\n",
       "      ssoar_match  \n",
       "14042         NaN  "
      ]
     },
     "execution_count": 54,
     "metadata": {},
     "output_type": "execute_result"
    }
   ],
   "source": [
    "ssoar_excit_sc[ssoar_excit_sc[\"sowi_id\"]==\"not_match\"].head(1)"
   ]
  },
  {
   "cell_type": "code",
   "execution_count": 55,
   "metadata": {
    "collapsed": false
   },
   "outputs": [
    {
     "name": "stderr",
     "output_type": "stream",
     "text": [
      "C:\\Program Files\\Anaconda2\\envs\\python3\\lib\\site-packages\\ipykernel\\__main__.py:1: UserWarning: Boolean Series key will be reindexed to match DataFrame index.\n",
      "  if __name__ == '__main__':\n"
     ]
    },
    {
     "data": {
      "text/html": [
       "<div>\n",
       "<table border=\"1\" class=\"dataframe\">\n",
       "  <thead>\n",
       "    <tr style=\"text-align: right;\">\n",
       "      <th></th>\n",
       "      <th>ref_id</th>\n",
       "      <th>source_ssoar_id</th>\n",
       "      <th>ref_text</th>\n",
       "      <th>sowi_id</th>\n",
       "      <th>ssoar_match</th>\n",
       "    </tr>\n",
       "  </thead>\n",
       "  <tbody>\n",
       "    <tr>\n",
       "      <th>14016</th>\n",
       "      <td>380779</td>\n",
       "      <td>120</td>\n",
       "      <td>Klüwer, R. (1983). Agieren und Mitagieren. Psy...</td>\n",
       "      <td>dzi-solit-0023705</td>\n",
       "      <td>NaN</td>\n",
       "    </tr>\n",
       "  </tbody>\n",
       "</table>\n",
       "</div>"
      ],
      "text/plain": [
       "       ref_id  source_ssoar_id  \\\n",
       "14016  380779              120   \n",
       "\n",
       "                                                ref_text            sowi_id  \\\n",
       "14016  Klüwer, R. (1983). Agieren und Mitagieren. Psy...  dzi-solit-0023705   \n",
       "\n",
       "      ssoar_match  \n",
       "14016         NaN  "
      ]
     },
     "execution_count": 55,
     "metadata": {},
     "output_type": "execute_result"
    }
   ],
   "source": [
    "ssoar_excit_sc[ssoar_excit_sc[\"sowi_id\"]!=\"error\"][ssoar_excit_sc[\"sowi_id\"]!=\"not_match\"].head(1)"
   ]
  },
  {
   "cell_type": "code",
   "execution_count": 56,
   "metadata": {
    "collapsed": false
   },
   "outputs": [],
   "source": [
    "#ssoar_excit_sc[\"ssoar_match_int_id\"]=ssoar_excit_sc[\"ssoar_match_int_id\"].apply(str)"
   ]
  },
  {
   "cell_type": "code",
   "execution_count": 57,
   "metadata": {
    "collapsed": false
   },
   "outputs": [
    {
     "name": "stderr",
     "output_type": "stream",
     "text": [
      "C:\\Program Files\\Anaconda2\\envs\\python3\\lib\\site-packages\\ipykernel\\__main__.py:1: SettingWithCopyWarning: \n",
      "A value is trying to be set on a copy of a slice from a DataFrame.\n",
      "Try using .loc[row_indexer,col_indexer] = value instead\n",
      "\n",
      "See the caveats in the documentation: http://pandas.pydata.org/pandas-docs/stable/indexing.html#indexing-view-versus-copy\n",
      "  if __name__ == '__main__':\n"
     ]
    }
   ],
   "source": [
    "ssoar_excit_sc[\"ssoar_match\"]=ssoar_excit_sc[\"ssoar_match\"].apply(str)"
   ]
  },
  {
   "cell_type": "code",
   "execution_count": 58,
   "metadata": {
    "collapsed": true
   },
   "outputs": [],
   "source": [
    "#wholesid=list(ssoar_excit_sc[\"ssoar_match\"])\n",
    "#wholesid=list(set(wholesid))\n",
    "#wholesid=pd.DataFrame(wholesid)\n",
    "#wholesid.to_csv(\"si.csv\",index=False)"
   ]
  },
  {
   "cell_type": "code",
   "execution_count": 59,
   "metadata": {
    "collapsed": true
   },
   "outputs": [],
   "source": [
    "#dictofrecords_h"
   ]
  },
  {
   "cell_type": "code",
   "execution_count": 60,
   "metadata": {
    "collapsed": false
   },
   "outputs": [],
   "source": [
    "listof_ssoar_id_str=[str(i) for i in listof_ssoar_id]"
   ]
  },
  {
   "cell_type": "code",
   "execution_count": 61,
   "metadata": {
    "collapsed": false
   },
   "outputs": [],
   "source": [
    "kdlr=list(dictofrecords_h.keys())"
   ]
  },
  {
   "cell_type": "code",
   "execution_count": 62,
   "metadata": {
    "collapsed": false
   },
   "outputs": [
    {
     "data": {
      "text/plain": [
       "614"
      ]
     },
     "execution_count": 62,
     "metadata": {},
     "output_type": "execute_result"
    }
   ],
   "source": [
    "len(list(set(listof_ssoar_id_str).intersection(set(kdlr))))"
   ]
  },
  {
   "cell_type": "code",
   "execution_count": 63,
   "metadata": {
    "collapsed": false
   },
   "outputs": [
    {
     "name": "stderr",
     "output_type": "stream",
     "text": [
      "C:\\Program Files\\Anaconda2\\envs\\python3\\lib\\site-packages\\pandas\\util\\decorators.py:91: SettingWithCopyWarning: \n",
      "A value is trying to be set on a copy of a slice from a DataFrame\n",
      "\n",
      "See the caveats in the documentation: http://pandas.pydata.org/pandas-docs/stable/indexing.html#indexing-view-versus-copy\n",
      "  return func(*args, **kwargs)\n"
     ]
    }
   ],
   "source": [
    "ssoar_excit_sc.drop_duplicates([\"ref_text\"], inplace=True)"
   ]
  },
  {
   "cell_type": "code",
   "execution_count": 64,
   "metadata": {
    "collapsed": false
   },
   "outputs": [
    {
     "data": {
      "text/plain": [
       "218982"
      ]
     },
     "execution_count": 64,
     "metadata": {},
     "output_type": "execute_result"
    }
   ],
   "source": [
    "len(ssoar_excit_sc)"
   ]
  },
  {
   "cell_type": "code",
   "execution_count": 65,
   "metadata": {
    "collapsed": true
   },
   "outputs": [],
   "source": [
    "ssoar_excit_sc.reset_index(drop=True,inplace=True)"
   ]
  },
  {
   "cell_type": "code",
   "execution_count": 66,
   "metadata": {
    "collapsed": true
   },
   "outputs": [],
   "source": [
    "listof_ssoar_id=list(set(listof_ssoar_id))"
   ]
  },
  {
   "cell_type": "code",
   "execution_count": 67,
   "metadata": {
    "collapsed": true
   },
   "outputs": [],
   "source": [
    "import re"
   ]
  },
  {
   "cell_type": "code",
   "execution_count": 68,
   "metadata": {
    "collapsed": false
   },
   "outputs": [],
   "source": [
    "total_ssoar_handler_int=[]\n",
    "count_err=0\n",
    "for i in total_ssoar_handler:\n",
    "    try:\n",
    "        total_ssoar_handler_int.append(int(i))\n",
    "    except:\n",
    "        count_err+=1"
   ]
  },
  {
   "cell_type": "code",
   "execution_count": 295,
   "metadata": {
    "collapsed": false
   },
   "outputs": [],
   "source": [
    "def json_generator(listof_ssoar_id):\n",
    "    list_of_br=[]\n",
    "    for ssoar_id in listof_ssoar_id:\n",
    "        tem_df=ssoar_excit_sc[ssoar_excit_sc[\"source_ssoar_id\"]==ssoar_id]\n",
    "        index_temp_df=list(tem_df.index)\n",
    "        ref_list_be=[]\n",
    "        br_temp={}\n",
    "        for index_references_in_a_pdf in index_temp_df:\n",
    "            be_dict={\"iri\":\"gbe:011001\"+str(tem_df.ix[index_references_in_a_pdf][\"ref_id\"]),\n",
    "                        \"a\":\"entry\",\n",
    "                        \"label\": \"bibliographic entry 011001\"+str(tem_df.ix[index_references_in_a_pdf][\"ref_id\"])+\" [be/011001\"+str(tem_df.ix[index_references_in_a_pdf][\"ref_id\"])+\"]\",\n",
    "                        \"content\":tem_df.ix[index_references_in_a_pdf][\"ref_text\"]}\n",
    "        \n",
    "            if tem_df.ix[index_references_in_a_pdf][\"ssoar_match\"]!='nan' and tem_df.ix[index_references_in_a_pdf][\"ssoar_match\"] in total_ssoar_handler:\n",
    "                    be_dict[\"crossref\"]=\"gbr:0110050000\"+str(tem_df.ix[index_references_in_a_pdf][\"ssoar_match\"])\n",
    "                    \n",
    "            elif tem_df.ix[index_references_in_a_pdf][\"sowi_id\"]!='error' and tem_df.ix[index_references_in_a_pdf][\"sowi_id\"]!='not_match':\n",
    "                be_dict[\"crossref\"]=\"gbr:0110050001\"+str(tem_df.ix[index_references_in_a_pdf][\"ref_id\"])\n",
    "                br_temp1={\"a\":[\"document\"], \n",
    "                          \"label\":\"bibliographic resource 0110050001\"+\n",
    "                          str(tem_df.ix[index_references_in_a_pdf][\"ref_id\"])+\n",
    "                          \" [br/0110050001\"+str(tem_df.ix[index_references_in_a_pdf][\"ref_id\"])+\"]\"}\n",
    "                br_temp1[\"iri\"]=\"gbr:0110050001\"+str(tem_df.ix[index_references_in_a_pdf][\"ref_id\"])\n",
    "                list_of_br.append(br_temp1)\n",
    "            else:\n",
    "                be_dict[\"crossref\"]=\"gbr:0110050002\"+str(tem_df.ix[index_references_in_a_pdf][\"ref_id\"])\n",
    "                br_temp1={\"a\":[\"document\"], \n",
    "                          \"label\":\"bibliographic resource 0110050002\"+\n",
    "                          str(tem_df.ix[index_references_in_a_pdf][\"ref_id\"])+\n",
    "                          \" [br/0110050002\"+str(tem_df.ix[index_references_in_a_pdf][\"ref_id\"])+\"]\"}\n",
    "                br_temp1[\"iri\"]=\"gbr:0110050002\"+str(tem_df.ix[index_references_in_a_pdf][\"ref_id\"])\n",
    "                list_of_br.append(br_temp1)\n",
    "            if tem_df.ix[index_references_in_a_pdf][\"ssoar_match\"]!=str(ssoar_id):    \n",
    "                ref_list_be.append(be_dict)\n",
    "                \n",
    "        if len(ref_list_be) >0:   \n",
    "            br_temp[\"reference\"]=ref_list_be\n",
    "        br_temp[\"iri\"]=\"gbr:0110050000\"+str(ssoar_id)\n",
    "        #source_dict=eval(tem_df.ix[index_references_in_a_pdf][\"ssoar_source_dict\"])\n",
    "        #indexforssoardict=str(tem_df.ix[index_references_in_a_pdf][\"source_ssoar_id\"])\n",
    "        source_dict=dictofrecords_h[str(ssoar_id)]\n",
    "\n",
    "        br_temp[\"a\"]=[\"document\",source_dict[101].replace(\"incollection\",\"inbook\").replace(\"recension\",\"ReviewArticle\").replace(\"monograph\",\"book\")]\n",
    "\n",
    "        list_source_dict_keys=list(source_dict.keys())\n",
    "        setofindex_pd={111,104,116,118,119}\n",
    "        set_source_dict_keys=set(list_source_dict_keys)\n",
    "        checkmylenght=list(setofindex_pd.intersection(set_source_dict_keys))\n",
    "        if  len(checkmylenght)>0:\n",
    "            gre_dict={\"iri\":\"gre:0110020000\"+str(ssoar_id), \"a\": [ \"generic_format\", \"digital_format\"], \"label\": \"resource embodiment 0110020000\"+str(ssoar_id)+ \" [re/0110020000\"+str(ssoar_id)+ \"]\",\"mime_type\": \"pdf\"}\n",
    "            if 104 in checkmylenght:\n",
    "                if '-' in source_dict[104]:\n",
    "                    gre_dict[\"fpage\"]=str(source_dict[104]).split('-')[0]\n",
    "                    gre_dict[\"lpage\"]=str(source_dict[104]).split('-')[1]\n",
    "        \n",
    "        \n",
    "        cont_list=[]\n",
    "        if 3 in list(source_dict.keys()):\n",
    "            for index_aut,author_item in enumerate(source_dict[3]):\n",
    "                ar_dict={\"iri\": \"gar:0110030000\"+str(index_aut)+str(ssoar_id), \"a\":\"role\",\n",
    "                         \"label\": \"agent role 0110030000\"+str(index_aut)+str(ssoar_id)+\" [ar/0110030000\"+str(index_aut)+str(ssoar_id)+\"]\",       \n",
    "                         \"role_type\": \"author\", \n",
    "                         \"role_of\": {\"iri\": \"gra:0110040000\"+str(index_aut)+str(ssoar_id), \"a\":\"agent\",\n",
    "                         \"label\": \"responsible agent 0110040000\"+str(index_aut)+str(ssoar_id)+\" [ra/0110040000\"+str(index_aut)+str(ssoar_id)+\"]\",\n",
    "                                }\n",
    "                         }\n",
    "                ais_ls=author_item.split(\",\")\n",
    "                if len(ais_ls)>1:\n",
    "                    ar_dict[\"role_of\"][\"fname\"]= ais_ls[0]            \n",
    "                    ar_dict[\"role_of\"][\"gname\"]= ais_ls[1]\n",
    "                else:\n",
    "                    ar_dict[\"role_of\"][\"name\"]=ais_ls[0]\n",
    "                \n",
    "                cont_list.append(ar_dict) \n",
    "\n",
    "        #br_temp[\"format\"]= [gre_dict]\n",
    "        br_temp[\"label\"]= \"bibliographic resource 0110050000\"+str(ssoar_id)+\" [br/0110050000\"+str(ssoar_id)+\"]\"\n",
    "        #br_temp[\"title\"]=source_dict[64][-1]\n",
    "        br_temp[\"title\"]=source_dict[64]\n",
    "        br_temp[\"contributor\"]=cont_list\n",
    "        #br_temp[\"year\"]=source_dict[15][-1]\n",
    "        year_entity = re.findall('(\\d{4})',source_dict[15])\n",
    "        br_temp[\"date\"]={\"value\":str(year_entity[0]),\"a\":\"year\"}\n",
    "        only_id_list,temp_id_list=creat_iden_part(set_source_dict_keys,ssoar_id,source_dict)\n",
    "        br_temp[\"identifier\"]=temp_id_list\n",
    "        \n",
    "        if \"reference\" in list(br_temp.keys()):\n",
    "            list_of_br.append(br_temp)\n",
    "    return list_of_br"
   ]
  },
  {
   "cell_type": "code",
   "execution_count": 296,
   "metadata": {
    "collapsed": false
   },
   "outputs": [],
   "source": [
    "def Generat_br_for_remained_match(cross_ref_list):\n",
    "    br_list=[]\n",
    "    for br_rec_new_id in cross_ref_list:\n",
    "        try:\n",
    "            source_dict=dictofrecords_h[br_rec_new_id]\n",
    "            br_temp={\"iri\": \"gbr:0110050000\"+br_rec_new_id,\n",
    "                      \"a\":[\"document\",source_dict[101].replace(\"incollection\",\"inbook\").replace(\"recension\",\"ReviewArticle\").replace(\"monograph\",\"book\")], \n",
    "                      \"label\":\"bibliographic resource 0110050000\"+br_rec_new_id+\" [br/0110050000\"+br_rec_new_id+\"]\",\n",
    "                      \"title\":source_dict[64]\n",
    "                     }\n",
    "            cont_list=[]\n",
    "            if 3 in list(source_dict.keys()):\n",
    "                for index_aut,author_item in enumerate(source_dict[3]):\n",
    "                    ar_dict={\"iri\": \"gar:0110030000\"+str(index_aut)+br_rec_new_id, \"a\":\"role\",\n",
    "                             \"label\": \"agent role 0110030000\"+str(index_aut)+br_rec_new_id+\" [ar/0110030000\"+str(index_aut)+br_rec_new_id+\"]\",       \n",
    "                             \"role_type\": \"author\", \n",
    "                             \"role_of\": {\"iri\": \"gra:0110040000\"+str(index_aut)+br_rec_new_id, \"a\":\"agent\",\n",
    "                             \"label\": \"responsible agent 0110040000\"+str(index_aut)+br_rec_new_id+\" [ra/0110040000\"+str(index_aut)+br_rec_new_id+\"]\",\n",
    "                            }\n",
    "                         }\n",
    "                    ais_ls=author_item.split(\",\")\n",
    "                    if len(ais_ls)>1:\n",
    "                        ar_dict[\"role_of\"][\"fname\"]= ais_ls[0]            \n",
    "                        ar_dict[\"role_of\"][\"gname\"]= ais_ls[1]\n",
    "                    else:\n",
    "                        ar_dict[\"role_of\"][\"name\"]=ais_ls[0]\n",
    "                    cont_list.append(ar_dict)\n",
    "                    \n",
    "            br_temp[\"contributor\"]=cont_list\n",
    "            year_entity = re.findall('(\\d{4})',source_dict[15])\n",
    "            br_temp[\"date\"]={\"value\":str(year_entity[0]),\"a\":\"year\"}\n",
    "            list_source_dict_keys=list(source_dict.keys())\n",
    "            set_source_dict_keys=set(list_source_dict_keys)\n",
    "            only_id_list,temp_id_list=creat_iden_part(set_source_dict_keys,int(br_rec_new_id),source_dict)\n",
    "            br_temp[\"identifier\"]=temp_id_list\n",
    "            br_list.append(br_temp)\n",
    "            #print(source_dict)\n",
    "        except:\n",
    "            pass\n",
    "        #tem_br_rec[\"iri\"]=\"gbr:0110050000\"+str(br_rec_new_id)\n",
    "        #br_temp[\"a\"]=[\"document\",source_dict[101].replace(\"incollection\",\"inbook\").replace(\"recension\",\"ReviewArticle\")]\n",
    "    return br_list\n",
    "        \n",
    "        \n",
    "    "
   ]
  },
  {
   "cell_type": "code",
   "execution_count": 297,
   "metadata": {
    "collapsed": false
   },
   "outputs": [],
   "source": [
    "#len(list(set(listof_ssoar_id)))"
   ]
  },
  {
   "cell_type": "code",
   "execution_count": 298,
   "metadata": {
    "collapsed": false
   },
   "outputs": [],
   "source": [
    "#len(list(set(listof_ssoar_id).intersection(set(total_ssoar_handler_int))))"
   ]
  },
  {
   "cell_type": "code",
   "execution_count": 299,
   "metadata": {
    "collapsed": true
   },
   "outputs": [],
   "source": [
    "deltaset=set(listof_ssoar_id)-set(total_ssoar_handler_int)"
   ]
  },
  {
   "cell_type": "code",
   "execution_count": 300,
   "metadata": {
    "collapsed": true
   },
   "outputs": [],
   "source": [
    "listof_ssoar_id=list(set(listof_ssoar_id)-deltaset)"
   ]
  },
  {
   "cell_type": "code",
   "execution_count": 301,
   "metadata": {
    "collapsed": false
   },
   "outputs": [],
   "source": [
    "list_of_br=json_generator(listof_ssoar_id)"
   ]
  },
  {
   "cell_type": "code",
   "execution_count": 302,
   "metadata": {
    "collapsed": false
   },
   "outputs": [],
   "source": [
    "list_iri=list(pd.DataFrame(list_of_br)[\"iri\"])"
   ]
  },
  {
   "cell_type": "code",
   "execution_count": 303,
   "metadata": {
    "collapsed": false
   },
   "outputs": [],
   "source": [
    "df_br_list=pd.DataFrame(list_of_br)"
   ]
  },
  {
   "cell_type": "code",
   "execution_count": 304,
   "metadata": {
    "collapsed": false
   },
   "outputs": [],
   "source": [
    "cross_ref_list=[]\n",
    "for item in list(df_br_list[~df_br_list[\"reference\"].isnull()][\"reference\"]):\n",
    "    for item1 in item:\n",
    "        cross_ref_list.append(item1[\"crossref\"])"
   ]
  },
  {
   "cell_type": "code",
   "execution_count": 305,
   "metadata": {
    "collapsed": false
   },
   "outputs": [],
   "source": [
    "cross_ref_list2=[]\n",
    "for item in list(set(cross_ref_list)-set(list_iri)):  # referenced but not exist in br\n",
    "    cross_ref_list2.append(item.replace(\"gbr:0110050000\",\"\"))"
   ]
  },
  {
   "cell_type": "code",
   "execution_count": 306,
   "metadata": {
    "collapsed": false
   },
   "outputs": [],
   "source": [
    "list_of_br_extra=Generat_br_for_remained_match(cross_ref_list2)"
   ]
  },
  {
   "cell_type": "code",
   "execution_count": 307,
   "metadata": {
    "collapsed": true
   },
   "outputs": [],
   "source": [
    "list_of_br=list_of_br_extra+list_of_br"
   ]
  },
  {
   "cell_type": "code",
   "execution_count": 308,
   "metadata": {
    "collapsed": true
   },
   "outputs": [],
   "source": [
    "from random import shuffle"
   ]
  },
  {
   "cell_type": "code",
   "execution_count": 309,
   "metadata": {
    "collapsed": false
   },
   "outputs": [],
   "source": [
    "shuffle(list_of_br)"
   ]
  },
  {
   "cell_type": "code",
   "execution_count": 310,
   "metadata": {
    "collapsed": false
   },
   "outputs": [],
   "source": [
    "br_json={}\n",
    "br_json[\"iri\"]=\"gbr:\"\n",
    "br_json[\"@context\"]=\"context.json\"\n",
    "br_json[\"ReviewArticle\"]=\"fabio:ReviewArticle\"\n",
    "br_json[\"@graph\"]=[]\n",
    "br_json[\"@graph\"]=list_of_br\n",
    "#br_json[\"excite_project_match\"]={ \"@id\": \"biro:references\", \"@type\": \"@vocab\"}"
   ]
  },
  {
   "cell_type": "code",
   "execution_count": 311,
   "metadata": {
    "collapsed": false
   },
   "outputs": [],
   "source": [
    "#br_json"
   ]
  },
  {
   "cell_type": "code",
   "execution_count": 312,
   "metadata": {
    "collapsed": false
   },
   "outputs": [],
   "source": [
    "tmls=[]\n",
    "for item in br_json['@graph']:\n",
    "    tmls+=item[\"a\"]\n",
    "tmls=list(set(tmls))"
   ]
  },
  {
   "cell_type": "code",
   "execution_count": 313,
   "metadata": {
    "collapsed": false
   },
   "outputs": [
    {
     "data": {
      "text/plain": [
       "['collection', 'book', 'article', 'document', 'inbook', 'ReviewArticle']"
      ]
     },
     "execution_count": 313,
     "metadata": {},
     "output_type": "execute_result"
    }
   ],
   "source": [
    "tmls"
   ]
  },
  {
   "cell_type": "code",
   "execution_count": 314,
   "metadata": {
    "collapsed": false
   },
   "outputs": [],
   "source": [
    "import json\n",
    "\n",
    "with open('data1.json', 'w', encoding=\"utf8\") as fp:\n",
    "    json.dump(br_json, fp, indent=4,ensure_ascii=False)"
   ]
  },
  {
   "cell_type": "code",
   "execution_count": 89,
   "metadata": {
    "collapsed": false
   },
   "outputs": [],
   "source": [
    "#1-    #type of documnet (monograph:book , recension(http://purl.org/spar/fabio/ReviewArticle)\n",
    "       #, incollection:inbook) ----> added to br\n",
    "#4-    #crossref should be replaced ---->    \n",
    "#6-    #provenance ---->\n",
    "#10-    # match not in br -->done\n",
    "\n",
    "#2-    #replace prefix ----> done\n",
    "#3-    #remove dublicate ----> done\n",
    "#5-    #title altrnative ----> corrected\n",
    "#7-    #check records to see that content are correct? ---->  done\n",
    "#8-    # remove dublication of ref text  ----> done\n",
    "#9     # remove self citation (first papge of ssoar) ----> done\n",
    "\n",
    "# br- reference - create? - target list and apply json_genrator (target-source)\n",
    "#author ambiguty\n",
    "\n",
    "#format"
   ]
  },
  {
   "cell_type": "code",
   "execution_count": 90,
   "metadata": {
    "collapsed": true
   },
   "outputs": [],
   "source": [
    "# create a table which cotain information only diff ref_id, same ssoar_id , same match_id"
   ]
  },
  {
   "cell_type": "code",
   "execution_count": 91,
   "metadata": {
    "collapsed": true
   },
   "outputs": [],
   "source": [
    "#3798162\n",
    "#706291"
   ]
  },
  {
   "cell_type": "code",
   "execution_count": 92,
   "metadata": {
    "collapsed": true
   },
   "outputs": [],
   "source": [
    "#datatype():\n",
    "#00 -> id\n",
    "#01 -> be\n",
    "#02 -> re\n",
    "#03 -> ar\n",
    "#04 -> ra\n",
    "#05 -> br\n",
    "#============================================\n",
    "#corpus(0000)\n",
    "#000 -> ssoar\n",
    "#001 -> sowiport\n",
    "#002 -> not match\n",
    "#============================================\n",
    "#be -> prefix(0110) datatype(01) ref_id\n",
    "#####\n",
    "#id -> prefix(0110) datatype(00) datatype(00) ssoar_id\n",
    "#####\n",
    "#ra -> prefix(0110) datatype(04) corpus(0000) index(00) ssoar_id\n",
    "#####\n",
    "#ar -> prefix(0110) datatype(03) corpus(0000) index(00) ssoar_id\n",
    "#####\n",
    "#re -> prefix(0110) datatype(02) corpus(0000) ssoar_id\n",
    "#####\n",
    "#br -> prefix(0110) datatype(05) corpus(0000) (ssoar_id/ref_id)\n",
    "#####"
   ]
  },
  {
   "cell_type": "markdown",
   "metadata": {},
   "source": [
    "# Check data \n",
    "#"
   ]
  },
  {
   "cell_type": "code",
   "execution_count": 93,
   "metadata": {
    "collapsed": false
   },
   "outputs": [],
   "source": [
    "dataindf=pd.DataFrame(br_json['@graph'])"
   ]
  },
  {
   "cell_type": "code",
   "execution_count": 94,
   "metadata": {
    "collapsed": false
   },
   "outputs": [],
   "source": [
    "iri_df_br_dub=dataindf.duplicated(\"iri\")"
   ]
  },
  {
   "cell_type": "code",
   "execution_count": 95,
   "metadata": {
    "collapsed": false
   },
   "outputs": [],
   "source": [
    "iri_df_br_dub=pd.DataFrame(iri_df_br_dub)"
   ]
  },
  {
   "cell_type": "code",
   "execution_count": 96,
   "metadata": {
    "collapsed": false
   },
   "outputs": [
    {
     "data": {
      "text/html": [
       "<div>\n",
       "<table border=\"1\" class=\"dataframe\">\n",
       "  <thead>\n",
       "    <tr style=\"text-align: right;\">\n",
       "      <th></th>\n",
       "      <th>0</th>\n",
       "    </tr>\n",
       "  </thead>\n",
       "  <tbody>\n",
       "  </tbody>\n",
       "</table>\n",
       "</div>"
      ],
      "text/plain": [
       "Empty DataFrame\n",
       "Columns: [0]\n",
       "Index: []"
      ]
     },
     "execution_count": 96,
     "metadata": {},
     "output_type": "execute_result"
    }
   ],
   "source": [
    "iri_df_br_dub[iri_df_br_dub[0]==True] #good :)   means not reapeted id and item"
   ]
  },
  {
   "cell_type": "code",
   "execution_count": 97,
   "metadata": {
    "collapsed": false
   },
   "outputs": [
    {
     "data": {
      "text/plain": [
       "True"
      ]
     },
     "execution_count": 97,
     "metadata": {},
     "output_type": "execute_result"
    }
   ],
   "source": [
    "len(dataindf)==len(dataindf[dataindf[\"iri\"].str.contains(\"gbr:\")]) # good :) all items are br"
   ]
  },
  {
   "cell_type": "code",
   "execution_count": 98,
   "metadata": {
    "collapsed": false
   },
   "outputs": [
    {
     "data": {
      "text/plain": [
       "614"
      ]
     },
     "execution_count": 98,
     "metadata": {},
     "output_type": "execute_result"
    }
   ],
   "source": [
    "len(worikinglist)"
   ]
  },
  {
   "cell_type": "code",
   "execution_count": 99,
   "metadata": {
    "collapsed": false
   },
   "outputs": [
    {
     "data": {
      "text/plain": [
       "873"
      ]
     },
     "execution_count": 99,
     "metadata": {},
     "output_type": "execute_result"
    }
   ],
   "source": [
    "len(dataindf[~dataindf[\"identifier\"].isnull()])"
   ]
  },
  {
   "cell_type": "code",
   "execution_count": 100,
   "metadata": {
    "collapsed": false
   },
   "outputs": [
    {
     "data": {
      "text/plain": [
       "False"
      ]
     },
     "execution_count": 100,
     "metadata": {},
     "output_type": "execute_result"
    }
   ],
   "source": [
    "len(worikinglist)==len(dataindf[~dataindf[\"identifier\"].isnull()]) # good :) number of item with identifierl are equal to working list "
   ]
  },
  {
   "cell_type": "code",
   "execution_count": 101,
   "metadata": {
    "collapsed": false
   },
   "outputs": [
    {
     "data": {
      "text/plain": [
       "873"
      ]
     },
     "execution_count": 101,
     "metadata": {},
     "output_type": "execute_result"
    }
   ],
   "source": [
    "len(dataindf[~dataindf[\"year\"].isnull()])"
   ]
  },
  {
   "cell_type": "code",
   "execution_count": 102,
   "metadata": {
    "collapsed": false
   },
   "outputs": [
    {
     "data": {
      "text/plain": [
       "Index(['a', 'contributor', 'identifier', 'iri', 'label', 'reference', 'title',\n",
       "       'year'],\n",
       "      dtype='object')"
      ]
     },
     "execution_count": 102,
     "metadata": {},
     "output_type": "execute_result"
    }
   ],
   "source": [
    "dataindf.columns"
   ]
  },
  {
   "cell_type": "code",
   "execution_count": 103,
   "metadata": {
    "collapsed": false
   },
   "outputs": [
    {
     "data": {
      "text/plain": [
       "873"
      ]
     },
     "execution_count": 103,
     "metadata": {},
     "output_type": "execute_result"
    }
   ],
   "source": [
    "len(dataindf[~dataindf[\"title\"].isnull()]) # good"
   ]
  },
  {
   "cell_type": "code",
   "execution_count": 104,
   "metadata": {
    "collapsed": false
   },
   "outputs": [
    {
     "data": {
      "text/plain": [
       "561"
      ]
     },
     "execution_count": 104,
     "metadata": {},
     "output_type": "execute_result"
    }
   ],
   "source": [
    "len(dataindf[~dataindf[\"reference\"].isnull()]) # good"
   ]
  },
  {
   "cell_type": "code",
   "execution_count": 105,
   "metadata": {
    "collapsed": false
   },
   "outputs": [
    {
     "data": {
      "text/plain": [
       "33927"
      ]
     },
     "execution_count": 105,
     "metadata": {},
     "output_type": "execute_result"
    }
   ],
   "source": [
    "len(dataindf[~dataindf[\"label\"].isnull()]) # good"
   ]
  },
  {
   "cell_type": "code",
   "execution_count": 106,
   "metadata": {
    "collapsed": false
   },
   "outputs": [
    {
     "data": {
      "text/plain": [
       "33927"
      ]
     },
     "execution_count": 106,
     "metadata": {},
     "output_type": "execute_result"
    }
   ],
   "source": [
    "len(dataindf[~dataindf[\"iri\"].isnull()]) # good"
   ]
  },
  {
   "cell_type": "code",
   "execution_count": 107,
   "metadata": {
    "collapsed": false
   },
   "outputs": [
    {
     "data": {
      "text/plain": [
       "873"
      ]
     },
     "execution_count": 107,
     "metadata": {},
     "output_type": "execute_result"
    }
   ],
   "source": [
    "len(dataindf[~dataindf[\"identifier\"].isnull()]) # good "
   ]
  },
  {
   "cell_type": "code",
   "execution_count": 108,
   "metadata": {
    "collapsed": false
   },
   "outputs": [
    {
     "data": {
      "text/plain": [
       "873"
      ]
     },
     "execution_count": 108,
     "metadata": {},
     "output_type": "execute_result"
    }
   ],
   "source": [
    "len(dataindf[~dataindf[\"contributor\"].isnull()]) # good"
   ]
  },
  {
   "cell_type": "code",
   "execution_count": 109,
   "metadata": {
    "collapsed": false
   },
   "outputs": [
    {
     "data": {
      "text/plain": [
       "33927"
      ]
     },
     "execution_count": 109,
     "metadata": {},
     "output_type": "execute_result"
    }
   ],
   "source": [
    "len(dataindf[~dataindf[\"a\"].isnull()]) # good"
   ]
  },
  {
   "cell_type": "code",
   "execution_count": 110,
   "metadata": {
    "collapsed": false
   },
   "outputs": [
    {
     "data": {
      "text/plain": [
       "{'ReviewArticle', 'article', 'collection', 'document', 'inbook', 'monograph'}"
      ]
     },
     "execution_count": 110,
     "metadata": {},
     "output_type": "execute_result"
    }
   ],
   "source": [
    "listofsum=[]\n",
    "for item in list(dataindf[\"a\"]):\n",
    "    listofsum+=item\n",
    "set(listofsum) # good"
   ]
  },
  {
   "cell_type": "code",
   "execution_count": 111,
   "metadata": {
    "collapsed": false
   },
   "outputs": [],
   "source": [
    "listofsum=[]\n",
    "for item in list(dataindf[~dataindf[\"contributor\"].isnull()][\"contributor\"]):\n",
    "    listofsum+=item\n"
   ]
  },
  {
   "cell_type": "code",
   "execution_count": 112,
   "metadata": {
    "collapsed": false
   },
   "outputs": [],
   "source": [
    "conterbiuter_list=pd.DataFrame(listofsum)"
   ]
  },
  {
   "cell_type": "code",
   "execution_count": 113,
   "metadata": {
    "collapsed": false
   },
   "outputs": [],
   "source": [
    "iri_aut_list=pd.DataFrame(conterbiuter_list.duplicated(\"iri\"))"
   ]
  },
  {
   "cell_type": "code",
   "execution_count": 114,
   "metadata": {
    "collapsed": false
   },
   "outputs": [
    {
     "data": {
      "text/html": [
       "<div>\n",
       "<table border=\"1\" class=\"dataframe\">\n",
       "  <thead>\n",
       "    <tr style=\"text-align: right;\">\n",
       "      <th></th>\n",
       "      <th>0</th>\n",
       "    </tr>\n",
       "  </thead>\n",
       "  <tbody>\n",
       "  </tbody>\n",
       "</table>\n",
       "</div>"
      ],
      "text/plain": [
       "Empty DataFrame\n",
       "Columns: [0]\n",
       "Index: []"
      ]
     },
     "execution_count": 114,
     "metadata": {},
     "output_type": "execute_result"
    }
   ],
   "source": [
    "iri_aut_list[iri_aut_list[0]==True] # good not reapition in author ids"
   ]
  },
  {
   "cell_type": "code",
   "execution_count": 115,
   "metadata": {
    "collapsed": false
   },
   "outputs": [],
   "source": [
    "\n",
    "ra_list_iri=pd.DataFrame(list(conterbiuter_list[\"role_of\"]))[\"iri\"]"
   ]
  },
  {
   "cell_type": "code",
   "execution_count": 116,
   "metadata": {
    "collapsed": false
   },
   "outputs": [],
   "source": [
    "ra_list_iri=pd.DataFrame(ra_list_iri)"
   ]
  },
  {
   "cell_type": "code",
   "execution_count": 117,
   "metadata": {
    "collapsed": false
   },
   "outputs": [],
   "source": [
    "ra_list_iri_dublicate=ra_list_iri.duplicated(\"iri\")"
   ]
  },
  {
   "cell_type": "code",
   "execution_count": 118,
   "metadata": {
    "collapsed": false
   },
   "outputs": [],
   "source": [
    "ra_list_iri_dublicate=pd.DataFrame(ra_list_iri_dublicate)"
   ]
  },
  {
   "cell_type": "code",
   "execution_count": 119,
   "metadata": {
    "collapsed": false
   },
   "outputs": [
    {
     "data": {
      "text/html": [
       "<div>\n",
       "<table border=\"1\" class=\"dataframe\">\n",
       "  <thead>\n",
       "    <tr style=\"text-align: right;\">\n",
       "      <th></th>\n",
       "      <th>0</th>\n",
       "    </tr>\n",
       "  </thead>\n",
       "  <tbody>\n",
       "  </tbody>\n",
       "</table>\n",
       "</div>"
      ],
      "text/plain": [
       "Empty DataFrame\n",
       "Columns: [0]\n",
       "Index: []"
      ]
     },
     "execution_count": 119,
     "metadata": {},
     "output_type": "execute_result"
    }
   ],
   "source": [
    "ra_list_iri_dublicate[ra_list_iri_dublicate[0]==True] # good no dublicate in ra ids"
   ]
  },
  {
   "cell_type": "code",
   "execution_count": 120,
   "metadata": {
    "collapsed": false
   },
   "outputs": [],
   "source": [
    "#dataindf\n",
    "ra_df=pd.DataFrame(list(conterbiuter_list[\"role_of\"]))"
   ]
  },
  {
   "cell_type": "code",
   "execution_count": 121,
   "metadata": {
    "collapsed": false
   },
   "outputs": [
    {
     "data": {
      "text/html": [
       "<div>\n",
       "<table border=\"1\" class=\"dataframe\">\n",
       "  <thead>\n",
       "    <tr style=\"text-align: right;\">\n",
       "      <th></th>\n",
       "      <th>a</th>\n",
       "      <th>fname</th>\n",
       "      <th>gname</th>\n",
       "      <th>iri</th>\n",
       "      <th>label</th>\n",
       "      <th>name</th>\n",
       "    </tr>\n",
       "  </thead>\n",
       "  <tbody>\n",
       "    <tr>\n",
       "      <th>27</th>\n",
       "      <td>agent</td>\n",
       "      <td>NaN</td>\n",
       "      <td>NaN</td>\n",
       "      <td>gra:0110040000010020</td>\n",
       "      <td>responsible agent 0110040000010020 [ra/0110040...</td>\n",
       "      <td>ISF München</td>\n",
       "    </tr>\n",
       "    <tr>\n",
       "      <th>930</th>\n",
       "      <td>agent</td>\n",
       "      <td>NaN</td>\n",
       "      <td>NaN</td>\n",
       "      <td>gra:0110040000238407</td>\n",
       "      <td>responsible agent 0110040000238407 [ra/0110040...</td>\n",
       "      <td>Markus Schatten</td>\n",
       "    </tr>\n",
       "    <tr>\n",
       "      <th>982</th>\n",
       "      <td>agent</td>\n",
       "      <td>NaN</td>\n",
       "      <td>NaN</td>\n",
       "      <td>gra:0110040000012545</td>\n",
       "      <td>responsible agent 0110040000012545 [ra/0110040...</td>\n",
       "      <td>Franke. Sabine</td>\n",
       "    </tr>\n",
       "  </tbody>\n",
       "</table>\n",
       "</div>"
      ],
      "text/plain": [
       "         a fname gname                   iri  \\\n",
       "27   agent   NaN   NaN  gra:0110040000010020   \n",
       "930  agent   NaN   NaN  gra:0110040000238407   \n",
       "982  agent   NaN   NaN  gra:0110040000012545   \n",
       "\n",
       "                                                 label             name  \n",
       "27   responsible agent 0110040000010020 [ra/0110040...      ISF München  \n",
       "930  responsible agent 0110040000238407 [ra/0110040...  Markus Schatten  \n",
       "982  responsible agent 0110040000012545 [ra/0110040...   Franke. Sabine  "
      ]
     },
     "execution_count": 121,
     "metadata": {},
     "output_type": "execute_result"
    }
   ],
   "source": [
    "ra_df[~ra_df[\"name\"].isnull()]"
   ]
  },
  {
   "cell_type": "code",
   "execution_count": 122,
   "metadata": {
    "collapsed": false
   },
   "outputs": [
    {
     "data": {
      "text/plain": [
       "{'1887',\n",
       " '1900',\n",
       " '1904',\n",
       " '1929',\n",
       " '1934',\n",
       " '1974',\n",
       " '1975',\n",
       " '1976',\n",
       " '1978',\n",
       " '1979',\n",
       " '1980',\n",
       " '1981',\n",
       " '1983',\n",
       " '1985',\n",
       " '1986',\n",
       " '1987',\n",
       " '1988',\n",
       " '1989',\n",
       " '1990',\n",
       " '1991',\n",
       " '1992',\n",
       " '1993',\n",
       " '1994',\n",
       " '1995',\n",
       " '1996',\n",
       " '1997',\n",
       " '1998',\n",
       " '1999',\n",
       " '2000',\n",
       " '2001',\n",
       " '2002',\n",
       " '2003',\n",
       " '2004',\n",
       " '2005',\n",
       " '2006',\n",
       " '2007',\n",
       " '2008',\n",
       " '2009',\n",
       " '2010',\n",
       " '2011',\n",
       " '2012',\n",
       " '2013',\n",
       " '2014',\n",
       " '2015',\n",
       " '2016',\n",
       " '2017'}"
      ]
     },
     "execution_count": 122,
     "metadata": {},
     "output_type": "execute_result"
    }
   ],
   "source": [
    "set(list(dataindf[~dataindf[\"year\"].isnull()][\"year\"]))"
   ]
  },
  {
   "cell_type": "code",
   "execution_count": 123,
   "metadata": {
    "collapsed": false
   },
   "outputs": [
    {
     "data": {
      "text/html": [
       "<div>\n",
       "<table border=\"1\" class=\"dataframe\">\n",
       "  <thead>\n",
       "    <tr style=\"text-align: right;\">\n",
       "      <th></th>\n",
       "      <th>a</th>\n",
       "      <th>contributor</th>\n",
       "      <th>identifier</th>\n",
       "      <th>iri</th>\n",
       "      <th>label</th>\n",
       "      <th>reference</th>\n",
       "      <th>title</th>\n",
       "      <th>year</th>\n",
       "    </tr>\n",
       "  </thead>\n",
       "  <tbody>\n",
       "    <tr>\n",
       "      <th>12493</th>\n",
       "      <td>[document, monograph]</td>\n",
       "      <td>[{'label': 'agent role 0110030000051629 [ar/01...</td>\n",
       "      <td>[{'id': 'http://www.ssoar.info/ssoar/handle/do...</td>\n",
       "      <td>gbr:011005000051629</td>\n",
       "      <td>bibliographic resource 011005000051629 [br/011...</td>\n",
       "      <td>[{'label': 'bibliographic entry 011001492303 [...</td>\n",
       "      <td>Kinderlosigkeit und Kinderreichtum: Zwei Phäno...</td>\n",
       "      <td>2015</td>\n",
       "    </tr>\n",
       "  </tbody>\n",
       "</table>\n",
       "</div>"
      ],
      "text/plain": [
       "                           a  \\\n",
       "12493  [document, monograph]   \n",
       "\n",
       "                                             contributor  \\\n",
       "12493  [{'label': 'agent role 0110030000051629 [ar/01...   \n",
       "\n",
       "                                              identifier                  iri  \\\n",
       "12493  [{'id': 'http://www.ssoar.info/ssoar/handle/do...  gbr:011005000051629   \n",
       "\n",
       "                                                   label  \\\n",
       "12493  bibliographic resource 011005000051629 [br/011...   \n",
       "\n",
       "                                               reference  \\\n",
       "12493  [{'label': 'bibliographic entry 011001492303 [...   \n",
       "\n",
       "                                                   title  year  \n",
       "12493  Kinderlosigkeit und Kinderreichtum: Zwei Phäno...  2015  "
      ]
     },
     "execution_count": 123,
     "metadata": {},
     "output_type": "execute_result"
    }
   ],
   "source": [
    "dataindf[dataindf[\"iri\"]==\"gbr:011005000051629\"]"
   ]
  },
  {
   "cell_type": "code",
   "execution_count": 124,
   "metadata": {
    "collapsed": false
   },
   "outputs": [
    {
     "data": {
      "text/plain": [
       "873"
      ]
     },
     "execution_count": 124,
     "metadata": {},
     "output_type": "execute_result"
    }
   ],
   "source": [
    "len(dataindf[~dataindf[\"year\"].isnull()][\"year\"])"
   ]
  },
  {
   "cell_type": "code",
   "execution_count": 125,
   "metadata": {
    "collapsed": false
   },
   "outputs": [
    {
     "data": {
      "text/plain": [
       "873"
      ]
     },
     "execution_count": 125,
     "metadata": {},
     "output_type": "execute_result"
    }
   ],
   "source": [
    "len(dataindf[dataindf[\"iri\"].str.contains(\"gbr:0110050000\")])"
   ]
  },
  {
   "cell_type": "code",
   "execution_count": 129,
   "metadata": {
    "collapsed": false
   },
   "outputs": [],
   "source": [
    "lenref=pd.DataFrame(dataindf[~dataindf[\"reference\"].isnull()][\"reference\"].apply(len))"
   ]
  },
  {
   "cell_type": "code",
   "execution_count": 130,
   "metadata": {
    "collapsed": false
   },
   "outputs": [
    {
     "data": {
      "text/plain": [
       "5"
      ]
     },
     "execution_count": 130,
     "metadata": {},
     "output_type": "execute_result"
    }
   ],
   "source": [
    "len(lenref[lenref[\"reference\"]==1])"
   ]
  },
  {
   "cell_type": "code",
   "execution_count": 162,
   "metadata": {
    "collapsed": false
   },
   "outputs": [
    {
     "data": {
      "text/plain": [
       "[{'a': 'unique_identifier',\n",
       "  'id': 'http://www.ssoar.info/ssoar/handle/document/51413',\n",
       "  'iri': 'gid:0110000551413',\n",
       "  'label': 'identifier 0110000551413 [id/0110000551413]',\n",
       "  'type': 'uri'},\n",
       " {'a': 'unique_identifier',\n",
       "  'id': '2079-8555',\n",
       "  'iri': 'gid:0110000551413',\n",
       "  'label': 'identifier 0110000551413 [id/0110000551413]',\n",
       "  'type': 'issn'},\n",
       " {'a': 'unique_identifier',\n",
       "  'id': 'http://dx.doi.org/10.5922/2079-8555-2016-1-6',\n",
       "  'iri': 'gid:0110000551413',\n",
       "  'label': 'identifier 0110000551413 [id/0110000551413]',\n",
       "  'type': 'doi'},\n",
       " {'a': 'unique_identifier',\n",
       "  'id': 'urn:nbn:de:0168-ssoar-51413-4',\n",
       "  'iri': 'gid:0110000551413',\n",
       "  'label': 'identifier 0110000551413 [id/0110000551413]',\n",
       "  'type': 'urn'}]"
      ]
     },
     "execution_count": 162,
     "metadata": {},
     "output_type": "execute_result"
    }
   ],
   "source": [
    "dataindf.ix[33416][\"identifier\"]"
   ]
  },
  {
   "cell_type": "code",
   "execution_count": 163,
   "metadata": {
    "collapsed": false
   },
   "outputs": [
    {
     "data": {
      "text/plain": [
       "a                                            [document, article]\n",
       "contributor    [{'label': 'agent role 0110030000051413 [ar/01...\n",
       "identifier     [{'id': 'http://www.ssoar.info/ssoar/handle/do...\n",
       "iri                                          gbr:011005000051413\n",
       "label          bibliographic resource 011005000051413 [br/011...\n",
       "reference      [{'label': 'bibliographic entry 011001221417 [...\n",
       "title          Local border traffic as an efficient tool for ...\n",
       "year                                                        2016\n",
       "Name: 33416, dtype: object"
      ]
     },
     "execution_count": 163,
     "metadata": {},
     "output_type": "execute_result"
    }
   ],
   "source": [
    "dataindf.ix[33416]"
   ]
  },
  {
   "cell_type": "code",
   "execution_count": 131,
   "metadata": {
    "collapsed": true
   },
   "outputs": [],
   "source": [
    "def repstr2(tz):\n",
    "    return tz.replace(\"gbr:0110050000\",\"\")"
   ]
  },
  {
   "cell_type": "code",
   "execution_count": 132,
   "metadata": {
    "collapsed": true
   },
   "outputs": [],
   "source": [
    "def firstposinlist(llssstt):\n",
    "    return(llssstt[0][\"crossref\"])"
   ]
  },
  {
   "cell_type": "code",
   "execution_count": 133,
   "metadata": {
    "collapsed": false
   },
   "outputs": [
    {
     "data": {
      "text/plain": [
       "60.01604278074866"
      ]
     },
     "execution_count": 133,
     "metadata": {},
     "output_type": "execute_result"
    }
   ],
   "source": [
    "lenref[\"reference\"].mean()"
   ]
  },
  {
   "cell_type": "code",
   "execution_count": 179,
   "metadata": {
    "collapsed": false
   },
   "outputs": [],
   "source": [
    "comparisiontwodfssoar_refs=pd.DataFrame(dataindf.ix[list(lenref[lenref[\"reference\"]==1].index)][\"iri\"])[\"iri\"]==pd.DataFrame(dataindf.ix[list(lenref[lenref[\"reference\"]==1].index)][\"reference\"].apply(firstposinlist))[\"reference\"]"
   ]
  },
  {
   "cell_type": "code",
   "execution_count": 180,
   "metadata": {
    "collapsed": false
   },
   "outputs": [
    {
     "data": {
      "text/plain": [
       "2052     False\n",
       "12051    False\n",
       "12504    False\n",
       "26245    False\n",
       "33416    False\n",
       "dtype: bool"
      ]
     },
     "execution_count": 180,
     "metadata": {},
     "output_type": "execute_result"
    }
   ],
   "source": [
    "comparisiontwodfssoar_refs #good"
   ]
  },
  {
   "cell_type": "code",
   "execution_count": 181,
   "metadata": {
    "collapsed": true
   },
   "outputs": [],
   "source": [
    "listoflenonereferences=['34837','32806','51240','51276','24674','51300','51312','51313','32883','51327','37015','32930','51369','51370','51371','51375','51377','51404','51407','35048','51461','35080','10604','51573','51574','6533','10768','23152','43643','33411','19091','21185','21187','45773','41729','41756','25586','50326','48320','28268','28269','28276','36524','10001','51045','10091','32659','32673','32677','10182','34808']"
   ]
  },
  {
   "cell_type": "code",
   "execution_count": 137,
   "metadata": {
    "collapsed": false
   },
   "outputs": [],
   "source": [
    "#dataindf.ix[6412][\"iri\"]"
   ]
  },
  {
   "cell_type": "code",
   "execution_count": 138,
   "metadata": {
    "collapsed": false
   },
   "outputs": [],
   "source": [
    "#list(dataindf[~dataindf[\"identifier\"].isnull()][[\"iri\",\"title\",\"reference\"]].index)[20]"
   ]
  },
  {
   "cell_type": "code",
   "execution_count": 139,
   "metadata": {
    "collapsed": false
   },
   "outputs": [],
   "source": [
    "#dataindf[~dataindf[\"identifier\"].isnull()][[\"iri\",\"title\",\"reference\"]].ix[763]"
   ]
  },
  {
   "cell_type": "code",
   "execution_count": 140,
   "metadata": {
    "collapsed": false
   },
   "outputs": [],
   "source": [
    "#dataindf[~dataindf[\"identifier\"].isnull()][[\"iri\",\"title\",\"reference\"]].ix[763][\"iri\"]"
   ]
  },
  {
   "cell_type": "code",
   "execution_count": 141,
   "metadata": {
    "collapsed": false
   },
   "outputs": [],
   "source": [
    "#dataindf[~dataindf[\"identifier\"].isnull()][[\"iri\",\"title\",\"reference\"]].ix[763][\"reference\"]"
   ]
  },
  {
   "cell_type": "code",
   "execution_count": 142,
   "metadata": {
    "collapsed": false
   },
   "outputs": [],
   "source": [
    "#print(dataindf[~dataindf[\"year\"].isnull()][[\"iri\",\"title\",\"reference\"]].sort_values(\"iri\")[\"title\"].ix[29673])"
   ]
  },
  {
   "cell_type": "code",
   "execution_count": 143,
   "metadata": {
    "collapsed": false
   },
   "outputs": [],
   "source": [
    "#dataindf[~dataindf[\"reference\"].isnull()]"
   ]
  },
  {
   "cell_type": "code",
   "execution_count": 144,
   "metadata": {
    "collapsed": false
   },
   "outputs": [],
   "source": [
    "#dataindf[~dataindf[\"year\"].isnull()][[\"iri\",\"title\",\"reference\"]].sort_values(\"iri\")"
   ]
  },
  {
   "cell_type": "code",
   "execution_count": 182,
   "metadata": {
    "collapsed": false
   },
   "outputs": [],
   "source": [
    "list_iri=list(set(dataindf[\"iri\"]))"
   ]
  },
  {
   "cell_type": "code",
   "execution_count": 183,
   "metadata": {
    "collapsed": false
   },
   "outputs": [],
   "source": [
    "cross_ref_list=[]\n",
    "for item in list(dataindf[~dataindf[\"reference\"].isnull()][\"reference\"]):\n",
    "    for item1 in item:\n",
    "        cross_ref_list.append(item1[\"crossref\"])"
   ]
  },
  {
   "cell_type": "code",
   "execution_count": 184,
   "metadata": {
    "collapsed": false
   },
   "outputs": [],
   "source": [
    "cross_ref_list=list(set(cross_ref_list))"
   ]
  },
  {
   "cell_type": "code",
   "execution_count": 185,
   "metadata": {
    "collapsed": false
   },
   "outputs": [
    {
     "data": {
      "text/plain": [
       "33527"
      ]
     },
     "execution_count": 185,
     "metadata": {},
     "output_type": "execute_result"
    }
   ],
   "source": [
    "len(list(set(cross_ref_list).intersection(set(list_iri))))"
   ]
  },
  {
   "cell_type": "code",
   "execution_count": 186,
   "metadata": {
    "collapsed": false
   },
   "outputs": [
    {
     "data": {
      "text/plain": [
       "33527"
      ]
     },
     "execution_count": 186,
     "metadata": {},
     "output_type": "execute_result"
    }
   ],
   "source": [
    "len(list(set(cross_ref_list)))"
   ]
  },
  {
   "cell_type": "code",
   "execution_count": 187,
   "metadata": {
    "collapsed": false
   },
   "outputs": [
    {
     "data": {
      "text/plain": [
       "0"
      ]
     },
     "execution_count": 187,
     "metadata": {},
     "output_type": "execute_result"
    }
   ],
   "source": [
    "len(list(set(cross_ref_list)-set(list_iri)))  # referenced but not exist in br"
   ]
  },
  {
   "cell_type": "code",
   "execution_count": 188,
   "metadata": {
    "collapsed": false
   },
   "outputs": [
    {
     "data": {
      "text/plain": [
       "400"
      ]
     },
     "execution_count": 188,
     "metadata": {},
     "output_type": "execute_result"
    }
   ],
   "source": [
    "len(set(list_iri)-set(cross_ref_list))      # in br but not referenced -- it is ok since we have container which is not part of matches"
   ]
  },
  {
   "cell_type": "code",
   "execution_count": 189,
   "metadata": {
    "collapsed": false
   },
   "outputs": [],
   "source": [
    "list_be=[]\n",
    "for item in list(dataindf[~dataindf[\"reference\"].isnull()][\"reference\"]):\n",
    "    for item1 in item:\n",
    "        list_be.append(item1[\"iri\"])"
   ]
  },
  {
   "cell_type": "code",
   "execution_count": 190,
   "metadata": {
    "collapsed": false
   },
   "outputs": [
    {
     "data": {
      "text/plain": [
       "33669"
      ]
     },
     "execution_count": 190,
     "metadata": {},
     "output_type": "execute_result"
    }
   ],
   "source": [
    "len(list_be)"
   ]
  },
  {
   "cell_type": "code",
   "execution_count": 326,
   "metadata": {
    "collapsed": false
   },
   "outputs": [],
   "source": [
    "#dataindf[~dataindf[\"reference\"].isnull()]"
   ]
  },
  {
   "cell_type": "code",
   "execution_count": 208,
   "metadata": {
    "collapsed": false
   },
   "outputs": [],
   "source": [
    "#dataindf[~dataindf[\"reference\"].isnull()].ix[33887][\"identifier\"]"
   ]
  },
  {
   "cell_type": "code",
   "execution_count": 207,
   "metadata": {
    "collapsed": false
   },
   "outputs": [],
   "source": [
    "#dataindf[~dataindf[\"reference\"].isnull()][[\"iri\",\"title\",\"year\"]]"
   ]
  },
  {
   "cell_type": "code",
   "execution_count": 206,
   "metadata": {
    "collapsed": false
   },
   "outputs": [],
   "source": [
    "#dataindf[~dataindf[\"reference\"].isnull()].ix[33887][\"reference\"]"
   ]
  },
  {
   "cell_type": "code",
   "execution_count": 440,
   "metadata": {
    "collapsed": true
   },
   "outputs": [],
   "source": [
    "#33669 (be) reference strings from 561 papers   ---- 873 br with metadata in 33927 br"
   ]
  },
  {
   "cell_type": "code",
   "execution_count": null,
   "metadata": {
    "collapsed": true
   },
   "outputs": [],
   "source": []
  }
 ],
 "metadata": {
  "anaconda-cloud": {},
  "kernelspec": {
   "display_name": "Python [conda env:python3]",
   "language": "python",
   "name": "conda-env-python3-py"
  },
  "language_info": {
   "codemirror_mode": {
    "name": "ipython",
    "version": 3
   },
   "file_extension": ".py",
   "mimetype": "text/x-python",
   "name": "python",
   "nbconvert_exporter": "python",
   "pygments_lexer": "ipython3",
   "version": "3.5.2"
  }
 },
 "nbformat": 4,
 "nbformat_minor": 1
}
