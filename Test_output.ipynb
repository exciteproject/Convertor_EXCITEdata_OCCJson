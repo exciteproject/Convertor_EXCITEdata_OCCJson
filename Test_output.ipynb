{
 "cells": [
  {
   "cell_type": "markdown",
   "metadata": {},
   "source": [
    "# Load data"
   ]
  },
  {
   "cell_type": "code",
   "execution_count": 1,
   "metadata": {
    "collapsed": true
   },
   "outputs": [],
   "source": [
    "import json"
   ]
  },
  {
   "cell_type": "code",
   "execution_count": 2,
   "metadata": {
    "collapsed": false
   },
   "outputs": [],
   "source": [
    "with open(\"data_20180628145058.json\" , encoding=\"utf8\") as f:\n",
    "            be_id_map = json.load(f)"
   ]
  },
  {
   "cell_type": "markdown",
   "metadata": {},
   "source": [
    "# read keys"
   ]
  },
  {
   "cell_type": "code",
   "execution_count": 3,
   "metadata": {
    "collapsed": false
   },
   "outputs": [
    {
     "data": {
      "text/plain": [
       "dict_keys(['@graph', 'iri', '@context'])"
      ]
     },
     "execution_count": 3,
     "metadata": {},
     "output_type": "execute_result"
    }
   ],
   "source": [
    "be_id_map.keys()"
   ]
  },
  {
   "cell_type": "code",
   "execution_count": 4,
   "metadata": {
    "collapsed": false
   },
   "outputs": [
    {
     "data": {
      "text/plain": [
       "'context.json'"
      ]
     },
     "execution_count": 4,
     "metadata": {},
     "output_type": "execute_result"
    }
   ],
   "source": [
    "be_id_map['@context']"
   ]
  },
  {
   "cell_type": "code",
   "execution_count": 5,
   "metadata": {
    "collapsed": false
   },
   "outputs": [
    {
     "data": {
      "text/plain": [
       "'gbr:'"
      ]
     },
     "execution_count": 5,
     "metadata": {},
     "output_type": "execute_result"
    }
   ],
   "source": [
    "be_id_map['iri']"
   ]
  },
  {
   "cell_type": "markdown",
   "metadata": {},
   "source": [
    "# check brs"
   ]
  },
  {
   "cell_type": "code",
   "execution_count": 6,
   "metadata": {
    "collapsed": true
   },
   "outputs": [],
   "source": [
    "import pandas as pd"
   ]
  },
  {
   "cell_type": "code",
   "execution_count": 7,
   "metadata": {
    "collapsed": false
   },
   "outputs": [],
   "source": [
    "br_list=pd.DataFrame(be_id_map['@graph'])"
   ]
  },
  {
   "cell_type": "code",
   "execution_count": 8,
   "metadata": {
    "collapsed": false
   },
   "outputs": [
    {
     "data": {
      "text/plain": [
       "1050978"
      ]
     },
     "execution_count": 8,
     "metadata": {},
     "output_type": "execute_result"
    }
   ],
   "source": [
    "len(br_list)"
   ]
  },
  {
   "cell_type": "markdown",
   "metadata": {},
   "source": [
    "# type (a)"
   ]
  },
  {
   "cell_type": "code",
   "execution_count": 9,
   "metadata": {
    "collapsed": false
   },
   "outputs": [],
   "source": [
    "\n",
    "flat_list = [item for sublist in br_list.a for item in sublist]"
   ]
  },
  {
   "cell_type": "code",
   "execution_count": 10,
   "metadata": {
    "collapsed": false
   },
   "outputs": [
    {
     "data": {
      "text/plain": [
       "{'article', 'book', 'collection', 'document', 'inbook', 'review'}"
      ]
     },
     "execution_count": 10,
     "metadata": {},
     "output_type": "execute_result"
    }
   ],
   "source": [
    "set(flat_list)"
   ]
  },
  {
   "cell_type": "code",
   "execution_count": 11,
   "metadata": {
    "collapsed": false
   },
   "outputs": [],
   "source": [
    "br_list=br_list[['citation', 'contributor', 'date', 'identifier', 'iri', 'label',\n",
    "       'reference', 'title']]"
   ]
  },
  {
   "cell_type": "markdown",
   "metadata": {},
   "source": [
    "# Check title"
   ]
  },
  {
   "cell_type": "code",
   "execution_count": 12,
   "metadata": {
    "collapsed": false
   },
   "outputs": [
    {
     "data": {
      "text/plain": [
       "157212"
      ]
     },
     "execution_count": 12,
     "metadata": {},
     "output_type": "execute_result"
    }
   ],
   "source": [
    "len(br_list[~br_list.title.isnull()])"
   ]
  },
  {
   "cell_type": "code",
   "execution_count": 13,
   "metadata": {
    "collapsed": false
   },
   "outputs": [],
   "source": [
    "br_list=br_list[['citation', 'contributor', 'date', 'identifier', 'iri', 'label',\n",
    "       'reference']]"
   ]
  },
  {
   "cell_type": "markdown",
   "metadata": {},
   "source": [
    "# check date"
   ]
  },
  {
   "cell_type": "code",
   "execution_count": 14,
   "metadata": {
    "collapsed": false
   },
   "outputs": [],
   "source": [
    "datedf=pd.DataFrame(list(br_list[~br_list[\"date\"].isnull()][\"date\"]))"
   ]
  },
  {
   "cell_type": "code",
   "execution_count": 15,
   "metadata": {
    "collapsed": false
   },
   "outputs": [
    {
     "data": {
      "text/plain": [
       "157146"
      ]
     },
     "execution_count": 15,
     "metadata": {},
     "output_type": "execute_result"
    }
   ],
   "source": [
    "len(datedf)"
   ]
  },
  {
   "cell_type": "code",
   "execution_count": 16,
   "metadata": {
    "collapsed": false
   },
   "outputs": [
    {
     "data": {
      "text/plain": [
       "{'year'}"
      ]
     },
     "execution_count": 16,
     "metadata": {},
     "output_type": "execute_result"
    }
   ],
   "source": [
    "set(datedf.a)"
   ]
  },
  {
   "cell_type": "code",
   "execution_count": 17,
   "metadata": {
    "collapsed": false
   },
   "outputs": [],
   "source": [
    "#set(datedf.value)"
   ]
  },
  {
   "cell_type": "code",
   "execution_count": 18,
   "metadata": {
    "collapsed": true
   },
   "outputs": [],
   "source": [
    "import matplotlib.pyplot as plt"
   ]
  },
  {
   "cell_type": "code",
   "execution_count": 19,
   "metadata": {
    "collapsed": true
   },
   "outputs": [],
   "source": [
    "%matplotlib inline"
   ]
  },
  {
   "cell_type": "code",
   "execution_count": 20,
   "metadata": {
    "collapsed": false
   },
   "outputs": [
    {
     "data": {
      "text/plain": [
       "<matplotlib.axes._subplots.AxesSubplot at 0x99e36390>"
      ]
     },
     "execution_count": 20,
     "metadata": {},
     "output_type": "execute_result"
    },
    {
     "data": {
      "image/png": "[encoded data removed]",
      "text/plain": [
       "<matplotlib.figure.Figure at 0x99e26a20>"
      ]
     },
     "metadata": {},
     "output_type": "display_data"
    }
   ],
   "source": [
    "datedf.groupby(\"value\").count().plot(kind='bar')"
   ]
  },
  {
   "cell_type": "markdown",
   "metadata": {},
   "source": [
    "# citation check"
   ]
  },
  {
   "cell_type": "code",
   "execution_count": 21,
   "metadata": {
    "collapsed": false
   },
   "outputs": [],
   "source": [
    "br_list=br_list[['citation', 'contributor', 'identifier', 'iri', 'label',\n",
    "       'reference']]"
   ]
  },
  {
   "cell_type": "code",
   "execution_count": 22,
   "metadata": {
    "collapsed": false
   },
   "outputs": [
    {
     "data": {
      "text/plain": [
       "True"
      ]
     },
     "execution_count": 22,
     "metadata": {},
     "output_type": "execute_result"
    }
   ],
   "source": [
    "len(br_list[~br_list.citation.isnull()])==len(br_list[~br_list.reference.isnull()])"
   ]
  },
  {
   "cell_type": "code",
   "execution_count": 23,
   "metadata": {
    "collapsed": false
   },
   "outputs": [
    {
     "data": {
      "text/html": [
       "<div>\n",
       "<table border=\"1\" class=\"dataframe\">\n",
       "  <thead>\n",
       "    <tr style=\"text-align: right;\">\n",
       "      <th></th>\n",
       "      <th>citation</th>\n",
       "      <th>contributor</th>\n",
       "      <th>identifier</th>\n",
       "      <th>iri</th>\n",
       "      <th>label</th>\n",
       "      <th>reference</th>\n",
       "    </tr>\n",
       "  </thead>\n",
       "  <tbody>\n",
       "    <tr>\n",
       "      <th>926</th>\n",
       "      <td>[gbr:0110512, gbr:0110513, gbr:0110514, gbr:01...</td>\n",
       "      <td>[{'role_of': {'name': 'Ed. Sigma', 'label': 'r...</td>\n",
       "      <td>[{'type': 'url', 'id': 'http://www.ssoar.info/...</td>\n",
       "      <td>gbr:0110927</td>\n",
       "      <td>bibliographic resource 0110927 [br/0110927]</td>\n",
       "      <td>[{'content': 'Adamy, W . (1998): Arbeitslosigk...</td>\n",
       "    </tr>\n",
       "  </tbody>\n",
       "</table>\n",
       "</div>"
      ],
      "text/plain": [
       "                                              citation  \\\n",
       "926  [gbr:0110512, gbr:0110513, gbr:0110514, gbr:01...   \n",
       "\n",
       "                                           contributor  \\\n",
       "926  [{'role_of': {'name': 'Ed. Sigma', 'label': 'r...   \n",
       "\n",
       "                                            identifier          iri  \\\n",
       "926  [{'type': 'url', 'id': 'http://www.ssoar.info/...  gbr:0110927   \n",
       "\n",
       "                                           label  \\\n",
       "926  bibliographic resource 0110927 [br/0110927]   \n",
       "\n",
       "                                             reference  \n",
       "926  [{'content': 'Adamy, W . (1998): Arbeitslosigk...  "
      ]
     },
     "execution_count": 23,
     "metadata": {},
     "output_type": "execute_result"
    }
   ],
   "source": [
    "br_list[~br_list.citation.isnull()].head(1)"
   ]
  },
  {
   "cell_type": "code",
   "execution_count": 24,
   "metadata": {
    "collapsed": true
   },
   "outputs": [],
   "source": [
    "def excross(lk):\n",
    "    tp=[]\n",
    "    for item in lk:\n",
    "        tp.append(item[\"crossref\"])\n",
    "    return tp"
   ]
  },
  {
   "cell_type": "code",
   "execution_count": 25,
   "metadata": {
    "collapsed": false
   },
   "outputs": [],
   "source": [
    "br_list[\"citationtemp\"]=br_list[~br_list.citation.isnull()].reference.apply(excross)"
   ]
  },
  {
   "cell_type": "code",
   "execution_count": 26,
   "metadata": {
    "collapsed": false
   },
   "outputs": [],
   "source": [
    "br_list[\"difcit\"]=br_list[~br_list.citation.isnull()][\"citation\"].apply(set)-br_list[~br_list.citation.isnull()][\"citationtemp\"].apply(set)"
   ]
  },
  {
   "cell_type": "code",
   "execution_count": 27,
   "metadata": {
    "collapsed": false
   },
   "outputs": [],
   "source": [
    "br_list[\"difcit\"]=br_list[~br_list.citation.isnull()][\"difcit\"].apply(len)"
   ]
  },
  {
   "cell_type": "code",
   "execution_count": 28,
   "metadata": {
    "collapsed": false
   },
   "outputs": [
    {
     "name": "stderr",
     "output_type": "stream",
     "text": [
      "C:\\Program Files\\Anaconda2\\envs\\python3\\lib\\site-packages\\ipykernel\\__main__.py:1: UserWarning: Boolean Series key will be reindexed to match DataFrame index.\n",
      "  if __name__ == '__main__':\n"
     ]
    },
    {
     "data": {
      "text/plain": [
       "Series([], Name: difcit, dtype: float64)"
      ]
     },
     "execution_count": 28,
     "metadata": {},
     "output_type": "execute_result"
    }
   ],
   "source": [
    "br_list[~br_list.citation.isnull()][br_list.difcit>0][\"difcit\"]"
   ]
  },
  {
   "cell_type": "code",
   "execution_count": 29,
   "metadata": {
    "collapsed": true
   },
   "outputs": [],
   "source": [
    "br_list[\"difcit\"]=br_list[~br_list.citation.isnull()][\"citationtemp\"].apply(set)-br_list[~br_list.citation.isnull()][\"citation\"].apply(set)"
   ]
  },
  {
   "cell_type": "code",
   "execution_count": 30,
   "metadata": {
    "collapsed": true
   },
   "outputs": [],
   "source": [
    "br_list[\"difcit\"]=br_list[~br_list.citation.isnull()][\"difcit\"].apply(len)"
   ]
  },
  {
   "cell_type": "code",
   "execution_count": 31,
   "metadata": {
    "collapsed": false
   },
   "outputs": [
    {
     "name": "stderr",
     "output_type": "stream",
     "text": [
      "C:\\Program Files\\Anaconda2\\envs\\python3\\lib\\site-packages\\ipykernel\\__main__.py:1: UserWarning: Boolean Series key will be reindexed to match DataFrame index.\n",
      "  if __name__ == '__main__':\n"
     ]
    },
    {
     "data": {
      "text/plain": [
       "Series([], Name: difcit, dtype: float64)"
      ]
     },
     "execution_count": 31,
     "metadata": {},
     "output_type": "execute_result"
    }
   ],
   "source": [
    "br_list[~br_list.citation.isnull()][br_list.difcit>0][\"difcit\"]"
   ]
  },
  {
   "cell_type": "code",
   "execution_count": 32,
   "metadata": {
    "collapsed": true
   },
   "outputs": [],
   "source": [
    "br_list=br_list[['contributor', 'identifier', 'iri', 'label',\n",
    "       'reference']]"
   ]
  },
  {
   "cell_type": "markdown",
   "metadata": {},
   "source": [
    "# contributor"
   ]
  },
  {
   "cell_type": "code",
   "execution_count": 33,
   "metadata": {
    "collapsed": false
   },
   "outputs": [],
   "source": [
    "con_list=[]\n",
    "for item in list(br_list[~br_list.contributor.isnull()][\"contributor\"]):\n",
    "    for item1 in item:\n",
    "        con_list.append(item1)"
   ]
  },
  {
   "cell_type": "code",
   "execution_count": 34,
   "metadata": {
    "collapsed": false
   },
   "outputs": [],
   "source": [
    "cont=pd.DataFrame(con_list)"
   ]
  },
  {
   "cell_type": "code",
   "execution_count": 35,
   "metadata": {
    "collapsed": false
   },
   "outputs": [
    {
     "data": {
      "text/plain": [
       "{'role'}"
      ]
     },
     "execution_count": 35,
     "metadata": {},
     "output_type": "execute_result"
    }
   ],
   "source": [
    "set(cont.a)"
   ]
  },
  {
   "cell_type": "code",
   "execution_count": 36,
   "metadata": {
    "collapsed": false
   },
   "outputs": [
    {
     "data": {
      "text/plain": [
       "{'author', 'publisher'}"
      ]
     },
     "execution_count": 36,
     "metadata": {},
     "output_type": "execute_result"
    }
   ],
   "source": [
    "set(cont.role_type)"
   ]
  },
  {
   "cell_type": "code",
   "execution_count": 37,
   "metadata": {
    "collapsed": false
   },
   "outputs": [],
   "source": [
    "cont=cont[[\"iri\",\"label\",\"role_of\"]]"
   ]
  },
  {
   "cell_type": "code",
   "execution_count": 38,
   "metadata": {
    "collapsed": false
   },
   "outputs": [],
   "source": [
    "cont.iri=cont.iri.apply(lambda x: x.replace(\"gar:\",\"\").replace(\" \",\"\"))"
   ]
  },
  {
   "cell_type": "code",
   "execution_count": 39,
   "metadata": {
    "collapsed": false
   },
   "outputs": [],
   "source": [
    "cont.label=cont.label.apply(lambda x: x.replace(\"agent role \",\"\").replace(\"[ar/\",\"\").replace(\"]\",\"\").split(\" \")).apply(set)"
   ]
  },
  {
   "cell_type": "code",
   "execution_count": 40,
   "metadata": {
    "collapsed": false
   },
   "outputs": [],
   "source": [
    "cont[\"lenlabel\"]=cont.label.apply(len)"
   ]
  },
  {
   "cell_type": "code",
   "execution_count": 41,
   "metadata": {
    "collapsed": false
   },
   "outputs": [
    {
     "data": {
      "text/html": [
       "<div>\n",
       "<table border=\"1\" class=\"dataframe\">\n",
       "  <thead>\n",
       "    <tr style=\"text-align: right;\">\n",
       "      <th></th>\n",
       "      <th>iri</th>\n",
       "      <th>label</th>\n",
       "      <th>role_of</th>\n",
       "      <th>lenlabel</th>\n",
       "    </tr>\n",
       "  </thead>\n",
       "  <tbody>\n",
       "  </tbody>\n",
       "</table>\n",
       "</div>"
      ],
      "text/plain": [
       "Empty DataFrame\n",
       "Columns: [iri, label, role_of, lenlabel]\n",
       "Index: []"
      ]
     },
     "execution_count": 41,
     "metadata": {},
     "output_type": "execute_result"
    }
   ],
   "source": [
    "cont[cont.lenlabel>1]"
   ]
  },
  {
   "cell_type": "code",
   "execution_count": 42,
   "metadata": {
    "collapsed": false
   },
   "outputs": [],
   "source": [
    "cont=cont[[\"iri\",\"label\",\"role_of\"]]"
   ]
  },
  {
   "cell_type": "code",
   "execution_count": 43,
   "metadata": {
    "collapsed": false
   },
   "outputs": [],
   "source": [
    "cont.label=cont.label.apply(lambda x:list(x)[0])"
   ]
  },
  {
   "cell_type": "code",
   "execution_count": 181,
   "metadata": {
    "collapsed": false
   },
   "outputs": [
    {
     "data": {
      "text/html": [
       "<div>\n",
       "<table border=\"1\" class=\"dataframe\">\n",
       "  <thead>\n",
       "    <tr style=\"text-align: right;\">\n",
       "      <th></th>\n",
       "      <th>iri</th>\n",
       "      <th>label</th>\n",
       "      <th>role_of</th>\n",
       "    </tr>\n",
       "  </thead>\n",
       "  <tbody>\n",
       "  </tbody>\n",
       "</table>\n",
       "</div>"
      ],
      "text/plain": [
       "Empty DataFrame\n",
       "Columns: [iri, label, role_of]\n",
       "Index: []"
      ]
     },
     "execution_count": 181,
     "metadata": {},
     "output_type": "execute_result"
    }
   ],
   "source": [
    "cont[cont[\"iri\"]!=cont[\"label\"]]"
   ]
  },
  {
   "cell_type": "code",
   "execution_count": 45,
   "metadata": {
    "collapsed": false
   },
   "outputs": [
    {
     "data": {
      "text/plain": [
       "287009"
      ]
     },
     "execution_count": 45,
     "metadata": {},
     "output_type": "execute_result"
    }
   ],
   "source": [
    "len(cont)"
   ]
  },
  {
   "cell_type": "code",
   "execution_count": 47,
   "metadata": {
    "collapsed": false
   },
   "outputs": [
    {
     "data": {
      "text/plain": [
       "287009"
      ]
     },
     "execution_count": 47,
     "metadata": {},
     "output_type": "execute_result"
    }
   ],
   "source": [
    "len(set(cont.iri))"
   ]
  },
  {
   "cell_type": "markdown",
   "metadata": {},
   "source": [
    "# role of"
   ]
  },
  {
   "cell_type": "code",
   "execution_count": 48,
   "metadata": {
    "collapsed": false
   },
   "outputs": [],
   "source": [
    "roleofdf=pd.DataFrame(list(cont.role_of))"
   ]
  },
  {
   "cell_type": "code",
   "execution_count": 49,
   "metadata": {
    "collapsed": false
   },
   "outputs": [
    {
     "data": {
      "text/plain": [
       "{'agent'}"
      ]
     },
     "execution_count": 49,
     "metadata": {},
     "output_type": "execute_result"
    }
   ],
   "source": [
    "set(roleofdf.a)"
   ]
  },
  {
   "cell_type": "code",
   "execution_count": 50,
   "metadata": {
    "collapsed": false
   },
   "outputs": [],
   "source": [
    "roleofdf=roleofdf[[\"iri\",\"label\"]]"
   ]
  },
  {
   "cell_type": "code",
   "execution_count": 51,
   "metadata": {
    "collapsed": false
   },
   "outputs": [],
   "source": [
    "roleofdf.iri=roleofdf.iri.apply(lambda x:x.replace(\"gra:\",\"\").replace(\" \",\"\"))"
   ]
  },
  {
   "cell_type": "code",
   "execution_count": 52,
   "metadata": {
    "collapsed": false
   },
   "outputs": [],
   "source": [
    "roleofdf.label=roleofdf.label.apply(lambda x: x.replace(\"responsible agent \",\"\").replace(\"[ra/\",\"\").replace(\"]\",\"\").split(\" \")).apply(set)"
   ]
  },
  {
   "cell_type": "code",
   "execution_count": 53,
   "metadata": {
    "collapsed": false
   },
   "outputs": [],
   "source": [
    "roleofdf[\"lenlable\"]=roleofdf.label.apply(len)"
   ]
  },
  {
   "cell_type": "code",
   "execution_count": 54,
   "metadata": {
    "collapsed": false
   },
   "outputs": [
    {
     "data": {
      "text/html": [
       "<div>\n",
       "<table border=\"1\" class=\"dataframe\">\n",
       "  <thead>\n",
       "    <tr style=\"text-align: right;\">\n",
       "      <th></th>\n",
       "      <th>iri</th>\n",
       "      <th>label</th>\n",
       "      <th>lenlable</th>\n",
       "    </tr>\n",
       "  </thead>\n",
       "  <tbody>\n",
       "  </tbody>\n",
       "</table>\n",
       "</div>"
      ],
      "text/plain": [
       "Empty DataFrame\n",
       "Columns: [iri, label, lenlable]\n",
       "Index: []"
      ]
     },
     "execution_count": 54,
     "metadata": {},
     "output_type": "execute_result"
    }
   ],
   "source": [
    "roleofdf[roleofdf.lenlable>1]"
   ]
  },
  {
   "cell_type": "code",
   "execution_count": 55,
   "metadata": {
    "collapsed": false
   },
   "outputs": [],
   "source": [
    "roleofdf[\"label\"]=roleofdf.label.apply(lambda x:list(x)[0])"
   ]
  },
  {
   "cell_type": "code",
   "execution_count": 56,
   "metadata": {
    "collapsed": false
   },
   "outputs": [],
   "source": [
    "roleofdf=roleofdf[[\"iri\",\"label\"]]"
   ]
  },
  {
   "cell_type": "code",
   "execution_count": 57,
   "metadata": {
    "collapsed": false
   },
   "outputs": [
    {
     "data": {
      "text/html": [
       "<div>\n",
       "<table border=\"1\" class=\"dataframe\">\n",
       "  <thead>\n",
       "    <tr style=\"text-align: right;\">\n",
       "      <th></th>\n",
       "      <th>iri</th>\n",
       "      <th>label</th>\n",
       "    </tr>\n",
       "  </thead>\n",
       "  <tbody>\n",
       "  </tbody>\n",
       "</table>\n",
       "</div>"
      ],
      "text/plain": [
       "Empty DataFrame\n",
       "Columns: [iri, label]\n",
       "Index: []"
      ]
     },
     "execution_count": 57,
     "metadata": {},
     "output_type": "execute_result"
    }
   ],
   "source": [
    "roleofdf[roleofdf[\"iri\"]!=roleofdf[\"label\"]]"
   ]
  },
  {
   "cell_type": "code",
   "execution_count": 58,
   "metadata": {
    "collapsed": false
   },
   "outputs": [
    {
     "data": {
      "text/plain": [
       "287009"
      ]
     },
     "execution_count": 58,
     "metadata": {},
     "output_type": "execute_result"
    }
   ],
   "source": [
    "len(roleofdf)"
   ]
  },
  {
   "cell_type": "code",
   "execution_count": 59,
   "metadata": {
    "collapsed": false
   },
   "outputs": [
    {
     "data": {
      "text/plain": [
       "287009"
      ]
     },
     "execution_count": 59,
     "metadata": {},
     "output_type": "execute_result"
    }
   ],
   "source": [
    "len(set(roleofdf.iri))"
   ]
  },
  {
   "cell_type": "markdown",
   "metadata": {},
   "source": [
    "# identifier"
   ]
  },
  {
   "cell_type": "code",
   "execution_count": 219,
   "metadata": {
    "collapsed": true
   },
   "outputs": [],
   "source": [
    "br_list=br_list[['identifier', 'iri', 'label',\n",
    "       'reference']]"
   ]
  },
  {
   "cell_type": "code",
   "execution_count": 74,
   "metadata": {
    "collapsed": false
   },
   "outputs": [],
   "source": [
    "lsr=[]\n",
    "for item in list(br_list[~br_list.identifier.isnull()].identifier):\n",
    "    for item1 in item:\n",
    "        lsr.append(item1)"
   ]
  },
  {
   "cell_type": "code",
   "execution_count": 75,
   "metadata": {
    "collapsed": false
   },
   "outputs": [],
   "source": [
    "iddf=pd.DataFrame(lsr)"
   ]
  },
  {
   "cell_type": "code",
   "execution_count": 76,
   "metadata": {
    "collapsed": false
   },
   "outputs": [
    {
     "data": {
      "text/plain": [
       "{'unique_identifier'}"
      ]
     },
     "execution_count": 76,
     "metadata": {},
     "output_type": "execute_result"
    }
   ],
   "source": [
    "set(iddf.a)"
   ]
  },
  {
   "cell_type": "code",
   "execution_count": 77,
   "metadata": {
    "collapsed": false
   },
   "outputs": [
    {
     "data": {
      "text/plain": [
       "{'doi', 'isbn', 'url', 'urn'}"
      ]
     },
     "execution_count": 77,
     "metadata": {},
     "output_type": "execute_result"
    }
   ],
   "source": [
    "set(iddf[\"type\"])"
   ]
  },
  {
   "cell_type": "code",
   "execution_count": 78,
   "metadata": {
    "collapsed": false
   },
   "outputs": [
    {
     "data": {
      "text/html": [
       "<div>\n",
       "<table border=\"1\" class=\"dataframe\">\n",
       "  <thead>\n",
       "    <tr style=\"text-align: right;\">\n",
       "      <th></th>\n",
       "      <th>a</th>\n",
       "      <th>id</th>\n",
       "      <th>iri</th>\n",
       "      <th>label</th>\n",
       "      <th>type</th>\n",
       "    </tr>\n",
       "  </thead>\n",
       "  <tbody>\n",
       "    <tr>\n",
       "      <th>0</th>\n",
       "      <td>unique_identifier</td>\n",
       "      <td>http://www.ssoar.info/ssoar/handle/document/25090</td>\n",
       "      <td>gid:01101</td>\n",
       "      <td>identifier 01101 [id/01101]</td>\n",
       "      <td>url</td>\n",
       "    </tr>\n",
       "    <tr>\n",
       "      <th>1</th>\n",
       "      <td>unique_identifier</td>\n",
       "      <td>10.4232/10.CPoS-2010-03de</td>\n",
       "      <td>gid:01102</td>\n",
       "      <td>identifier 01102 [id/01102]</td>\n",
       "      <td>doi</td>\n",
       "    </tr>\n",
       "    <tr>\n",
       "      <th>2</th>\n",
       "      <td>unique_identifier</td>\n",
       "      <td>urn:nbn:de:bib-cpos-2010-03de8</td>\n",
       "      <td>gid:01103</td>\n",
       "      <td>identifier 01103 [id/01103]</td>\n",
       "      <td>urn</td>\n",
       "    </tr>\n",
       "    <tr>\n",
       "      <th>3</th>\n",
       "      <td>unique_identifier</td>\n",
       "      <td>http://www.ssoar.info/ssoar/handle/document/51278</td>\n",
       "      <td>gid:01104</td>\n",
       "      <td>identifier 01104 [id/01104]</td>\n",
       "      <td>url</td>\n",
       "    </tr>\n",
       "    <tr>\n",
       "      <th>4</th>\n",
       "      <td>unique_identifier</td>\n",
       "      <td>978-9972-615-33-2</td>\n",
       "      <td>gid:01105</td>\n",
       "      <td>identifier 01105 [id/01105]</td>\n",
       "      <td>isbn</td>\n",
       "    </tr>\n",
       "    <tr>\n",
       "      <th>5</th>\n",
       "      <td>unique_identifier</td>\n",
       "      <td>urn:nbn:de:0168-ssoar-51278-9</td>\n",
       "      <td>gid:01106</td>\n",
       "      <td>identifier 01106 [id/01106]</td>\n",
       "      <td>urn</td>\n",
       "    </tr>\n",
       "    <tr>\n",
       "      <th>6</th>\n",
       "      <td>unique_identifier</td>\n",
       "      <td>http://www.ssoar.info/ssoar/handle/document/1245</td>\n",
       "      <td>gid:01107</td>\n",
       "      <td>identifier 01107 [id/01107]</td>\n",
       "      <td>url</td>\n",
       "    </tr>\n",
       "    <tr>\n",
       "      <th>7</th>\n",
       "      <td>unique_identifier</td>\n",
       "      <td>3-456-82325-8</td>\n",
       "      <td>gid:01108</td>\n",
       "      <td>identifier 01108 [id/01108]</td>\n",
       "      <td>isbn</td>\n",
       "    </tr>\n",
       "    <tr>\n",
       "      <th>8</th>\n",
       "      <td>unique_identifier</td>\n",
       "      <td>urn:nbn:de:0168-ssoar-12452</td>\n",
       "      <td>gid:01109</td>\n",
       "      <td>identifier 01109 [id/01109]</td>\n",
       "      <td>urn</td>\n",
       "    </tr>\n",
       "    <tr>\n",
       "      <th>9</th>\n",
       "      <td>unique_identifier</td>\n",
       "      <td>http://www.ssoar.info/ssoar/handle/document/5142</td>\n",
       "      <td>gid:011010</td>\n",
       "      <td>identifier 011010 [id/011010]</td>\n",
       "      <td>url</td>\n",
       "    </tr>\n",
       "    <tr>\n",
       "      <th>10</th>\n",
       "      <td>unique_identifier</td>\n",
       "      <td>10.12759/hsr.16.1991.4.62-73</td>\n",
       "      <td>gid:011011</td>\n",
       "      <td>identifier 011011 [id/011011]</td>\n",
       "      <td>doi</td>\n",
       "    </tr>\n",
       "    <tr>\n",
       "      <th>11</th>\n",
       "      <td>unique_identifier</td>\n",
       "      <td>urn:nbn:de:0168-ssoar-51422</td>\n",
       "      <td>gid:011012</td>\n",
       "      <td>identifier 011012 [id/011012]</td>\n",
       "      <td>urn</td>\n",
       "    </tr>\n",
       "    <tr>\n",
       "      <th>12</th>\n",
       "      <td>unique_identifier</td>\n",
       "      <td>http://www.ssoar.info/ssoar/handle/document/40779</td>\n",
       "      <td>gid:011013</td>\n",
       "      <td>identifier 011013 [id/011013]</td>\n",
       "      <td>url</td>\n",
       "    </tr>\n",
       "    <tr>\n",
       "      <th>13</th>\n",
       "      <td>unique_identifier</td>\n",
       "      <td>urn:nbn:de:0168-ssoar-407798</td>\n",
       "      <td>gid:011014</td>\n",
       "      <td>identifier 011014 [id/011014]</td>\n",
       "      <td>urn</td>\n",
       "    </tr>\n",
       "    <tr>\n",
       "      <th>14</th>\n",
       "      <td>unique_identifier</td>\n",
       "      <td>http://www.ssoar.info/ssoar/handle/document/11968</td>\n",
       "      <td>gid:011015</td>\n",
       "      <td>identifier 011015 [id/011015]</td>\n",
       "      <td>url</td>\n",
       "    </tr>\n",
       "    <tr>\n",
       "      <th>15</th>\n",
       "      <td>unique_identifier</td>\n",
       "      <td>urn:nbn:de:0168-ssoar-119685</td>\n",
       "      <td>gid:011016</td>\n",
       "      <td>identifier 011016 [id/011016]</td>\n",
       "      <td>urn</td>\n",
       "    </tr>\n",
       "    <tr>\n",
       "      <th>16</th>\n",
       "      <td>unique_identifier</td>\n",
       "      <td>http://www.qualitative-research.net/index.php/...</td>\n",
       "      <td>gid:011017</td>\n",
       "      <td>identifier 011017 [id/011017]</td>\n",
       "      <td>url</td>\n",
       "    </tr>\n",
       "    <tr>\n",
       "      <th>17</th>\n",
       "      <td>unique_identifier</td>\n",
       "      <td>http://www.ssoar.info/ssoar/handle/document/9636</td>\n",
       "      <td>gid:011018</td>\n",
       "      <td>identifier 011018 [id/011018]</td>\n",
       "      <td>url</td>\n",
       "    </tr>\n",
       "    <tr>\n",
       "      <th>18</th>\n",
       "      <td>unique_identifier</td>\n",
       "      <td>urn:nbn:de:0114-fqs0103245</td>\n",
       "      <td>gid:011019</td>\n",
       "      <td>identifier 011019 [id/011019]</td>\n",
       "      <td>urn</td>\n",
       "    </tr>\n",
       "    <tr>\n",
       "      <th>19</th>\n",
       "      <td>unique_identifier</td>\n",
       "      <td>http://www.mpifg.de/people/ws/downloads/High_E...</td>\n",
       "      <td>gid:011020</td>\n",
       "      <td>identifier 011020 [id/011020]</td>\n",
       "      <td>url</td>\n",
       "    </tr>\n",
       "    <tr>\n",
       "      <th>20</th>\n",
       "      <td>unique_identifier</td>\n",
       "      <td>http://www.ssoar.info/ssoar/handle/document/19513</td>\n",
       "      <td>gid:011021</td>\n",
       "      <td>identifier 011021 [id/011021]</td>\n",
       "      <td>url</td>\n",
       "    </tr>\n",
       "    <tr>\n",
       "      <th>21</th>\n",
       "      <td>unique_identifier</td>\n",
       "      <td>urn:nbn:de:0168-ssoar-195130</td>\n",
       "      <td>gid:011022</td>\n",
       "      <td>identifier 011022 [id/011022]</td>\n",
       "      <td>urn</td>\n",
       "    </tr>\n",
       "    <tr>\n",
       "      <th>22</th>\n",
       "      <td>unique_identifier</td>\n",
       "      <td>http://www.ssoar.info/ssoar/handle/document/49306</td>\n",
       "      <td>gid:011023</td>\n",
       "      <td>identifier 011023 [id/011023]</td>\n",
       "      <td>url</td>\n",
       "    </tr>\n",
       "    <tr>\n",
       "      <th>23</th>\n",
       "      <td>unique_identifier</td>\n",
       "      <td>3-89404-194-3</td>\n",
       "      <td>gid:011024</td>\n",
       "      <td>identifier 011024 [id/011024]</td>\n",
       "      <td>isbn</td>\n",
       "    </tr>\n",
       "    <tr>\n",
       "      <th>24</th>\n",
       "      <td>unique_identifier</td>\n",
       "      <td>10419/122881</td>\n",
       "      <td>gid:011025</td>\n",
       "      <td>identifier 011025 [id/011025]</td>\n",
       "      <td>urn</td>\n",
       "    </tr>\n",
       "    <tr>\n",
       "      <th>25</th>\n",
       "      <td>unique_identifier</td>\n",
       "      <td>http://www.ssoar.info/ssoar/handle/document/36410</td>\n",
       "      <td>gid:011026</td>\n",
       "      <td>identifier 011026 [id/011026]</td>\n",
       "      <td>url</td>\n",
       "    </tr>\n",
       "    <tr>\n",
       "      <th>26</th>\n",
       "      <td>unique_identifier</td>\n",
       "      <td>urn:nbn:de:0168-ssoar-364105</td>\n",
       "      <td>gid:011027</td>\n",
       "      <td>identifier 011027 [id/011027]</td>\n",
       "      <td>urn</td>\n",
       "    </tr>\n",
       "    <tr>\n",
       "      <th>27</th>\n",
       "      <td>unique_identifier</td>\n",
       "      <td>http://www.ssoar.info/ssoar/handle/document/4976</td>\n",
       "      <td>gid:011028</td>\n",
       "      <td>identifier 011028 [id/011028]</td>\n",
       "      <td>url</td>\n",
       "    </tr>\n",
       "    <tr>\n",
       "      <th>28</th>\n",
       "      <td>unique_identifier</td>\n",
       "      <td>20.500.11780/53</td>\n",
       "      <td>gid:011029</td>\n",
       "      <td>identifier 011029 [id/011029]</td>\n",
       "      <td>urn</td>\n",
       "    </tr>\n",
       "    <tr>\n",
       "      <th>29</th>\n",
       "      <td>unique_identifier</td>\n",
       "      <td>http://www.ssoar.info/ssoar/handle/document/25521</td>\n",
       "      <td>gid:011030</td>\n",
       "      <td>identifier 011030 [id/011030]</td>\n",
       "      <td>url</td>\n",
       "    </tr>\n",
       "    <tr>\n",
       "      <th>...</th>\n",
       "      <td>...</td>\n",
       "      <td>...</td>\n",
       "      <td>...</td>\n",
       "      <td>...</td>\n",
       "      <td>...</td>\n",
       "    </tr>\n",
       "    <tr>\n",
       "      <th>119581</th>\n",
       "      <td>unique_identifier</td>\n",
       "      <td>10.1080/0703633042000261616</td>\n",
       "      <td>gid:0110119582</td>\n",
       "      <td>identifier 0110119582 [id/0110119582]</td>\n",
       "      <td>doi</td>\n",
       "    </tr>\n",
       "    <tr>\n",
       "      <th>119582</th>\n",
       "      <td>unique_identifier</td>\n",
       "      <td>http://www.ssoar.info/ssoar/handle/document/9986</td>\n",
       "      <td>gid:0110119583</td>\n",
       "      <td>identifier 0110119583 [id/0110119583]</td>\n",
       "      <td>url</td>\n",
       "    </tr>\n",
       "    <tr>\n",
       "      <th>119583</th>\n",
       "      <td>unique_identifier</td>\n",
       "      <td>urn:nbn:de:0168-ssoar-99866</td>\n",
       "      <td>gid:0110119584</td>\n",
       "      <td>identifier 0110119584 [id/0110119584]</td>\n",
       "      <td>urn</td>\n",
       "    </tr>\n",
       "    <tr>\n",
       "      <th>119584</th>\n",
       "      <td>unique_identifier</td>\n",
       "      <td>3-87706-622-4</td>\n",
       "      <td>gid:0110119585</td>\n",
       "      <td>identifier 0110119585 [id/0110119585]</td>\n",
       "      <td>isbn</td>\n",
       "    </tr>\n",
       "    <tr>\n",
       "      <th>119585</th>\n",
       "      <td>unique_identifier</td>\n",
       "      <td>http://www.ssoar.info/ssoar/handle/document/9992</td>\n",
       "      <td>gid:0110119586</td>\n",
       "      <td>identifier 0110119586 [id/0110119586]</td>\n",
       "      <td>url</td>\n",
       "    </tr>\n",
       "    <tr>\n",
       "      <th>119586</th>\n",
       "      <td>unique_identifier</td>\n",
       "      <td>3-877-06622-4</td>\n",
       "      <td>gid:0110119587</td>\n",
       "      <td>identifier 0110119587 [id/0110119587]</td>\n",
       "      <td>isbn</td>\n",
       "    </tr>\n",
       "    <tr>\n",
       "      <th>119587</th>\n",
       "      <td>unique_identifier</td>\n",
       "      <td>urn:nbn:de:0168-ssoar-99929</td>\n",
       "      <td>gid:0110119588</td>\n",
       "      <td>identifier 0110119588 [id/0110119588]</td>\n",
       "      <td>urn</td>\n",
       "    </tr>\n",
       "    <tr>\n",
       "      <th>119588</th>\n",
       "      <td>unique_identifier</td>\n",
       "      <td>http://www.ssoar.info/ssoar/handle/document/9993</td>\n",
       "      <td>gid:0110119589</td>\n",
       "      <td>identifier 0110119589 [id/0110119589]</td>\n",
       "      <td>url</td>\n",
       "    </tr>\n",
       "    <tr>\n",
       "      <th>119589</th>\n",
       "      <td>unique_identifier</td>\n",
       "      <td>urn:nbn:de:0168-ssoar-99931</td>\n",
       "      <td>gid:0110119590</td>\n",
       "      <td>identifier 0110119590 [id/0110119590]</td>\n",
       "      <td>urn</td>\n",
       "    </tr>\n",
       "    <tr>\n",
       "      <th>119590</th>\n",
       "      <td>unique_identifier</td>\n",
       "      <td>http://www.ssoar.info/ssoar/handle/document/9996</td>\n",
       "      <td>gid:0110119591</td>\n",
       "      <td>identifier 0110119591 [id/0110119591]</td>\n",
       "      <td>url</td>\n",
       "    </tr>\n",
       "    <tr>\n",
       "      <th>119591</th>\n",
       "      <td>unique_identifier</td>\n",
       "      <td>urn:nbn:de:0168-ssoar-99962</td>\n",
       "      <td>gid:0110119592</td>\n",
       "      <td>identifier 0110119592 [id/0110119592]</td>\n",
       "      <td>urn</td>\n",
       "    </tr>\n",
       "    <tr>\n",
       "      <th>119592</th>\n",
       "      <td>unique_identifier</td>\n",
       "      <td>http://www.ssoar.info/ssoar/handle/document/9997</td>\n",
       "      <td>gid:0110119593</td>\n",
       "      <td>identifier 0110119593 [id/0110119593]</td>\n",
       "      <td>url</td>\n",
       "    </tr>\n",
       "    <tr>\n",
       "      <th>119593</th>\n",
       "      <td>unique_identifier</td>\n",
       "      <td>urn:nbn:de:0168-ssoar-99974</td>\n",
       "      <td>gid:0110119594</td>\n",
       "      <td>identifier 0110119594 [id/0110119594]</td>\n",
       "      <td>urn</td>\n",
       "    </tr>\n",
       "    <tr>\n",
       "      <th>119594</th>\n",
       "      <td>unique_identifier</td>\n",
       "      <td>http://www.ssoar.info/ssoar/handle/document/9998</td>\n",
       "      <td>gid:0110119595</td>\n",
       "      <td>identifier 0110119595 [id/0110119595]</td>\n",
       "      <td>url</td>\n",
       "    </tr>\n",
       "    <tr>\n",
       "      <th>119595</th>\n",
       "      <td>unique_identifier</td>\n",
       "      <td>urn:nbn:de:0168-ssoar-99981</td>\n",
       "      <td>gid:0110119596</td>\n",
       "      <td>identifier 0110119596 [id/0110119596]</td>\n",
       "      <td>urn</td>\n",
       "    </tr>\n",
       "    <tr>\n",
       "      <th>119596</th>\n",
       "      <td>unique_identifier</td>\n",
       "      <td>046500749X</td>\n",
       "      <td>gid:0110119597</td>\n",
       "      <td>identifier 0110119597 [id/0110119597]</td>\n",
       "      <td>isbn</td>\n",
       "    </tr>\n",
       "    <tr>\n",
       "      <th>119597</th>\n",
       "      <td>unique_identifier</td>\n",
       "      <td>0465086802</td>\n",
       "      <td>gid:0110119598</td>\n",
       "      <td>identifier 0110119598 [id/0110119598]</td>\n",
       "      <td>isbn</td>\n",
       "    </tr>\n",
       "    <tr>\n",
       "      <th>119598</th>\n",
       "      <td>unique_identifier</td>\n",
       "      <td>urn:nbn:de:0168-ssoar-99993</td>\n",
       "      <td>gid:0110119599</td>\n",
       "      <td>identifier 0110119599 [id/0110119599]</td>\n",
       "      <td>urn</td>\n",
       "    </tr>\n",
       "    <tr>\n",
       "      <th>119599</th>\n",
       "      <td>unique_identifier</td>\n",
       "      <td>http://www.ssoar.info/ssoar/handle/document/9999</td>\n",
       "      <td>gid:0110119600</td>\n",
       "      <td>identifier 0110119600 [id/0110119600]</td>\n",
       "      <td>url</td>\n",
       "    </tr>\n",
       "    <tr>\n",
       "      <th>119600</th>\n",
       "      <td>unique_identifier</td>\n",
       "      <td>urn:nbn:de:0168-ssoar-99993</td>\n",
       "      <td>gid:0110119601</td>\n",
       "      <td>identifier 0110119601 [id/0110119601]</td>\n",
       "      <td>urn</td>\n",
       "    </tr>\n",
       "    <tr>\n",
       "      <th>119601</th>\n",
       "      <td>unique_identifier</td>\n",
       "      <td>urn:nbn:de:0168-ssoar-294317</td>\n",
       "      <td>gid:0110119602</td>\n",
       "      <td>identifier 0110119602 [id/0110119602]</td>\n",
       "      <td>urn</td>\n",
       "    </tr>\n",
       "    <tr>\n",
       "      <th>119602</th>\n",
       "      <td>unique_identifier</td>\n",
       "      <td>978-9972-615-20-0</td>\n",
       "      <td>gid:0110119603</td>\n",
       "      <td>identifier 0110119603 [id/0110119603]</td>\n",
       "      <td>isbn</td>\n",
       "    </tr>\n",
       "    <tr>\n",
       "      <th>119603</th>\n",
       "      <td>unique_identifier</td>\n",
       "      <td>urn:nbn:de:0168-ssoar-51303-5</td>\n",
       "      <td>gid:0110119604</td>\n",
       "      <td>identifier 0110119604 [id/0110119604]</td>\n",
       "      <td>urn</td>\n",
       "    </tr>\n",
       "    <tr>\n",
       "      <th>119604</th>\n",
       "      <td>unique_identifier</td>\n",
       "      <td>urn:nbn:de:0168-ssoar-210850</td>\n",
       "      <td>gid:0110119605</td>\n",
       "      <td>identifier 0110119605 [id/0110119605]</td>\n",
       "      <td>urn</td>\n",
       "    </tr>\n",
       "    <tr>\n",
       "      <th>119605</th>\n",
       "      <td>unique_identifier</td>\n",
       "      <td>https://doi.org/10.1002/bewi.19940170102</td>\n",
       "      <td>gid:0110119606</td>\n",
       "      <td>identifier 0110119606 [id/0110119606]</td>\n",
       "      <td>url</td>\n",
       "    </tr>\n",
       "    <tr>\n",
       "      <th>119606</th>\n",
       "      <td>unique_identifier</td>\n",
       "      <td>urn:nbn:de:0168-ssoar-235075</td>\n",
       "      <td>gid:0110119607</td>\n",
       "      <td>identifier 0110119607 [id/0110119607]</td>\n",
       "      <td>urn</td>\n",
       "    </tr>\n",
       "    <tr>\n",
       "      <th>119607</th>\n",
       "      <td>unique_identifier</td>\n",
       "      <td>0-691-04863-0</td>\n",
       "      <td>gid:0110119608</td>\n",
       "      <td>identifier 0110119608 [id/0110119608]</td>\n",
       "      <td>isbn</td>\n",
       "    </tr>\n",
       "    <tr>\n",
       "      <th>119608</th>\n",
       "      <td>unique_identifier</td>\n",
       "      <td>https://doi.org/10.1080/00343400601120296</td>\n",
       "      <td>gid:0110119609</td>\n",
       "      <td>identifier 0110119609 [id/0110119609]</td>\n",
       "      <td>url</td>\n",
       "    </tr>\n",
       "    <tr>\n",
       "      <th>119609</th>\n",
       "      <td>unique_identifier</td>\n",
       "      <td>urn:nbn:de:0168-ssoar-132949</td>\n",
       "      <td>gid:0110119610</td>\n",
       "      <td>identifier 0110119610 [id/0110119610]</td>\n",
       "      <td>urn</td>\n",
       "    </tr>\n",
       "    <tr>\n",
       "      <th>119610</th>\n",
       "      <td>unique_identifier</td>\n",
       "      <td>urn:nbn:de:0168-ssoar-328953</td>\n",
       "      <td>gid:0110119611</td>\n",
       "      <td>identifier 0110119611 [id/0110119611]</td>\n",
       "      <td>urn</td>\n",
       "    </tr>\n",
       "  </tbody>\n",
       "</table>\n",
       "<p>119611 rows × 5 columns</p>\n",
       "</div>"
      ],
      "text/plain": [
       "                        a                                                 id  \\\n",
       "0       unique_identifier  http://www.ssoar.info/ssoar/handle/document/25090   \n",
       "1       unique_identifier                          10.4232/10.CPoS-2010-03de   \n",
       "2       unique_identifier                     urn:nbn:de:bib-cpos-2010-03de8   \n",
       "3       unique_identifier  http://www.ssoar.info/ssoar/handle/document/51278   \n",
       "4       unique_identifier                                  978-9972-615-33-2   \n",
       "5       unique_identifier                      urn:nbn:de:0168-ssoar-51278-9   \n",
       "6       unique_identifier   http://www.ssoar.info/ssoar/handle/document/1245   \n",
       "7       unique_identifier                                      3-456-82325-8   \n",
       "8       unique_identifier                        urn:nbn:de:0168-ssoar-12452   \n",
       "9       unique_identifier   http://www.ssoar.info/ssoar/handle/document/5142   \n",
       "10      unique_identifier                       10.12759/hsr.16.1991.4.62-73   \n",
       "11      unique_identifier                        urn:nbn:de:0168-ssoar-51422   \n",
       "12      unique_identifier  http://www.ssoar.info/ssoar/handle/document/40779   \n",
       "13      unique_identifier                       urn:nbn:de:0168-ssoar-407798   \n",
       "14      unique_identifier  http://www.ssoar.info/ssoar/handle/document/11968   \n",
       "15      unique_identifier                       urn:nbn:de:0168-ssoar-119685   \n",
       "16      unique_identifier  http://www.qualitative-research.net/index.php/...   \n",
       "17      unique_identifier   http://www.ssoar.info/ssoar/handle/document/9636   \n",
       "18      unique_identifier                         urn:nbn:de:0114-fqs0103245   \n",
       "19      unique_identifier  http://www.mpifg.de/people/ws/downloads/High_E...   \n",
       "20      unique_identifier  http://www.ssoar.info/ssoar/handle/document/19513   \n",
       "21      unique_identifier                       urn:nbn:de:0168-ssoar-195130   \n",
       "22      unique_identifier  http://www.ssoar.info/ssoar/handle/document/49306   \n",
       "23      unique_identifier                                      3-89404-194-3   \n",
       "24      unique_identifier                                       10419/122881   \n",
       "25      unique_identifier  http://www.ssoar.info/ssoar/handle/document/36410   \n",
       "26      unique_identifier                       urn:nbn:de:0168-ssoar-364105   \n",
       "27      unique_identifier   http://www.ssoar.info/ssoar/handle/document/4976   \n",
       "28      unique_identifier                                    20.500.11780/53   \n",
       "29      unique_identifier  http://www.ssoar.info/ssoar/handle/document/25521   \n",
       "...                   ...                                                ...   \n",
       "119581  unique_identifier                        10.1080/0703633042000261616   \n",
       "119582  unique_identifier   http://www.ssoar.info/ssoar/handle/document/9986   \n",
       "119583  unique_identifier                        urn:nbn:de:0168-ssoar-99866   \n",
       "119584  unique_identifier                                      3-87706-622-4   \n",
       "119585  unique_identifier   http://www.ssoar.info/ssoar/handle/document/9992   \n",
       "119586  unique_identifier                                      3-877-06622-4   \n",
       "119587  unique_identifier                        urn:nbn:de:0168-ssoar-99929   \n",
       "119588  unique_identifier   http://www.ssoar.info/ssoar/handle/document/9993   \n",
       "119589  unique_identifier                        urn:nbn:de:0168-ssoar-99931   \n",
       "119590  unique_identifier   http://www.ssoar.info/ssoar/handle/document/9996   \n",
       "119591  unique_identifier                        urn:nbn:de:0168-ssoar-99962   \n",
       "119592  unique_identifier   http://www.ssoar.info/ssoar/handle/document/9997   \n",
       "119593  unique_identifier                        urn:nbn:de:0168-ssoar-99974   \n",
       "119594  unique_identifier   http://www.ssoar.info/ssoar/handle/document/9998   \n",
       "119595  unique_identifier                        urn:nbn:de:0168-ssoar-99981   \n",
       "119596  unique_identifier                                         046500749X   \n",
       "119597  unique_identifier                                         0465086802   \n",
       "119598  unique_identifier                        urn:nbn:de:0168-ssoar-99993   \n",
       "119599  unique_identifier   http://www.ssoar.info/ssoar/handle/document/9999   \n",
       "119600  unique_identifier                        urn:nbn:de:0168-ssoar-99993   \n",
       "119601  unique_identifier                       urn:nbn:de:0168-ssoar-294317   \n",
       "119602  unique_identifier                                  978-9972-615-20-0   \n",
       "119603  unique_identifier                      urn:nbn:de:0168-ssoar-51303-5   \n",
       "119604  unique_identifier                       urn:nbn:de:0168-ssoar-210850   \n",
       "119605  unique_identifier           https://doi.org/10.1002/bewi.19940170102   \n",
       "119606  unique_identifier                       urn:nbn:de:0168-ssoar-235075   \n",
       "119607  unique_identifier                                      0-691-04863-0   \n",
       "119608  unique_identifier          https://doi.org/10.1080/00343400601120296   \n",
       "119609  unique_identifier                       urn:nbn:de:0168-ssoar-132949   \n",
       "119610  unique_identifier                       urn:nbn:de:0168-ssoar-328953   \n",
       "\n",
       "                   iri                                  label  type  \n",
       "0            gid:01101            identifier 01101 [id/01101]   url  \n",
       "1            gid:01102            identifier 01102 [id/01102]   doi  \n",
       "2            gid:01103            identifier 01103 [id/01103]   urn  \n",
       "3            gid:01104            identifier 01104 [id/01104]   url  \n",
       "4            gid:01105            identifier 01105 [id/01105]  isbn  \n",
       "5            gid:01106            identifier 01106 [id/01106]   urn  \n",
       "6            gid:01107            identifier 01107 [id/01107]   url  \n",
       "7            gid:01108            identifier 01108 [id/01108]  isbn  \n",
       "8            gid:01109            identifier 01109 [id/01109]   urn  \n",
       "9           gid:011010          identifier 011010 [id/011010]   url  \n",
       "10          gid:011011          identifier 011011 [id/011011]   doi  \n",
       "11          gid:011012          identifier 011012 [id/011012]   urn  \n",
       "12          gid:011013          identifier 011013 [id/011013]   url  \n",
       "13          gid:011014          identifier 011014 [id/011014]   urn  \n",
       "14          gid:011015          identifier 011015 [id/011015]   url  \n",
       "15          gid:011016          identifier 011016 [id/011016]   urn  \n",
       "16          gid:011017          identifier 011017 [id/011017]   url  \n",
       "17          gid:011018          identifier 011018 [id/011018]   url  \n",
       "18          gid:011019          identifier 011019 [id/011019]   urn  \n",
       "19          gid:011020          identifier 011020 [id/011020]   url  \n",
       "20          gid:011021          identifier 011021 [id/011021]   url  \n",
       "21          gid:011022          identifier 011022 [id/011022]   urn  \n",
       "22          gid:011023          identifier 011023 [id/011023]   url  \n",
       "23          gid:011024          identifier 011024 [id/011024]  isbn  \n",
       "24          gid:011025          identifier 011025 [id/011025]   urn  \n",
       "25          gid:011026          identifier 011026 [id/011026]   url  \n",
       "26          gid:011027          identifier 011027 [id/011027]   urn  \n",
       "27          gid:011028          identifier 011028 [id/011028]   url  \n",
       "28          gid:011029          identifier 011029 [id/011029]   urn  \n",
       "29          gid:011030          identifier 011030 [id/011030]   url  \n",
       "...                ...                                    ...   ...  \n",
       "119581  gid:0110119582  identifier 0110119582 [id/0110119582]   doi  \n",
       "119582  gid:0110119583  identifier 0110119583 [id/0110119583]   url  \n",
       "119583  gid:0110119584  identifier 0110119584 [id/0110119584]   urn  \n",
       "119584  gid:0110119585  identifier 0110119585 [id/0110119585]  isbn  \n",
       "119585  gid:0110119586  identifier 0110119586 [id/0110119586]   url  \n",
       "119586  gid:0110119587  identifier 0110119587 [id/0110119587]  isbn  \n",
       "119587  gid:0110119588  identifier 0110119588 [id/0110119588]   urn  \n",
       "119588  gid:0110119589  identifier 0110119589 [id/0110119589]   url  \n",
       "119589  gid:0110119590  identifier 0110119590 [id/0110119590]   urn  \n",
       "119590  gid:0110119591  identifier 0110119591 [id/0110119591]   url  \n",
       "119591  gid:0110119592  identifier 0110119592 [id/0110119592]   urn  \n",
       "119592  gid:0110119593  identifier 0110119593 [id/0110119593]   url  \n",
       "119593  gid:0110119594  identifier 0110119594 [id/0110119594]   urn  \n",
       "119594  gid:0110119595  identifier 0110119595 [id/0110119595]   url  \n",
       "119595  gid:0110119596  identifier 0110119596 [id/0110119596]   urn  \n",
       "119596  gid:0110119597  identifier 0110119597 [id/0110119597]  isbn  \n",
       "119597  gid:0110119598  identifier 0110119598 [id/0110119598]  isbn  \n",
       "119598  gid:0110119599  identifier 0110119599 [id/0110119599]   urn  \n",
       "119599  gid:0110119600  identifier 0110119600 [id/0110119600]   url  \n",
       "119600  gid:0110119601  identifier 0110119601 [id/0110119601]   urn  \n",
       "119601  gid:0110119602  identifier 0110119602 [id/0110119602]   urn  \n",
       "119602  gid:0110119603  identifier 0110119603 [id/0110119603]  isbn  \n",
       "119603  gid:0110119604  identifier 0110119604 [id/0110119604]   urn  \n",
       "119604  gid:0110119605  identifier 0110119605 [id/0110119605]   urn  \n",
       "119605  gid:0110119606  identifier 0110119606 [id/0110119606]   url  \n",
       "119606  gid:0110119607  identifier 0110119607 [id/0110119607]   urn  \n",
       "119607  gid:0110119608  identifier 0110119608 [id/0110119608]  isbn  \n",
       "119608  gid:0110119609  identifier 0110119609 [id/0110119609]   url  \n",
       "119609  gid:0110119610  identifier 0110119610 [id/0110119610]   urn  \n",
       "119610  gid:0110119611  identifier 0110119611 [id/0110119611]   urn  \n",
       "\n",
       "[119611 rows x 5 columns]"
      ]
     },
     "execution_count": 78,
     "metadata": {},
     "output_type": "execute_result"
    }
   ],
   "source": [
    "iddf[]"
   ]
  },
  {
   "cell_type": "code",
   "execution_count": 72,
   "metadata": {
    "collapsed": false
   },
   "outputs": [],
   "source": [
    "iddf=iddf[[\"id\",\"iri\",\"label\"]]"
   ]
  },
  {
   "cell_type": "code",
   "execution_count": 80,
   "metadata": {
    "collapsed": false
   },
   "outputs": [],
   "source": [
    "iddf=iddf[[\"iri\",\"label\"]]"
   ]
  },
  {
   "cell_type": "code",
   "execution_count": 82,
   "metadata": {
    "collapsed": false
   },
   "outputs": [
    {
     "name": "stderr",
     "output_type": "stream",
     "text": [
      "C:\\Program Files\\Anaconda2\\envs\\python3\\lib\\site-packages\\pandas\\core\\generic.py:2701: SettingWithCopyWarning: \n",
      "A value is trying to be set on a copy of a slice from a DataFrame.\n",
      "Try using .loc[row_indexer,col_indexer] = value instead\n",
      "\n",
      "See the caveats in the documentation: http://pandas.pydata.org/pandas-docs/stable/indexing.html#indexing-view-versus-copy\n",
      "  self[name] = value\n"
     ]
    }
   ],
   "source": [
    "iddf.iri=iddf.iri.apply(lambda x:x.replace(\"gid:\",\"\").replace(\" \",\"\"))"
   ]
  },
  {
   "cell_type": "code",
   "execution_count": 88,
   "metadata": {
    "collapsed": false
   },
   "outputs": [
    {
     "name": "stderr",
     "output_type": "stream",
     "text": [
      "C:\\Program Files\\Anaconda2\\envs\\python3\\lib\\site-packages\\pandas\\core\\generic.py:2701: SettingWithCopyWarning: \n",
      "A value is trying to be set on a copy of a slice from a DataFrame.\n",
      "Try using .loc[row_indexer,col_indexer] = value instead\n",
      "\n",
      "See the caveats in the documentation: http://pandas.pydata.org/pandas-docs/stable/indexing.html#indexing-view-versus-copy\n",
      "  self[name] = value\n"
     ]
    }
   ],
   "source": [
    "iddf.label=iddf.label.apply(lambda x:x.replace(\"identifier \",\"\").replace(\"[id/\",\"\").replace(\"]\",\"\").split(\" \")).apply(set)"
   ]
  },
  {
   "cell_type": "code",
   "execution_count": 90,
   "metadata": {
    "collapsed": false
   },
   "outputs": [
    {
     "name": "stderr",
     "output_type": "stream",
     "text": [
      "C:\\Program Files\\Anaconda2\\envs\\python3\\lib\\site-packages\\ipykernel\\__main__.py:1: SettingWithCopyWarning: \n",
      "A value is trying to be set on a copy of a slice from a DataFrame.\n",
      "Try using .loc[row_indexer,col_indexer] = value instead\n",
      "\n",
      "See the caveats in the documentation: http://pandas.pydata.org/pandas-docs/stable/indexing.html#indexing-view-versus-copy\n",
      "  if __name__ == '__main__':\n"
     ]
    }
   ],
   "source": [
    "iddf[\"lenlab\"]=iddf.label.apply(len)"
   ]
  },
  {
   "cell_type": "code",
   "execution_count": 92,
   "metadata": {
    "collapsed": false
   },
   "outputs": [
    {
     "data": {
      "text/html": [
       "<div>\n",
       "<table border=\"1\" class=\"dataframe\">\n",
       "  <thead>\n",
       "    <tr style=\"text-align: right;\">\n",
       "      <th></th>\n",
       "      <th>iri</th>\n",
       "      <th>label</th>\n",
       "      <th>lenlab</th>\n",
       "    </tr>\n",
       "  </thead>\n",
       "  <tbody>\n",
       "  </tbody>\n",
       "</table>\n",
       "</div>"
      ],
      "text/plain": [
       "Empty DataFrame\n",
       "Columns: [iri, label, lenlab]\n",
       "Index: []"
      ]
     },
     "execution_count": 92,
     "metadata": {},
     "output_type": "execute_result"
    }
   ],
   "source": [
    "iddf[iddf.lenlab>1]"
   ]
  },
  {
   "cell_type": "code",
   "execution_count": 94,
   "metadata": {
    "collapsed": false
   },
   "outputs": [],
   "source": [
    "iddf=iddf[[\"iri\",\"label\"]]"
   ]
  },
  {
   "cell_type": "code",
   "execution_count": 97,
   "metadata": {
    "collapsed": false
   },
   "outputs": [
    {
     "name": "stderr",
     "output_type": "stream",
     "text": [
      "C:\\Program Files\\Anaconda2\\envs\\python3\\lib\\site-packages\\pandas\\core\\generic.py:2701: SettingWithCopyWarning: \n",
      "A value is trying to be set on a copy of a slice from a DataFrame.\n",
      "Try using .loc[row_indexer,col_indexer] = value instead\n",
      "\n",
      "See the caveats in the documentation: http://pandas.pydata.org/pandas-docs/stable/indexing.html#indexing-view-versus-copy\n",
      "  self[name] = value\n"
     ]
    }
   ],
   "source": [
    "iddf.label=iddf.label.apply(lambda x:list(x)[0])"
   ]
  },
  {
   "cell_type": "code",
   "execution_count": 99,
   "metadata": {
    "collapsed": false
   },
   "outputs": [
    {
     "data": {
      "text/html": [
       "<div>\n",
       "<table border=\"1\" class=\"dataframe\">\n",
       "  <thead>\n",
       "    <tr style=\"text-align: right;\">\n",
       "      <th></th>\n",
       "      <th>iri</th>\n",
       "      <th>label</th>\n",
       "    </tr>\n",
       "  </thead>\n",
       "  <tbody>\n",
       "  </tbody>\n",
       "</table>\n",
       "</div>"
      ],
      "text/plain": [
       "Empty DataFrame\n",
       "Columns: [iri, label]\n",
       "Index: []"
      ]
     },
     "execution_count": 99,
     "metadata": {},
     "output_type": "execute_result"
    }
   ],
   "source": [
    "iddf[iddf.iri!=iddf.label]"
   ]
  },
  {
   "cell_type": "code",
   "execution_count": 113,
   "metadata": {
    "collapsed": false
   },
   "outputs": [
    {
     "data": {
      "text/plain": [
       "119611"
      ]
     },
     "execution_count": 113,
     "metadata": {},
     "output_type": "execute_result"
    }
   ],
   "source": [
    "len(iddf)"
   ]
  },
  {
   "cell_type": "code",
   "execution_count": 114,
   "metadata": {
    "collapsed": false
   },
   "outputs": [
    {
     "data": {
      "text/plain": [
       "119611"
      ]
     },
     "execution_count": 114,
     "metadata": {},
     "output_type": "execute_result"
    }
   ],
   "source": [
    "len(set(iddf.iri))"
   ]
  },
  {
   "cell_type": "markdown",
   "metadata": {},
   "source": [
    "# reference"
   ]
  },
  {
   "cell_type": "code",
   "execution_count": 148,
   "metadata": {
    "collapsed": true
   },
   "outputs": [],
   "source": [
    "br_list=br_list[['iri', 'label',\n",
    "       'reference']]"
   ]
  },
  {
   "cell_type": "code",
   "execution_count": 149,
   "metadata": {
    "collapsed": false
   },
   "outputs": [],
   "source": [
    "ref_def=br_list[~br_list.reference.isnull()]"
   ]
  },
  {
   "cell_type": "code",
   "execution_count": 150,
   "metadata": {
    "collapsed": false
   },
   "outputs": [],
   "source": [
    "lrdf=[]\n",
    "for item in list(ref_def.reference):\n",
    "    for item1 in item:\n",
    "        lrdf.append(item1)\n",
    "        "
   ]
  },
  {
   "cell_type": "code",
   "execution_count": 151,
   "metadata": {
    "collapsed": false
   },
   "outputs": [],
   "source": [
    "lrdf=pd.DataFrame(lrdf)"
   ]
  },
  {
   "cell_type": "code",
   "execution_count": 152,
   "metadata": {
    "collapsed": false
   },
   "outputs": [
    {
     "data": {
      "text/plain": [
       "{'entry'}"
      ]
     },
     "execution_count": 152,
     "metadata": {},
     "output_type": "execute_result"
    }
   ],
   "source": [
    "set(lrdf.a)"
   ]
  },
  {
   "cell_type": "code",
   "execution_count": 153,
   "metadata": {
    "collapsed": false
   },
   "outputs": [
    {
     "data": {
      "text/plain": [
       "1148424"
      ]
     },
     "execution_count": 153,
     "metadata": {},
     "output_type": "execute_result"
    }
   ],
   "source": [
    "len(lrdf)"
   ]
  },
  {
   "cell_type": "code",
   "execution_count": 154,
   "metadata": {
    "collapsed": false
   },
   "outputs": [],
   "source": [
    "lrdf=lrdf[[\"crossref\",\"iri\",\"label\"]]"
   ]
  },
  {
   "cell_type": "code",
   "execution_count": 155,
   "metadata": {
    "collapsed": false
   },
   "outputs": [
    {
     "data": {
      "text/plain": [
       "set()"
      ]
     },
     "execution_count": 155,
     "metadata": {},
     "output_type": "execute_result"
    }
   ],
   "source": [
    "set(lrdf.crossref)-set(br_list.iri)"
   ]
  },
  {
   "cell_type": "code",
   "execution_count": 156,
   "metadata": {
    "collapsed": false
   },
   "outputs": [],
   "source": [
    "lrdf=lrdf[[\"iri\",\"label\"]]"
   ]
  },
  {
   "cell_type": "code",
   "execution_count": 157,
   "metadata": {
    "collapsed": false
   },
   "outputs": [],
   "source": [
    "lrdf.iri=lrdf.iri.apply(lambda x:x.replace(\"gbe:\",\"\"))"
   ]
  },
  {
   "cell_type": "code",
   "execution_count": 158,
   "metadata": {
    "collapsed": false
   },
   "outputs": [],
   "source": [
    "lrdf.label=lrdf.label.apply(lambda x:x.replace(\"bibliographic entry \",\"\").replace(\"[be/\",\"\").replace(\"]\",\"\").split(\" \")).apply(set)"
   ]
  },
  {
   "cell_type": "code",
   "execution_count": 159,
   "metadata": {
    "collapsed": false
   },
   "outputs": [],
   "source": [
    "lrdf[\"lenlabel\"]=lrdf.label.apply(len)"
   ]
  },
  {
   "cell_type": "code",
   "execution_count": 160,
   "metadata": {
    "collapsed": false
   },
   "outputs": [
    {
     "data": {
      "text/html": [
       "<div>\n",
       "<table border=\"1\" class=\"dataframe\">\n",
       "  <thead>\n",
       "    <tr style=\"text-align: right;\">\n",
       "      <th></th>\n",
       "      <th>iri</th>\n",
       "      <th>label</th>\n",
       "      <th>lenlabel</th>\n",
       "    </tr>\n",
       "  </thead>\n",
       "  <tbody>\n",
       "  </tbody>\n",
       "</table>\n",
       "</div>"
      ],
      "text/plain": [
       "Empty DataFrame\n",
       "Columns: [iri, label, lenlabel]\n",
       "Index: []"
      ]
     },
     "execution_count": 160,
     "metadata": {},
     "output_type": "execute_result"
    }
   ],
   "source": [
    "lrdf[lrdf.lenlabel>1]"
   ]
  },
  {
   "cell_type": "code",
   "execution_count": 161,
   "metadata": {
    "collapsed": false
   },
   "outputs": [],
   "source": [
    "lrdf.label=lrdf.label.apply(lambda x:list(x)[0])"
   ]
  },
  {
   "cell_type": "code",
   "execution_count": 164,
   "metadata": {
    "collapsed": false
   },
   "outputs": [
    {
     "data": {
      "text/html": [
       "<div>\n",
       "<table border=\"1\" class=\"dataframe\">\n",
       "  <thead>\n",
       "    <tr style=\"text-align: right;\">\n",
       "      <th></th>\n",
       "      <th>iri</th>\n",
       "      <th>label</th>\n",
       "      <th>lenlabel</th>\n",
       "    </tr>\n",
       "  </thead>\n",
       "  <tbody>\n",
       "  </tbody>\n",
       "</table>\n",
       "</div>"
      ],
      "text/plain": [
       "Empty DataFrame\n",
       "Columns: [iri, label, lenlabel]\n",
       "Index: []"
      ]
     },
     "execution_count": 164,
     "metadata": {},
     "output_type": "execute_result"
    }
   ],
   "source": [
    "lrdf[lrdf.iri!=lrdf.label]"
   ]
  },
  {
   "cell_type": "markdown",
   "metadata": {},
   "source": [
    "# iri , label"
   ]
  },
  {
   "cell_type": "code",
   "execution_count": 165,
   "metadata": {
    "collapsed": true
   },
   "outputs": [],
   "source": [
    "br_list=br_list[['iri', 'label']]"
   ]
  },
  {
   "cell_type": "code",
   "execution_count": 167,
   "metadata": {
    "collapsed": false
   },
   "outputs": [],
   "source": [
    "br_list.iri=br_list.iri.apply(lambda x:x.replace(\"gbr:\",\"\"))"
   ]
  },
  {
   "cell_type": "code",
   "execution_count": 169,
   "metadata": {
    "collapsed": false
   },
   "outputs": [],
   "source": [
    "br_list.label=br_list.label.apply(lambda x:x.replace(\"bibliographic resource \",\"\").replace(\"[br/\",\"\").replace(\"]\",\"\").split(\" \"))"
   ]
  },
  {
   "cell_type": "code",
   "execution_count": 171,
   "metadata": {
    "collapsed": false
   },
   "outputs": [],
   "source": [
    "br_list.label=br_list.label.apply(lambda x:set(x))"
   ]
  },
  {
   "cell_type": "code",
   "execution_count": 173,
   "metadata": {
    "collapsed": false
   },
   "outputs": [],
   "source": [
    "br_list[\"lenlabel\"]=br_list.label.apply(len)"
   ]
  },
  {
   "cell_type": "code",
   "execution_count": 175,
   "metadata": {
    "collapsed": false
   },
   "outputs": [
    {
     "data": {
      "text/html": [
       "<div>\n",
       "<table border=\"1\" class=\"dataframe\">\n",
       "  <thead>\n",
       "    <tr style=\"text-align: right;\">\n",
       "      <th></th>\n",
       "      <th>iri</th>\n",
       "      <th>label</th>\n",
       "      <th>lenlabel</th>\n",
       "    </tr>\n",
       "  </thead>\n",
       "  <tbody>\n",
       "  </tbody>\n",
       "</table>\n",
       "</div>"
      ],
      "text/plain": [
       "Empty DataFrame\n",
       "Columns: [iri, label, lenlabel]\n",
       "Index: []"
      ]
     },
     "execution_count": 175,
     "metadata": {},
     "output_type": "execute_result"
    }
   ],
   "source": [
    "br_list[br_list.lenlabel>1]"
   ]
  },
  {
   "cell_type": "code",
   "execution_count": 178,
   "metadata": {
    "collapsed": false
   },
   "outputs": [],
   "source": [
    "br_list=br_list[[\"iri\",\"label\"]]"
   ]
  },
  {
   "cell_type": "code",
   "execution_count": 181,
   "metadata": {
    "collapsed": false
   },
   "outputs": [
    {
     "name": "stderr",
     "output_type": "stream",
     "text": [
      "C:\\Program Files\\Anaconda2\\envs\\python3\\lib\\site-packages\\pandas\\core\\generic.py:2701: SettingWithCopyWarning: \n",
      "A value is trying to be set on a copy of a slice from a DataFrame.\n",
      "Try using .loc[row_indexer,col_indexer] = value instead\n",
      "\n",
      "See the caveats in the documentation: http://pandas.pydata.org/pandas-docs/stable/indexing.html#indexing-view-versus-copy\n",
      "  self[name] = value\n"
     ]
    }
   ],
   "source": [
    "br_list.label=br_list.label.apply(lambda x: list(x)[0])"
   ]
  },
  {
   "cell_type": "code",
   "execution_count": 183,
   "metadata": {
    "collapsed": false
   },
   "outputs": [
    {
     "data": {
      "text/html": [
       "<div>\n",
       "<table border=\"1\" class=\"dataframe\">\n",
       "  <thead>\n",
       "    <tr style=\"text-align: right;\">\n",
       "      <th></th>\n",
       "      <th>iri</th>\n",
       "      <th>label</th>\n",
       "    </tr>\n",
       "  </thead>\n",
       "  <tbody>\n",
       "  </tbody>\n",
       "</table>\n",
       "</div>"
      ],
      "text/plain": [
       "Empty DataFrame\n",
       "Columns: [iri, label]\n",
       "Index: []"
      ]
     },
     "execution_count": 183,
     "metadata": {},
     "output_type": "execute_result"
    }
   ],
   "source": [
    "br_list[br_list.iri!=br_list.label]"
   ]
  },
  {
   "cell_type": "code",
   "execution_count": 184,
   "metadata": {
    "collapsed": false
   },
   "outputs": [
    {
     "data": {
      "text/plain": [
       "1050978"
      ]
     },
     "execution_count": 184,
     "metadata": {},
     "output_type": "execute_result"
    }
   ],
   "source": [
    "len(br_list)"
   ]
  },
  {
   "cell_type": "code",
   "execution_count": 185,
   "metadata": {
    "collapsed": false
   },
   "outputs": [
    {
     "data": {
      "text/plain": [
       "1050978"
      ]
     },
     "execution_count": 185,
     "metadata": {},
     "output_type": "execute_result"
    }
   ],
   "source": [
    "len(set(br_list.iri))"
   ]
  },
  {
   "cell_type": "code",
   "execution_count": null,
   "metadata": {
    "collapsed": true
   },
   "outputs": [],
   "source": []
  }
 ],
 "metadata": {
  "anaconda-cloud": {},
  "kernelspec": {
   "display_name": "Python 3",
   "language": "python",
   "name": "python3"
  },
  "language_info": {
   "codemirror_mode": {
    "name": "ipython",
    "version": 3
   },
   "file_extension": ".py",
   "mimetype": "text/x-python",
   "name": "python",
   "nbconvert_exporter": "python",
   "pygments_lexer": "ipython3",
   "version": "3.5.2"
  }
 },
 "nbformat": 4,
 "nbformat_minor": 1
}
